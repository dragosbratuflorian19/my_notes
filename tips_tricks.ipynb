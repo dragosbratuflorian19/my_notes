{
 "cells": [
  {
   "cell_type": "markdown",
   "metadata": {},
   "source": [
    "# Tips and tricks"
   ]
  },
  {
   "cell_type": "markdown",
   "metadata": {},
   "source": [
    "### If-else"
   ]
  },
  {
   "cell_type": "code",
   "execution_count": 8,
   "metadata": {},
   "outputs": [
    {
     "name": "stdout",
     "output_type": "stream",
     "text": [
      "Dragos\n"
     ]
    }
   ],
   "source": [
    "condition = True\n",
    "x = 'Dragos' if condition == True else 'Florian'\n",
    "print(x)"
   ]
  },
  {
   "cell_type": "markdown",
   "metadata": {},
   "source": [
    "### Long numbers separator"
   ]
  },
  {
   "cell_type": "code",
   "execution_count": 9,
   "metadata": {},
   "outputs": [
    {
     "name": "stdout",
     "output_type": "stream",
     "text": [
      "110_000_000\n"
     ]
    }
   ],
   "source": [
    "x1 = 100_000_000\n",
    "x2 = 10_000_000\n",
    "total = x1 + x2\n",
    "print(f'{total:_}')"
   ]
  },
  {
   "cell_type": "markdown",
   "metadata": {},
   "source": [
    "### Unpacking"
   ]
  },
  {
   "cell_type": "code",
   "execution_count": 10,
   "metadata": {},
   "outputs": [
    {
     "name": "stdout",
     "output_type": "stream",
     "text": [
      "1\n",
      "2\n",
      "[3, 4, 5]\n"
     ]
    }
   ],
   "source": [
    "a, b, *c = (1, 2, 3, 4, 5)\n",
    "print(a)\n",
    "print(b)\n",
    "print(c)\n"
   ]
  },
  {
   "cell_type": "code",
   "execution_count": 11,
   "metadata": {},
   "outputs": [
    {
     "name": "stdout",
     "output_type": "stream",
     "text": [
      "1\n",
      "2\n"
     ]
    }
   ],
   "source": [
    "a, b, *_ = (1, 2, 3, 4, 5)\n",
    "print(a)\n",
    "print(b)"
   ]
  },
  {
   "cell_type": "markdown",
   "metadata": {},
   "source": [
    "### Class atributes from dictionary:"
   ]
  },
  {
   "cell_type": "code",
   "execution_count": 14,
   "metadata": {},
   "outputs": [
    {
     "name": "stdout",
     "output_type": "stream",
     "text": [
      "Manchester United\n",
      "UTD\n",
      "red devils\n"
     ]
    }
   ],
   "source": [
    "my_dict = {'name': 'Manchester United', 'short':'UTD', 'nick':'red devils'}\n",
    "\n",
    "class MyClass:\n",
    "    pass\n",
    "\n",
    "team = MyClass()\n",
    "\n",
    "for key, value in my_dict.items():\n",
    "    setattr(team, key, value)\n",
    "\n",
    "for key in my_dict.keys():\n",
    "    print(getattr(team, key))"
   ]
  },
  {
   "cell_type": "markdown",
   "metadata": {},
   "source": [
    "### To get the attributes from a module:"
   ]
  },
  {
   "cell_type": "code",
   "execution_count": 20,
   "metadata": {},
   "outputs": [
    {
     "name": "stdout",
     "output_type": "stream",
     "text": [
      "['__add__', '__class__', '__delattr__', '__dir__', '__doc__', '__eq__', '__format__', '__ge__', '__getattribute__', '__gt__', '__hash__', '__init__', '__init_subclass__', '__le__', '__lt__', '__ne__', '__new__', '__radd__', '__reduce__', '__reduce_ex__', '__repr__', '__rsub__', '__setattr__', '__sizeof__', '__str__', '__sub__', '__subclasshook__', 'astimezone', 'combine', 'ctime', 'date', 'day', 'dst', 'fold', 'fromisoformat', 'fromordinal', 'fromtimestamp', 'hour', 'isocalendar', 'isoformat', 'isoweekday', 'max', 'microsecond', 'min', 'minute', 'month', 'now', 'replace', 'resolution', 'second', 'strftime', 'strptime', 'time', 'timestamp', 'timetuple', 'timetz', 'today', 'toordinal', 'tzinfo', 'tzname', 'utcfromtimestamp', 'utcnow', 'utcoffset', 'utctimetuple', 'weekday', 'year']\n"
     ]
    }
   ],
   "source": [
    "from datetime import datetime\n",
    "print(dir(datetime))"
   ]
  },
  {
   "cell_type": "markdown",
   "metadata": {},
   "source": [
    "### Printing a reversed list:"
   ]
  },
  {
   "cell_type": "code",
   "execution_count": 23,
   "metadata": {},
   "outputs": [
    {
     "name": "stdout",
     "output_type": "stream",
     "text": [
      "3 2 1 "
     ]
    }
   ],
   "source": [
    "my_list = [1, 2, 3]\n",
    "for item in reversed(my_list):\n",
    "    print(item, end=' ')"
   ]
  },
  {
   "cell_type": "code",
   "execution_count": 36,
   "metadata": {},
   "outputs": [
    {
     "name": "stdout",
     "output_type": "stream",
     "text": [
      "Dragos supports Manchester United.\n",
      "Vlad supports Liverpool.\n",
      "Iulian supports Tottenham.\n",
      "Turky supports Arsenal.\n"
     ]
    }
   ],
   "source": [
    "suporters = ['Dragos', 'Vlad', 'Iulian', 'Turky']\n",
    "teams = ['Manchester United', 'Liverpool', 'Tottenham', 'Arsenal']\n",
    "for suporter, team in zip(suporters, teams):\n",
    "    print(f'{suporter} supports {team}.')\n"
   ]
  },
  {
   "cell_type": "markdown",
   "metadata": {},
   "source": [
    "### Custom sorting:"
   ]
  },
  {
   "cell_type": "code",
   "execution_count": 38,
   "metadata": {},
   "outputs": [
    {
     "name": "stdout",
     "output_type": "stream",
     "text": [
      "['Vlad', 'Giuly', 'Dragos']\n"
     ]
    }
   ],
   "source": [
    "my_list = ['Dragos', 'Vlad', 'Giuly']\n",
    "print(sorted(my_list, key=len))"
   ]
  },
  {
   "cell_type": "markdown",
   "metadata": {},
   "source": [
    "### Call a function until a sentinel value"
   ]
  },
  {
   "cell_type": "code",
   "execution_count": 82,
   "metadata": {},
   "outputs": [
    {
     "name": "stdout",
     "output_type": "stream",
     "text": [
      "1. Python\n",
      "    1.1 General\n",
      "    1.\n",
      "2 Pandas\n",
      "    1.3 Numpy\n",
      "    1.4 M\n",
      "atPlotLib ❌️\n",
      "    1.5 Scikit-Lear\n",
      "n\n",
      "    1.6 SQLite3\n",
      "    1.7 Others\n",
      "\n",
      "\n",
      "2. SQL\n",
      "\n",
      "3. Apache Spark\n",
      "\n",
      "4. Ma\n",
      "th\n",
      "    4.1 Linear Algebra\n",
      "    4.\n",
      "2 Statistics and Combinatorics\n",
      "\n",
      "\n",
      "5. ML\n",
      "    5.1 k-NN\n",
      "    5.2 Naive\n",
      " Bayes ❌️\n",
      "    5.3 SVM\n",
      "    5.4 De\n",
      "cision Forests ❌️\n",
      "\n",
      "6. Github\n",
      "\n",
      "7.\n",
      " Tableau ❌️\n",
      "\n",
      "8. Linux\n",
      "\n",
      "9. Tensor\n",
      "Flow\n",
      "10. PyTorch\n",
      "\n",
      "11. A/B testin\n",
      "g ❌️\n",
      "12. MongoDB ❌️\n",
      "\n"
     ]
    }
   ],
   "source": [
    "from functools import partial\n",
    "with open('ToLearn', 'r') as f:\n",
    "    blocks = []\n",
    "    for block in iter(partial(f.read, 32), ''): # \"\" the sentinel value\n",
    "        blocks.append(block)\n",
    "print(*blocks, sep='\\n')"
   ]
  },
  {
   "cell_type": "markdown",
   "metadata": {},
   "source": [
    "### Finding something in a loop"
   ]
  },
  {
   "cell_type": "code",
   "execution_count": 52,
   "metadata": {},
   "outputs": [
    {
     "name": "stdout",
     "output_type": "stream",
     "text": [
      "ARS\n"
     ]
    }
   ],
   "source": [
    "my_list = ['UTD', 'CHE', 'ARS', 'LIV']\n",
    "def find(sequence, target):\n",
    "    for i, value in enumerate(sequence):\n",
    "        if value == target:\n",
    "            break\n",
    "    else:\n",
    "        return -1\n",
    "    return i\n",
    "\n",
    "print(my_list[find(my_list, 'ARS')])"
   ]
  },
  {
   "cell_type": "markdown",
   "metadata": {},
   "source": [
    "### Construct a dictionary:"
   ]
  },
  {
   "cell_type": "code",
   "execution_count": 54,
   "metadata": {},
   "outputs": [
    {
     "name": "stdout",
     "output_type": "stream",
     "text": [
      "{'Dragos': 'Utd', 'Vlad': 'Liv', 'Giuly': 'Tot'}\n"
     ]
    }
   ],
   "source": [
    "names = ['Dragos', 'Vlad', 'Giuly']\n",
    "teams = ['Utd', 'Liv', 'Tot']\n",
    "my_dict = dict(zip(names, teams))\n",
    "print(my_dict)"
   ]
  },
  {
   "cell_type": "markdown",
   "metadata": {},
   "source": [
    "### Counting items inside a dictionary: defaultdict(int)"
   ]
  },
  {
   "cell_type": "code",
   "execution_count": 61,
   "metadata": {},
   "outputs": [
    {
     "name": "stdout",
     "output_type": "stream",
     "text": [
      "defaultdict(<class 'int'>, {'Utd': 3, 'Ars': 1, 'Liv': 1, 'Che': 2})\n"
     ]
    }
   ],
   "source": [
    "from collections import defaultdict\n",
    "d = defaultdict(int)\n",
    "my_list = ['Utd', 'Ars', 'Liv', 'Che', 'Utd', 'Che', 'Utd']\n",
    "for item in my_list:\n",
    "    d[item] += 1\n",
    "print(d)"
   ]
  },
  {
   "cell_type": "markdown",
   "metadata": {},
   "source": [
    "### Grouping things inside a dictionary: defaultdict(list)"
   ]
  },
  {
   "cell_type": "code",
   "execution_count": 63,
   "metadata": {},
   "outputs": [
    {
     "name": "stdout",
     "output_type": "stream",
     "text": [
      "defaultdict(<class 'list'>, {6: ['United', 'Bayern'], 4: ['Real', 'Lyon'], 7: ['Arsenal', 'Chelsea'], 9: ['Liverpool']})\n"
     ]
    }
   ],
   "source": [
    "from collections import defaultdict\n",
    "d = defaultdict(list)\n",
    "my_list = ['United', 'Real', 'Arsenal', 'Lyon', 'Chelsea', 'Liverpool', 'Bayern']\n",
    "for item in my_list:\n",
    "    key = len(item)\n",
    "    d[key].append(item)\n",
    "print(d)"
   ]
  },
  {
   "cell_type": "markdown",
   "metadata": {},
   "source": [
    "### Linking dictionaries"
   ]
  },
  {
   "cell_type": "code",
   "execution_count": 66,
   "metadata": {},
   "outputs": [
    {
     "name": "stdout",
     "output_type": "stream",
     "text": [
      "ChainMap({'Dragos': 'United'}, {'Dragos': 'Utd', 'Vlad': 'Liv', 'Giuly': 'Tot'}, {'Vlad': 'Liverpool'})\n"
     ]
    }
   ],
   "source": [
    "from collections import ChainMap\n",
    "\n",
    "first_dict = {'Dragos': 'United'}\n",
    "second_dict = {'Dragos': 'Utd', 'Vlad': 'Liv', 'Giuly': 'Tot'}\n",
    "defaults = {'Vlad': 'Liverpool'}\n",
    "third = ChainMap(first_dict, second_dict, defaults) \n",
    "print(third)"
   ]
  },
  {
   "cell_type": "markdown",
   "metadata": {},
   "source": [
    "### Named tuples"
   ]
  },
  {
   "cell_type": "code",
   "execution_count": 78,
   "metadata": {},
   "outputs": [
    {
     "name": "stdout",
     "output_type": "stream",
     "text": [
      "<class '__main__.TestResults'>\n"
     ]
    }
   ],
   "source": [
    "from collections import namedtuple\n",
    "TestResults = namedtuple('TestResults', ['failed', 'attempted'])\n",
    "TestResults.failed = 0\n",
    "TestResults.attempted = 4\n",
    "print(TestResults)"
   ]
  },
  {
   "cell_type": "markdown",
   "metadata": {},
   "source": [
    "### Try except block"
   ]
  },
  {
   "cell_type": "code",
   "execution_count": 80,
   "metadata": {},
   "outputs": [
    {
     "name": "stdout",
     "output_type": "stream",
     "text": [
      "Converting\n",
      "1\n",
      "Conversion successful\n",
      "Done\n"
     ]
    }
   ],
   "source": [
    "print('Converting')\n",
    "try:\n",
    "    print(int('1'))\n",
    "except:\n",
    "    print('Conversion failed')\n",
    "else:\n",
    "    print('Conversion successful')\n",
    "finally:\n",
    "    print('Done')"
   ]
  },
  {
   "cell_type": "markdown",
   "metadata": {},
   "source": [
    "img src=\"images/linear_regression.png\",width=60,height=60>"
   ]
  },
  {
   "cell_type": "code",
   "execution_count": null,
   "metadata": {},
   "outputs": [],
   "source": []
  }
 ],
 "metadata": {
  "kernelspec": {
   "display_name": "Python 3",
   "language": "python",
   "name": "python3"
  },
  "language_info": {
   "codemirror_mode": {
    "name": "ipython",
    "version": 3
   },
   "file_extension": ".py",
   "mimetype": "text/x-python",
   "name": "python",
   "nbconvert_exporter": "python",
   "pygments_lexer": "ipython3",
   "version": "3.7.6"
  }
 },
 "nbformat": 4,
 "nbformat_minor": 2
}
