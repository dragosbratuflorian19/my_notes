{
 "cells": [
  {
   "cell_type": "markdown",
   "metadata": {},
   "source": [
    "# Numpy notes"
   ]
  },
  {
   "cell_type": "code",
   "execution_count": 1,
   "metadata": {},
   "outputs": [],
   "source": [
    "import numpy as np"
   ]
  },
  {
   "cell_type": "markdown",
   "metadata": {},
   "source": [
    "#### Create an array"
   ]
  },
  {
   "cell_type": "code",
   "execution_count": 2,
   "metadata": {},
   "outputs": [
    {
     "name": "stdout",
     "output_type": "stream",
     "text": [
      "[[1 2 3]\n",
      " [4 5 6]]\n"
     ]
    }
   ],
   "source": [
    "a = np.array([[1, 2, 3], [4, 5, 6]])\n",
    "print(a)"
   ]
  },
  {
   "cell_type": "markdown",
   "metadata": {},
   "source": [
    "### It takes less memory"
   ]
  },
  {
   "cell_type": "code",
   "execution_count": 7,
   "metadata": {},
   "outputs": [
    {
     "name": "stdout",
     "output_type": "stream",
     "text": [
      "Normal range: 28000\n",
      "Numpy range: 4000\n"
     ]
    }
   ],
   "source": [
    "import sys\n",
    "\n",
    "s = range(1000)\n",
    "print('Normal range:',sys.getsizeof(5) * len(s))\n",
    "d = np.arange(1000)\n",
    "print('Numpy range:',d.size * d.itemsize)"
   ]
  },
  {
   "cell_type": "markdown",
   "metadata": {},
   "source": [
    "### It's faster"
   ]
  },
  {
   "cell_type": "code",
   "execution_count": 9,
   "metadata": {},
   "outputs": [
    {
     "name": "stdout",
     "output_type": "stream",
     "text": [
      "Normal range: 188.51041793823242\n",
      "Numpy range: 48.375606536865234\n"
     ]
    }
   ],
   "source": [
    "import time\n",
    "l1, l2 = range(1000000), range(1000000)\n",
    "a1, a2 = np.arange(1000000), np.arange(1000000)\n",
    "\n",
    "start = time.time()\n",
    "result = [(x, y) for x, y in zip(l1, l2)]\n",
    "print('Normal range:',(time.time() - start) * 1000)\n",
    "\n",
    "start = time.time()\n",
    "result = a1 + a2\n",
    "print('Numpy range:',(time.time() - start) * 1000)"
   ]
  },
  {
   "cell_type": "markdown",
   "metadata": {},
   "source": [
    "### Dim/Shape/size/Reshape"
   ]
  },
  {
   "cell_type": "code",
   "execution_count": 14,
   "metadata": {},
   "outputs": [
    {
     "name": "stdout",
     "output_type": "stream",
     "text": [
      "2\n",
      "44\n",
      "<U11\n",
      "6\n",
      "(2, 3)\n",
      "[['1' '2' '3' 'a' '32' '3']]\n"
     ]
    }
   ],
   "source": [
    "a = np.array([[1, 2, 3], ['a', 32, 3]])\n",
    "print(a.ndim)  # 2\n",
    "print(a.itemsize)  # 44\n",
    "print(a.dtype)  # <U11\n",
    "print(a.size)  # 6\n",
    "print(a.shape)  # (2,3)\n",
    "print(a.reshape(1, -1))  # [['1' '2' '3' 'a' '32' '3']]"
   ]
  },
  {
   "cell_type": "markdown",
   "metadata": {},
   "source": [
    "### Slicing"
   ]
  },
  {
   "cell_type": "code",
   "execution_count": 16,
   "metadata": {},
   "outputs": [
    {
     "name": "stdout",
     "output_type": "stream",
     "text": [
      "[['c' 'd']\n",
      " ['33' '44']]\n"
     ]
    }
   ],
   "source": [
    "a = np.array([[1, 2, 3, 4, 5],\n",
    "              ['a', 'b', 'c', 'd', 'e'],\n",
    "              [11, 22, 33, 44, 55],\n",
    "              ['A', ' B', 'C', 'D', 'E'],\n",
    "              [6, 7, 8, 9, 0],\n",
    "              ['aa', 'bb', 'cc', 'dd', 'ee']])\n",
    "print(a[1:3, 2:4])"
   ]
  },
  {
   "cell_type": "markdown",
   "metadata": {},
   "source": [
    "### Linspace/Max/Min"
   ]
  },
  {
   "cell_type": "code",
   "execution_count": 18,
   "metadata": {},
   "outputs": [
    {
     "name": "stdout",
     "output_type": "stream",
     "text": [
      "[ 0.  2.  4.  6.  8. 10.]\n",
      "10.0\n",
      "30.0\n"
     ]
    }
   ],
   "source": [
    "a = np.linspace(0, 10, 6)\n",
    "print(a)\n",
    "print(a.max())\n",
    "print(a.sum())"
   ]
  },
  {
   "cell_type": "markdown",
   "metadata": {},
   "source": [
    "### Sum on axis/sqrt"
   ]
  },
  {
   "cell_type": "code",
   "execution_count": 20,
   "metadata": {},
   "outputs": [
    {
     "name": "stdout",
     "output_type": "stream",
     "text": [
      "[18 31 44 57 60]\n",
      "[ 15 165  30]\n",
      "[[1.         1.41421356 1.73205081 2.         2.23606798]\n",
      " [3.31662479 4.69041576 5.74456265 6.63324958 7.41619849]\n",
      " [2.44948974 2.64575131 2.82842712 3.         0.        ]]\n",
      "16.32993161855452\n"
     ]
    }
   ],
   "source": [
    "a = np.array([(1, 2, 3, 4, 5),\n",
    "              (11, 22, 33, 44, 55),\n",
    "              (6, 7, 8, 9, 0)])\n",
    "\n",
    "print(a.sum(axis=0))\n",
    "print(a.sum(axis=1))\n",
    "print(np.sqrt(a))\n",
    "print(np.std(a))"
   ]
  },
  {
   "cell_type": "markdown",
   "metadata": {},
   "source": [
    "### Stacking"
   ]
  },
  {
   "cell_type": "code",
   "execution_count": 35,
   "metadata": {},
   "outputs": [
    {
     "name": "stdout",
     "output_type": "stream",
     "text": [
      "[[2 2 1]\n",
      " [0 0 0]] \n",
      "\n",
      "[[4 4 4]\n",
      " [3 2 1]\n",
      " [2 2 3]\n",
      " [3 2 1]] \n",
      "\n",
      "\n",
      "[[4 4 4 2 2 3]\n",
      " [3 2 1 3 2 1]]\n"
     ]
    }
   ],
   "source": [
    "a = np.array([(4, 4, 4),\n",
    "              (3, 2, 1)])\n",
    "b = np.array([(2, 2, 3),\n",
    "              (3, 2, 1)])\n",
    "print(a - b, '\\n')\n",
    "print(np.vstack((a, b)), '\\n')\n",
    "print()\n",
    "print(np.hstack((a, b)))"
   ]
  },
  {
   "cell_type": "markdown",
   "metadata": {},
   "source": [
    "### Sin/Cos/Ravel"
   ]
  },
  {
   "cell_type": "code",
   "execution_count": 36,
   "metadata": {},
   "outputs": [
    {
     "name": "stdout",
     "output_type": "stream",
     "text": [
      "[4 4 4 3 2 1] \n",
      "\n",
      "[[-0.7568025  -0.7568025  -0.7568025 ]\n",
      " [ 0.14112001  0.90929743  0.84147098]] \n",
      "\n",
      "[[-0.65364362 -0.65364362 -0.65364362]\n",
      " [-0.9899925  -0.41614684  0.54030231]]\n"
     ]
    }
   ],
   "source": [
    "a = np.array([(4, 4, 4),\n",
    "              (3, 2, 1)])\n",
    "print(a.ravel(), '\\n')\n",
    "print(np.sin(a), '\\n')\n",
    "print(np.cos(a))"
   ]
  },
  {
   "cell_type": "markdown",
   "metadata": {},
   "source": [
    "### Exp/Log"
   ]
  },
  {
   "cell_type": "code",
   "execution_count": 37,
   "metadata": {},
   "outputs": [
    {
     "name": "stdout",
     "output_type": "stream",
     "text": [
      "[ 2.71828183  7.3890561  20.08553692] \n",
      "\n",
      "[0.         0.30103    0.47712125]\n"
     ]
    }
   ],
   "source": [
    "ar = np.array([1, 2, 3])\n",
    "print(np.exp(ar), '\\n')\n",
    "print(np.log10(ar))"
   ]
  },
  {
   "cell_type": "markdown",
   "metadata": {},
   "source": [
    "### Filtering"
   ]
  },
  {
   "cell_type": "code",
   "execution_count": 45,
   "metadata": {},
   "outputs": [
    {
     "name": "stdout",
     "output_type": "stream",
     "text": [
      "[1 3 5 7 9] \n",
      "\n",
      "[-1  2 -1  4 -1  6 -1  8 -1] \n",
      "\n",
      "[-1  1 -1  3 -1  5 -1  7 -1  9] \n",
      "\n",
      "[[ 1  2  3  4  5]\n",
      " [ 6  7  8  9 10]]\n"
     ]
    }
   ],
   "source": [
    "arr = np.array([1, 2, 3, 4, 5, 6, 7, 8, 9])\n",
    "print(arr[arr % 2 == 1], '\\n')\n",
    "arr[arr % 2 == 1] = -1\n",
    "print(arr, '\\n')\n",
    "a = np.arange(10)\n",
    "b = np.where(a % 2 == 0, -1, a)\n",
    "print(b, '\\n')\n",
    "arr = np.array([1, 2, 3, 4, 5, 6, 7, 8, 9, 10])\n",
    "b = np.reshape(arr, (2, -1))\n",
    "print(b)"
   ]
  },
  {
   "cell_type": "markdown",
   "metadata": {},
   "source": [
    "### Stacking"
   ]
  },
  {
   "cell_type": "code",
   "execution_count": 47,
   "metadata": {},
   "outputs": [
    {
     "name": "stdout",
     "output_type": "stream",
     "text": [
      "[[0 1 2 3 4]\n",
      " [5 6 7 8 9]] \n",
      "\n",
      "[[1 1 1 1 1]\n",
      " [1 1 1 1 1]] \n",
      "\n",
      "[[0 1 2 3 4]\n",
      " [5 6 7 8 9]\n",
      " [1 1 1 1 1]\n",
      " [1 1 1 1 1]]\n"
     ]
    }
   ],
   "source": [
    "a = np.arange(10).reshape(2, -1)\n",
    "b = np.repeat(1, 10).reshape(2, -1)\n",
    "c = np.vstack([a, b])  # hstack\n",
    "c = np.concatenate([a, b], axis=1)  # axis=0\n",
    "c = np.r_[a, b]  # c_[a, b]\n",
    "print(a, '\\n')\n",
    "print(b, '\\n')\n",
    "print(c"
   ]
  },
  {
   "cell_type": "markdown",
   "metadata": {},
   "source": [
    "### Repeat/Tile"
   ]
  },
  {
   "cell_type": "code",
   "execution_count": 54,
   "metadata": {},
   "outputs": [
    {
     "name": "stdout",
     "output_type": "stream",
     "text": [
      "[1 2 3]\n",
      "[1 1 1 2 2 2 3 3 3]\n",
      "[1 2 3 1 2 3 1 2 3]\n"
     ]
    }
   ],
   "source": [
    "a = np.array([1, 2, 3])\n",
    "print(a)\n",
    "print(np.repeat(a, 3))\n",
    "print(np.tile(a, 3))"
   ]
  },
  {
   "cell_type": "markdown",
   "metadata": {},
   "source": [
    "### Difference/Intersection"
   ]
  },
  {
   "cell_type": "code",
   "execution_count": 66,
   "metadata": {},
   "outputs": [
    {
     "name": "stdout",
     "output_type": "stream",
     "text": [
      "[1 2 3 4 5] \n",
      "\n",
      "[4 5 6 4] \n",
      "\n",
      "[4 5] \n",
      "\n",
      "[1 2 3] \n",
      "\n",
      "[2 3 4] \n",
      "\n",
      "[2 3 4]\n"
     ]
    }
   ],
   "source": [
    "a = np.array([1, 2, 3, 4, 5])\n",
    "b = np.array([4, 5, 6, 4])\n",
    "print(a, '\\n')\n",
    "print(b, '\\n')\n",
    "print(np.intersect1d(a, b), '\\n')\n",
    "print(np.setdiff1d(a, b), '\\n')\n",
    "index = np.where((a >= 2) & (a <= 4))\n",
    "print(a[index], '\\n')\n",
    "print(a[(a >= 2) & (a <= 4)])# [ 6  9 10]"
   ]
  },
  {
   "cell_type": "markdown",
   "metadata": {},
   "source": [
    "### Vectorize"
   ]
  },
  {
   "cell_type": "code",
   "execution_count": 70,
   "metadata": {},
   "outputs": [
    {
     "name": "stdout",
     "output_type": "stream",
     "text": [
      "[51 71 91 81 61 41 51]\n"
     ]
    }
   ],
   "source": [
    "a = np.array([5, 7, 9, 8, 6, 4, 5])\n",
    "b = np.array([1, 1, 1, 1, 1, 1, 1])\n",
    "\n",
    "def my_func(x, y):\n",
    "    return x * 10 + y\n",
    "\n",
    "pair_max = np.vectorize(my_func)\n",
    "print(pair_max(a, b))"
   ]
  },
  {
   "cell_type": "markdown",
   "metadata": {},
   "source": [
    "### Reversing"
   ]
  },
  {
   "cell_type": "code",
   "execution_count": 78,
   "metadata": {},
   "outputs": [
    {
     "name": "stdout",
     "output_type": "stream",
     "text": [
      "[[2 1 3]\n",
      " [5 4 6]\n",
      " [8 7 9]] \n",
      "\n",
      "[[4 5 6]\n",
      " [1 2 3]\n",
      " [7 8 9]] \n",
      "\n",
      "[[7 8 9]\n",
      " [4 5 6]\n",
      " [1 2 3]] \n",
      "\n",
      "[[3 2 1]\n",
      " [6 5 4]\n",
      " [9 8 7]] \n",
      "\n",
      "[[9 8 7]\n",
      " [6 5 4]\n",
      " [3 2 1]]\n"
     ]
    }
   ],
   "source": [
    "a = np.arange(1, 10).reshape((3,3))\n",
    "print(a[:,[1,0,2]], '\\n')\n",
    "print(a[[1,0,2], :], '\\n')\n",
    "print(a[::-1], '\\n')\n",
    "print(a[:, ::-1], '\\n')\n",
    "print(a[::-1, ::-1])"
   ]
  }
 ],
 "metadata": {
  "kernelspec": {
   "display_name": "Python 3",
   "language": "python",
   "name": "python3"
  },
  "language_info": {
   "codemirror_mode": {
    "name": "ipython",
    "version": 3
   },
   "file_extension": ".py",
   "mimetype": "text/x-python",
   "name": "python",
   "nbconvert_exporter": "python",
   "pygments_lexer": "ipython3",
   "version": "3.6.10"
  }
 },
 "nbformat": 4,
 "nbformat_minor": 4
}
