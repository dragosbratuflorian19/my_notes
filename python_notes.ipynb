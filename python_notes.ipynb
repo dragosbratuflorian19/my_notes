{
 "cells": [
  {
   "cell_type": "markdown",
   "metadata": {},
   "source": [
    "# VARIABLE ARGUMENTS"
   ]
  },
  {
   "cell_type": "code",
   "execution_count": null,
   "metadata": {},
   "outputs": [],
   "source": [
    "from sys import argv\n",
    "script, first, second, third = argv\n",
    "print(f'{first} & {second} & {third}')"
   ]
  },
  {
   "cell_type": "markdown",
   "metadata": {},
   "source": [
    "# JOIN"
   ]
  },
  {
   "cell_type": "code",
   "execution_count": null,
   "metadata": {},
   "outputs": [],
   "source": [
    "things = ['United', 'Zaha', 'Wazza', 'Chalton', 'Pogba', 'Trafford']\n",
    "print(' '.join(things)) \n",
    "print('#'.join(things[1:4]))"
   ]
  },
  {
   "cell_type": "markdown",
   "metadata": {},
   "source": [
    "# DICTIONARY .GET METHOD"
   ]
  },
  {
   "cell_type": "code",
   "execution_count": null,
   "metadata": {},
   "outputs": [],
   "source": [
    "teams = {'UTD': 'United', 'CHE': 'Chelsea',\n",
    "         'ARS': 'Arsenal', 'LIV': 'Liverpool'}\n",
    "team = teams.get('BAR')\n",
    "print(team)\n",
    "team = teams.get('BAR', 'Does Not Exist')\n",
    "print(team)"
   ]
  },
  {
   "cell_type": "markdown",
   "metadata": {},
   "source": [
    "# Inheritance"
   ]
  },
  {
   "cell_type": "code",
   "execution_count": null,
   "metadata": {},
   "outputs": [],
   "source": [
    "class Patruped():\n",
    "  def mers(self):\n",
    "    print(\"merge in 4 membre\")\n",
    "\n",
    "class Caine(Patruped):\n",
    "  def __init__(self, name):\n",
    "    self.name = name\n",
    "  def latra(self):\n",
    "    print(\"{} face ham ham\".format(self.name))\n",
    "\n",
    "class Pisica(Patruped):\n",
    "  def __init__(self, name):\n",
    "    self.name = name\n",
    "  def miaun(self):\n",
    "    print(\"{} face miaun miaun\".format(self.name))\n",
    "\n",
    "\n",
    "oscar = Caine(name='Oscar')\n",
    "oscar.latra()  # Oscar face ham ham\n",
    "oscar.mers()  # merge in 4 membre\n",
    "codita = Pisica(name='Codita')\n",
    "codita.miaun()  # Codita face miaun miaun"
   ]
  },
  {
   "cell_type": "markdown",
   "metadata": {},
   "source": [
    "# PATHLIB"
   ]
  },
  {
   "cell_type": "code",
   "execution_count": null,
   "metadata": {},
   "outputs": [],
   "source": [
    "from pathlib import Path\n",
    "\n",
    "path = Path(\"Jucatori\")\n",
    "path.mkdir()  # create a folder\n",
    "path.rmdir()  # delete a folder\n",
    "path = Path()\n",
    "for file in path.glob('*.txt'):\n",
    "    print(file)"
   ]
  },
  {
   "cell_type": "markdown",
   "metadata": {},
   "source": [
    "# INHERITANCE: super() method"
   ]
  },
  {
   "cell_type": "code",
   "execution_count": null,
   "metadata": {},
   "outputs": [],
   "source": [
    "class Parent(object):\n",
    "  def override(self):\n",
    "    print(\"PARENT override()\")\n",
    "  def implicit(self):\n",
    "    print(\"PARENT implicit()\")\n",
    "  def altered(self):\n",
    "    print(\"PARENT altered()\")\n",
    "\n",
    "class Child(Parent):\n",
    "  def override(self):\n",
    "    print(\"CHILD override()\")\n",
    "  def altered(self):\n",
    "    print(\"CHILD, BEFORE PARENT altered()\")\n",
    "    super(Child, self).altered()\n",
    "    print(\"CHILD, AFTER PARENT altered()\")\n",
    "\n",
    "dad = Parent()\n",
    "son = Child()\n",
    "dad.implicit()  # PARENT implicit()\n",
    "son.implicit()  # PARENT implicit()\n",
    "dad.override()  # PARENT override()\n",
    "son.override()  # CHILD override()\n",
    "dad.altered()   # PARENT altered()\n",
    "son.altered()   # CHILD, BEFORE PARENT altered()\n",
    "# PARENT altered()\n",
    "# CHILD, AFTER PARENT altered()"
   ]
  },
  {
   "cell_type": "markdown",
   "metadata": {},
   "source": [
    "# ROUND and TRUNCATE"
   ]
  },
  {
   "cell_type": "code",
   "execution_count": 2,
   "metadata": {},
   "outputs": [
    {
     "name": "stdout",
     "output_type": "stream",
     "text": [
      "28\n",
      "93.35\n",
      "19.0\n",
      "28794.0\n",
      "28793.5\n",
      "28790.0\n"
     ]
    }
   ],
   "source": [
    "print(int(28.71))  # 28\n",
    "print(round(93.34836, 2))  # 93.35\n",
    "print(round(19.47, 0))  # 19.0\n",
    "print(round(28793.54836, 0))  # 28794.0\n",
    "print(round(28793.54836, 1))  # 28793.5\n",
    "print(round(28793.54836, -1))  # 28790.0"
   ]
  },
  {
   "cell_type": "markdown",
   "metadata": {},
   "source": [
    "# PRINTING"
   ]
  },
  {
   "cell_type": "code",
   "execution_count": 1,
   "metadata": {},
   "outputs": [
    {
     "name": "stdout",
     "output_type": "stream",
     "text": [
      "0005 5.00000\n",
      "   *                                #\n"
     ]
    }
   ],
   "source": [
    "print('{0:04} {1:.5f}'.format(5, 5))\n",
    "print('{0:>4} {1:>32}'.format('*', '#'))"
   ]
  },
  {
   "cell_type": "markdown",
   "metadata": {},
   "source": [
    "# FORMATED TABLE"
   ]
  },
  {
   "cell_type": "code",
   "execution_count": 3,
   "metadata": {},
   "outputs": [
    {
     "name": "stdout",
     "output_type": "stream",
     "text": [
      "   1   2   3   4   5   6   7   8   9\n",
      "   2   4   6   8  10  12  14  16  18\n",
      "   3   6   9  12  15  18  21  24  27\n",
      "   4   8  12  16  20  24  28  32  36\n",
      "   5  10  15  20  25  30  35  40  45\n",
      "   6  12  18  24  30  36  42  48  54\n",
      "   7  14  21  28  35  42  49  56  63\n",
      "   8  16  24  32  40  48  56  64  72\n",
      "   9  18  27  36  45  54  63  72  81\n"
     ]
    }
   ],
   "source": [
    "size = 9\n",
    "for row in range(1, size + 1):\n",
    "  for column in range(1, size + 1):\n",
    "    product = row * column\n",
    "    print('{0:4}'.format(product), end='')\n",
    "  print()"
   ]
  },
  {
   "cell_type": "markdown",
   "metadata": {},
   "source": [
    "# % FORMATED STRING"
   ]
  },
  {
   "cell_type": "code",
   "execution_count": null,
   "metadata": {},
   "outputs": [],
   "source": [
    "print(\"I will inject %s here and %d here\" % ('text', 34))"
   ]
  },
  {
   "cell_type": "markdown",
   "metadata": {},
   "source": [
    "# ENUMERATE"
   ]
  },
  {
   "cell_type": "code",
   "execution_count": null,
   "metadata": {},
   "outputs": [],
   "source": [
    "o_lista = ['ala', 'bala', 'portocala']\n",
    "for elem in enumerate(o_lista, start=1):\n",
    "  print(elem, end=\"\")  # (1, 'ala')(2, 'bala')(3, 'portocala')"
   ]
  },
  {
   "cell_type": "markdown",
   "metadata": {},
   "source": [
    "# ZIP"
   ]
  },
  {
   "cell_type": "code",
   "execution_count": null,
   "metadata": {},
   "outputs": [],
   "source": [
    "lista1 = [1, 2, 3, 4, 5, 6]\n",
    "lista2 = ['a', 'b', 'c', 'd', 'e']\n",
    "lista3 = [100, 200, 300, 400]\n",
    "for item in zip(lista1, lista2, lista3):\n",
    "  print(item)"
   ]
  },
  {
   "cell_type": "markdown",
   "metadata": {},
   "source": [
    "# ARGS KWARGS"
   ]
  },
  {
   "cell_type": "code",
   "execution_count": null,
   "metadata": {},
   "outputs": [],
   "source": [
    "def myfunc(*args, **kwargs):\n",
    "  print(f\"I would like {args[-1]} {kwargs['car']}es.\")\n",
    "  print(kwargs)\n",
    "  print(args)\n",
    "\n",
    "myfunc(20, 30, car='Mercedes', another='Something')"
   ]
  },
  {
   "cell_type": "markdown",
   "metadata": {},
   "source": [
    "# MAP FILTER"
   ]
  },
  {
   "cell_type": "code",
   "execution_count": null,
   "metadata": {},
   "outputs": [],
   "source": [
    "def printare(nume):\n",
    "  return f'{nume} e BO$$'\n",
    "def patrat(numar):\n",
    "  return numar ** 2\n",
    "def check_nume(numele):\n",
    "  return 'elena' in numele.lower()\n",
    "\n",
    "nume_fete = ['Elena Popescu', 'Ivan Elena', 'Simona Urs', 'Raluca Elena']\n",
    "numere = [1, 2, 3, 4, 5]\n",
    "catalog = ['Costel', 'Nicu', 'Gigel'] \n",
    "print(list(map(printare, catalog)))  # ['Costel e BO$$', 'Nicu e BO$$', 'Gigel e BO$$']\n",
    "print(list(map(patrat, numere)))  # 1 4 9 16 25\n",
    "print(list(filter(check_nume, nume_fete)))  # ['Elena Popescu', 'Ivan Elena', 'Raluca Elena']"
   ]
  },
  {
   "cell_type": "markdown",
   "metadata": {},
   "source": [
    "# ZIP"
   ]
  },
  {
   "cell_type": "code",
   "execution_count": null,
   "metadata": {},
   "outputs": [],
   "source": [
    "# LAMBDA FUNCTION"
   ]
  },
  {
   "cell_type": "code",
   "execution_count": null,
   "metadata": {},
   "outputs": [],
   "source": [
    "numere = [2, 5, 7, 8, 4]\n",
    "lista = list(map(lambda num: num ** 2, numere))\n",
    "print(lista)  # [4, 25, 49, 64, 16]\n",
    "\n",
    "titulaturi = ['Raluca', 'Elena', 'Bianca', 'Casandra']\n",
    "lista2 = list(filter(lambda nume: 'ca' in nume.lower(), titulaturi))\n",
    "print(lista2)  # ['Raluca', 'Bianca', 'Casandra']"
   ]
  },
  {
   "cell_type": "markdown",
   "metadata": {},
   "source": [
    "# CLASS"
   ]
  },
  {
   "cell_type": "code",
   "execution_count": null,
   "metadata": {},
   "outputs": [],
   "source": [
    "name = 'Henrik'\n",
    "class Caine:\n",
    "  species = 'mammal'\n",
    "  def __init__(self, breed, name):\n",
    "    self.breed = breed\n",
    "    self.name = name\n",
    "    self.specius = Caine.species + 'ius'\n",
    "  def ce_face(self, numar):\n",
    "    print(f'{self.name} face ham ham de {numar} ori')\n",
    "\n",
    "caini = {'Igor': 'pitbull', 'Lord': 'lup', 'Oscar': 'husky'}\n",
    "for nume, rasa in caini.items():\n",
    "  nume = Caine(rasa, nume)\n",
    "  nume.ce_face(4)\n",
    "  print(nume.specius)\n",
    "  print(f'Si este rasa: {nume.breed}, din regnul {nume.species}')"
   ]
  },
  {
   "cell_type": "markdown",
   "metadata": {},
   "source": [
    "# POLYMORPHISM"
   ]
  },
  {
   "cell_type": "code",
   "execution_count": null,
   "metadata": {},
   "outputs": [],
   "source": [
    "class Dog():\n",
    "  def __init__(self, name):\n",
    "    self.name = name\n",
    "  def speak(self):\n",
    "    return self.name + ' says wof'\n",
    "\n",
    "class Cat():\n",
    "  def __init__(self, name):\n",
    "    self.name = name\n",
    "  def speak(self):\n",
    "    return self.name + ' says meow'\n",
    "\n",
    "niko = Dog('niko')\n",
    "felix = Cat('felix')\n",
    "print(niko.speak())\n",
    "print(felix.speak())\n",
    "for pet in [niko, felix]:\n",
    "  print(type(pet))\n",
    "  print(pet.speak())\n",
    "def pet_speak(pet):\n",
    "  print(pet.speak())\n",
    "\n",
    "print(pet_speak(niko))\n",
    "print(pet_speak(felix))"
   ]
  },
  {
   "cell_type": "code",
   "execution_count": null,
   "metadata": {},
   "outputs": [],
   "source": [
    "#__STR__ __LEN__ __DEL__"
   ]
  },
  {
   "cell_type": "code",
   "execution_count": null,
   "metadata": {},
   "outputs": [],
   "source": [
    "class Book:\n",
    "  def __init__(self, titlu, autor, pagini):\n",
    "    self.titlu = titlu\n",
    "    self.autor = autor\n",
    "    self.pagini = pagini\n",
    "  def __str__(self):\n",
    "    return f'{self.titlu}, scrisa de {self.autor}'\n",
    "  def __len__(self):\n",
    "    return self.pagini\n",
    "  def __del__(self):\n",
    "    print('O carte a fost stearsa')\n",
    "\n",
    "carte = Book(\"Cool\", 'BRATU', 100)\n",
    "print(carte)\n",
    "print(len(carte))\n",
    "del carte"
   ]
  },
  {
   "cell_type": "code",
   "execution_count": null,
   "metadata": {},
   "outputs": [],
   "source": [
    "# __NAME__ __MAIN__"
   ]
  },
  {
   "cell_type": "code",
   "execution_count": null,
   "metadata": {},
   "outputs": [],
   "source": [
    "def printare():\n",
    "  print(__name__)\n",
    "# if imported: <name_of_the_file>\n",
    "# if not imported: __main__"
   ]
  },
  {
   "cell_type": "markdown",
   "metadata": {},
   "source": [
    "# UNITTEST"
   ]
  },
  {
   "cell_type": "code",
   "execution_count": null,
   "metadata": {},
   "outputs": [],
   "source": [
    "import unittest\n",
    "def cap_adu(*args):\n",
    "  return sum(args)\n",
    "\n",
    "class TestAdunare(unittest.TestCase):\n",
    "  def test_two_nums(self):\n",
    "    a = 4\n",
    "    b = 6\n",
    "    result = cap_adu(a, b)\n",
    "    self.assertEqual(result, 10)\n",
    "\n",
    "  def test_three_nums(self):\n",
    "    a = 5\n",
    "    b = 60\n",
    "    c = 4\n",
    "    result = cap_adu(a, b, c)\n",
    "    self.assertEqual(result, 69)\n",
    "\n",
    "unittest.main()"
   ]
  },
  {
   "cell_type": "markdown",
   "metadata": {},
   "source": [
    "# Funcsaption"
   ]
  },
  {
   "cell_type": "code",
   "execution_count": null,
   "metadata": {},
   "outputs": [],
   "source": [
    "def hello(name='Dragos'):\n",
    "    print('The hello() func has been executed')\n",
    "\n",
    "    def greet():\n",
    "        return '\\t This is a greet funct inside hello!'\n",
    "\n",
    "    def welcome():\n",
    "        return '\\t this is inside hello'\n",
    "\n",
    "    print('I am going to return a funct')\n",
    "    if name == 'Dragos':\n",
    "        return greet\n",
    "    else:\n",
    "        return welcome\n",
    "\n",
    "\n",
    "my_new_funct = hello('Dragos')\n",
    "print(my_new_funct())"
   ]
  },
  {
   "cell_type": "markdown",
   "metadata": {},
   "source": [
    "# FUNCSAPTION"
   ]
  },
  {
   "cell_type": "code",
   "execution_count": null,
   "metadata": {},
   "outputs": [],
   "source": [
    "def hello():  \n",
    "  return 'Hi Dragos!'\n",
    "def other(some_def_func):\n",
    "  print('Other code runs here!')\n",
    "  print(some_def_func())\n",
    "\n",
    "other(hello)"
   ]
  },
  {
   "cell_type": "markdown",
   "metadata": {},
   "source": [
    "# DECORATORS"
   ]
  },
  {
   "cell_type": "code",
   "execution_count": null,
   "metadata": {},
   "outputs": [],
   "source": [
    "def inmultire_impartire(original_func):\n",
    "\n",
    "  def wrap_func(*args):\n",
    "    product = 1\n",
    "    for number in args:\n",
    "      product *= number\n",
    "    print(f'produsul numerelor {args} este {product}')\n",
    "    original_func(*args)\n",
    "    print(f'catul primelor 2 numere {args[0]} si {args[1]} este {args[0] / args[1]}')\n",
    "  return wrap_func\n",
    "\n",
    "@inmultire_impartire\n",
    "def adunare(*args):\n",
    "  print(f'suma numerelor {args} este {sum(args)}')\n",
    "\n",
    "adunare(3, 5, 6, 10)"
   ]
  },
  {
   "cell_type": "code",
   "execution_count": null,
   "metadata": {},
   "outputs": [],
   "source": [
    "# GENERATORS"
   ]
  },
  {
   "cell_type": "code",
   "execution_count": null,
   "metadata": {},
   "outputs": [],
   "source": [
    "def create_cubes(n):  \n",
    "  for x in range(n):\n",
    "    yield x**3\n",
    "\n",
    "generatorul = create_cubes(9)\n",
    "copie_gen = create_cubes(9)\n",
    "lista = list(generatorul)\n",
    "print(type(generatorul))  # <class 'generator'>\n",
    "print(lista)  # [0, 1, 8, 27, 64, 125, 216, 343, 512]\n",
    "print(next(copie_gen))  # 0\n",
    "print(next(copie_gen))  # 1\n",
    "print(next(copie_gen))  # 8"
   ]
  },
  {
   "cell_type": "markdown",
   "metadata": {},
   "source": [
    "# ITER"
   ]
  },
  {
   "cell_type": "code",
   "execution_count": null,
   "metadata": {},
   "outputs": [],
   "source": [
    "s = 'Hello' \n",
    "s_iter = iter(s)\n",
    "print(next(s_iter))  # H\n",
    "print(next(s_iter))  # e"
   ]
  },
  {
   "cell_type": "markdown",
   "metadata": {},
   "source": [
    "# DEFAULT DICT"
   ]
  },
  {
   "cell_type": "code",
   "execution_count": null,
   "metadata": {},
   "outputs": [],
   "source": [
    "from collections import defaultdict \n",
    "\n",
    "d = defaultdict(lambda: 0)\n",
    "d['one']\n",
    "d['two'] = 2\n",
    "print(d)  # defaultdict(<function <lambda> at 0x0000000002201828>, {'a': 0, 'b': 2})"
   ]
  },
  {
   "cell_type": "markdown",
   "metadata": {},
   "source": [
    "# DATETIME MODULE"
   ]
  },
  {
   "cell_type": "code",
   "execution_count": null,
   "metadata": {},
   "outputs": [],
   "source": [
    "import datetime \n",
    "t = datetime.time(5, 25, 1)\n",
    "print(t)  # 05:25:01\n",
    "print(t.hour)  # 5\n",
    "today = datetime.date.today()\n",
    "print(today)  # 2019-10-14\n",
    "print(today.year)  # 2019\n",
    "d1 = datetime.date(2015, 3, 11)\n",
    "print(d1)  # 2015-03-11\n",
    "d2 = d1.replace(year=1990)\n",
    "print(d2)  # 1990-03-11\n",
    "print(d1 - d2)  # 9131 days, 0:00:00\n",
    "bday = datetime.datetime(1994, 4, 19)\n",
    "print(f'My bday is on {bday:%B %d, %Y}')  # My bday is on April 19, 1994"
   ]
  },
  {
   "cell_type": "markdown",
   "metadata": {},
   "source": [
    "# TIMEIT"
   ]
  },
  {
   "cell_type": "code",
   "execution_count": null,
   "metadata": {},
   "outputs": [],
   "source": [
    "import timeit \n",
    "\n",
    "print(timeit.timeit('\"-\".join(str(n) for n in range(100))', number=10000))\n",
    "# 0.402033814\n",
    "print(timeit.timeit('\"-\".join([str(n) for n in range(100)])', number=10000))\n",
    "# 0.345903018\n",
    "print(timeit.timeit('\"-\".join(map(str,range(100)))', number=10000))\n",
    "# 0.222068923"
   ]
  },
  {
   "cell_type": "markdown",
   "metadata": {},
   "source": [
    "# NUMBERS"
   ]
  },
  {
   "cell_type": "code",
   "execution_count": null,
   "metadata": {},
   "outputs": [],
   "source": [
    "print(hex(13))  # 0xd\n",
    "print(bin(14))  # 0b1110\n",
    "print(pow(2, 3, 3))  # (2^3)%3 = 2\n",
    "print(abs(-2))  # 2\n",
    "print(round(3.1))  # 3.0 (Always float)\n",
    "print(round(1.2345, 2))  # 1.23"
   ]
  },
  {
   "cell_type": "markdown",
   "metadata": {},
   "source": [
    "# COMPREHENSIVE DICTIONARIES"
   ]
  },
  {
   "cell_type": "code",
   "execution_count": null,
   "metadata": {},
   "outputs": [],
   "source": [
    "z = {k: v**2 for k, v in zip(['a', 'b'], range(2))} \n",
    "print(z)  # {'a': 0, 'b': 1}"
   ]
  },
  {
   "cell_type": "markdown",
   "metadata": {},
   "source": [
    "# COMPREHENSIVE IF"
   ]
  },
  {
   "cell_type": "code",
   "execution_count": null,
   "metadata": {},
   "outputs": [],
   "source": [
    "dividend = int(input('Enter dividend: ')) \n",
    "divisor = int(input('Enter divisor: '))\n",
    "msg = dividend / divisor if divisor != 0 else 'Error you stupid shit, cannot divide by zero'\n",
    "print(msg)\n",
    "\n",
    "n = int(input(\"Enter a number: \"))\n",
    "print('|', n, '| = ', (-n if n < 0 else n), sep='')\n",
    "\n",
    "nume = 'dragos' if 'e' in 'Daniel' else 'Bratu'\n",
    "print(nume)"
   ]
  },
  {
   "cell_type": "markdown",
   "metadata": {},
   "source": [
    "# TIME MODULE"
   ]
  },
  {
   "cell_type": "code",
   "execution_count": null,
   "metadata": {},
   "outputs": [],
   "source": [
    "from time import perf_counter, sleep\n",
    "print(\"Enter your name: \", end=\"\")\n",
    "start_time = perf_counter()\n",
    "name = input()\n",
    "elapsed = perf_counter() - start_time\n",
    "print(name, \"it took you\", elapsed, \"seconds to respond\")\n",
    "for count in range(10, -1, -1):  # Range 10, 9, 8, ..., 0\n",
    "  print(count)  # Display the count\n",
    "  sleep(1)  # Suspend execution for 1 second"
   ]
  },
  {
   "cell_type": "markdown",
   "metadata": {},
   "source": [
    "# HIDDEN FUNCTIONS"
   ]
  },
  {
   "cell_type": "code",
   "execution_count": null,
   "metadata": {},
   "outputs": [],
   "source": [
    "sir = 'Andreea'\n",
    "len(sir) == sir.__len__()\n",
    "sir[2] == sir.__getitem__(2)"
   ]
  },
  {
   "cell_type": "markdown",
   "metadata": {},
   "source": [
    "# ONE LINER PRIME NUMBERS"
   ]
  },
  {
   "cell_type": "code",
   "execution_count": null,
   "metadata": {},
   "outputs": [],
   "source": [
    "print([p for p in range(2, 80) if not [x for x in range(2, p) if p % x == 0]])"
   ]
  },
  {
   "cell_type": "markdown",
   "metadata": {},
   "source": [
    "# DICTIONARIES"
   ]
  },
  {
   "cell_type": "code",
   "execution_count": null,
   "metadata": {},
   "outputs": [],
   "source": [
    "lista = ['a', 'b', 'c']\n",
    "numere = [1, 2, 3]\n",
    "dictionar = dict(zip(lista, numere))\n",
    "print(dictionar)"
   ]
  },
  {
   "cell_type": "markdown",
   "metadata": {},
   "source": [
    "# UNPACKING"
   ]
  },
  {
   "cell_type": "code",
   "execution_count": null,
   "metadata": {},
   "outputs": [],
   "source": [
    "x = 1, 2, 3, 4, 5, 6\n",
    "_, _, *y, _, _ = x\n",
    "print(y)  # [3, 4]"
   ]
  },
  {
   "cell_type": "markdown",
   "metadata": {},
   "source": [
    "#  LINKED LISTS"
   ]
  },
  {
   "cell_type": "code",
   "execution_count": null,
   "metadata": {},
   "outputs": [],
   "source": [
    "class Node:\n",
    "  def __init__(self, informatie=None):\n",
    "    self.informatie = informatie\n",
    "    self.adresa_urmatoare = None\n",
    "\n",
    "class LinkedList:\n",
    "  def __init__(self):\n",
    "    self.informatie_inceput = None\n",
    "  def printing(self):\n",
    "    printvalue = self.informatie_inceput\n",
    "    while printvalue is not None:\n",
    "      print(printvalue.informatie)\n",
    "      printvalue = printvalue.adresa_urmatoare\n",
    "\n",
    "  def ins_beg(self, o_informatie):\n",
    "    new = Node(o_informatie)\n",
    "    new.adresa_urmatoare = self.informatie_inceput\n",
    "    self.informatie_inceput = new\n",
    "\n",
    "  def ins_end(self, o_informatie):\n",
    "    newest = Node(o_informatie)\n",
    "    if self.informatie_inceput == None:\n",
    "      self.informatie_inceput = newest\n",
    "      return\n",
    "    lastNode = self.informatie_inceput\n",
    "    while(lastNode.adresa_urmatoare):\n",
    "      lastNode = lastNode.adresa_urmatoare\n",
    "    lastNode.adresa_urmatoare = newest\n",
    "\n",
    "  def ins_bet(self, node, o_informatie):\n",
    "    newofall = Node(o_informatie)\n",
    "    newofall.adresa_urmatoare = node.adresa_urmatoare\n",
    "    node.adresa_urmatoare = newofall\n",
    "\n",
    "  def deletion(self, informatia_stearsa):\n",
    "    new = self.informatie_inceput\n",
    "    if new is not None:\n",
    "      if new.informatie == informatia_stearsa:\n",
    "        self.informatie_inceput = new.adresa_urmatoare\n",
    "        new = None\n",
    "        return\n",
    "\n",
    "    while new is not None:\n",
    "      if new.informatie == informatia_stearsa:\n",
    "        break\n",
    "      prev = new\n",
    "      new = new.adresa_urmatoare\n",
    "\n",
    "    if new == None:\n",
    "      return\n",
    "\n",
    "    prev.adresa_urmatoare = new.adresa_urmatoare\n",
    "    new = None\n",
    "\n",
    "\n",
    "x = LinkedList()\n",
    "x.informatie_inceput = Node('Manchester City')\n",
    "data2 = Node('Liverpool')\n",
    "data3 = Node('Tottenham')\n",
    "\n",
    "x.informatie_inceput.adresa_urmatoare = data2\n",
    "data2.adresa_urmatoare = data3\n",
    "x.ins_beg('Manchester United')\n",
    "x.ins_end('Everton')\n",
    "x.ins_bet(x.informatie_inceput.adresa_urmatoare.adresa_urmatoare, 'Chelsea')\n",
    "x.ins_bet(x.informatie_inceput.adresa_urmatoare.adresa_urmatoare, 'Barcelona')\n",
    "x.deletion('Barcelona')\n",
    "x.printing()"
   ]
  },
  {
   "cell_type": "markdown",
   "metadata": {},
   "source": [
    "#  MAGIC METHOD"
   ]
  },
  {
   "cell_type": "code",
   "execution_count": null,
   "metadata": {},
   "outputs": [],
   "source": [
    "class Operations():\n",
    "  def __init__(self, *args):\n",
    "    if len(args) == 0:\n",
    "      self.numbers = (0, 0)\n",
    "    else:\n",
    "      self.numbers = args\n",
    "\n",
    "  def __add__(self, other):\n",
    "    sum = tuple(x + y for x, y in zip(self.numbers, other.numbers))\n",
    "    return Operations(*sum)\n",
    "\n",
    "  def __mul__(self, other):\n",
    "    mul = tuple(x * y for x, y in zip(self.numbers, other.numbers))\n",
    "    return Operations(*mul)\n",
    "\n",
    "# also add/sub/mul/div/floor/mod/power/lshift/rshift/and/or/xor\n",
    "x = Operations(4, 5)\n",
    "y = Operations(1, 4)\n",
    "t = Operations(3, 2)\n",
    "z = x + y + t\n",
    "w = x * y * t\n",
    "print(z.numbers)\n",
    "print(w.numbers)\n",
    "\n",
    "class Comparison():\n",
    "  def __init__(self, x):\n",
    "    self.x = x\n",
    "  def __lt__(self, other):\n",
    "    return self.x < other.x\n",
    "  def __gt__(self, other):\n",
    "    return self.x > other.x\n",
    "  def __eq__(self, other):\n",
    "    return self.x == other.x\n",
    "\n",
    "if __name__ == '__main__':\n",
    "  obj1 = Comparison(2)\n",
    "  obj2 = Comparison(3)\n",
    "  print(obj1 < obj2)  # True\n",
    "  print(obj1 > obj2)  # False\n",
    "  print(obj1 == obj2)  # False\n",
    "# also iadd/isub/imul/idiv/ifloordivi/mod/ipower/ilshift/irshift/iand/ior/ixor  MAGIC METHOD"
   ]
  },
  {
   "cell_type": "markdown",
   "metadata": {},
   "source": [
    "# MAGIC METHOD"
   ]
  },
  {
   "cell_type": "code",
   "execution_count": 4,
   "metadata": {},
   "outputs": [
    {
     "name": "stdout",
     "output_type": "stream",
     "text": [
      "{'firstname': 'Dragos', 'lastname': 'BRATU'}\n"
     ]
    }
   ],
   "source": [
    "class dictionary(dict):\n",
    "  def __add__(self, other):\n",
    "    self.update(other)\n",
    "    return dictionary(self)\n",
    "\n",
    "dict1 = dictionary({'firstname': 'Dragos'})\n",
    "dict2 = dictionary({'lastname': 'BRATU'})\n",
    "print(dict1 + dict2)"
   ]
  },
  {
   "cell_type": "markdown",
   "metadata": {},
   "source": [
    "# VIRTUALENV\n",
    "- pip install virtualenv\n",
    "- virtualenv project1_env\n",
    "- source project1_env / bin / activate\n",
    "- pip freeze - -local > requirements.txt\n",
    "- deactivate\n",
    "- pip install - r requirements.txt"
   ]
  },
  {
   "cell_type": "markdown",
   "metadata": {},
   "source": [
    "# ONE LINE GENERATOR"
   ]
  },
  {
   "cell_type": "code",
   "execution_count": null,
   "metadata": {},
   "outputs": [],
   "source": [
    "nums = [0, 1, 2, 3, 4, 5, 6, 7, 8, 9]\n",
    "my_gen = (n * n for n in nums)"
   ]
  },
  {
   "cell_type": "markdown",
   "metadata": {},
   "source": [
    "# OBJECTS SORTING"
   ]
  },
  {
   "cell_type": "code",
   "execution_count": null,
   "metadata": {},
   "outputs": [],
   "source": [
    "class Angajat():\n",
    "  def __init__(self, nume, varsta, salariu):\n",
    "    self.nume = nume\n",
    "    self.varsta = varsta\n",
    "    self.salariu = salariu\n",
    "  def __repr__(self):\n",
    "    return f'({self.nume}, {self.varsta}, {self.salariu})'\n",
    "\n",
    "a1 = Angajat('Dragos', 25, 60000)\n",
    "a2 = Angajat('Vlad', 28, 80000)\n",
    "a3 = Angajat('Iulian', 24, 30000)\n",
    "\n",
    "angajati = [a1, a2, a3]\n",
    "ang_sort_sal = sorted(angajati, key=lambda e: e.salariu, reverse=True)\n",
    "print(ang_sort_sal)"
   ]
  },
  {
   "cell_type": "markdown",
   "metadata": {},
   "source": [
    "# OS MODULE"
   ]
  },
  {
   "cell_type": "code",
   "execution_count": null,
   "metadata": {},
   "outputs": [],
   "source": [
    "import os\n",
    "\n",
    "print(os.getcwd())\n",
    "os.chdir('D:\\\\LocalData\\\\py06366\\\\OneDrive - Alliance')\n",
    "print(os.removedirs('D:\\\\LocalData\\\\py06366\\\\OneDrive - Alliance\\\\MaaanU'))\n",
    "\n",
    "# Date of modification\n",
    "from datetime import datetime\n",
    "\n",
    "mod_time = os.stat('Server.py').st_mtime\n",
    "print(datetime.fromtimestamp(mod_time))\n",
    "\n",
    "# walking\n",
    "for dir_path, dir_names, file_names in os.walk(os.getcwd()):\n",
    "  print('Current Path:', dir_path)\n",
    "  print('Directories:', dir_names)\n",
    "  print('Files:', file_names)\n",
    "# RENAME FILES  \n",
    "os.chdir('C:\\\\Users\\\\py06366\\\\OneDrive - Alliance\\\\Pyhon\\\\P1\\\\moby\\\\Fisiere')\n",
    "for f in os.listdir():\n",
    "  file_name, file_extention = os.path.splitext(f)\n",
    "  echipa, categoria, numar = file_name.split('-')\n",
    "  echipa = echipa.strip()\n",
    "  categoria = categoria.strip()\n",
    "  numar = numar.strip()\n",
    "  nume_nou = f'{numar}-{echipa}{file_extention}'\n",
    "  os.rename(f, nume_nou)"
   ]
  },
  {
   "cell_type": "markdown",
   "metadata": {},
   "source": [
    "# OPEN BIG FILES"
   ]
  },
  {
   "cell_type": "code",
   "execution_count": null,
   "metadata": {},
   "outputs": [],
   "source": [
    "with open('client1.py', 'r+') as f:\n",
    "  \n",
    "  size_to_read = 10\n",
    "  f_contents = f.read(size_to_read)\n",
    "  while len(f_contents) > 0:\n",
    "    print(f_contents, end='#')\n",
    "    f_contents = f.read(size_to_read)"
   ]
  },
  {
   "cell_type": "markdown",
   "metadata": {},
   "source": [
    "# RANDOM MODULE"
   ]
  },
  {
   "cell_type": "code",
   "execution_count": 64,
   "metadata": {},
   "outputs": [
    {
     "name": "stdout",
     "output_type": "stream",
     "text": [
      "7.8810124844464395\n",
      "['Red', 'Red', 'Black', 'Green', 'Red']\n"
     ]
    }
   ],
   "source": [
    "import random \n",
    "\n",
    "value = random.uniform(1, 10)\n",
    "print(value)  # 4.15449409933993\n",
    "\n",
    "colors = ['Red', 'Black', 'Green']\n",
    "roulette = random.choices(colors, weights=[18, 18, 2], k=5)\n",
    "print(roulette)  # ['Red', 'Black', 'Black', 'Red', 'Black']"
   ]
  },
  {
   "cell_type": "markdown",
   "metadata": {},
   "source": [
    "# REGEX\n",
    ". - Any character except new line\n",
    "- \\d - digit(0 - 9)\n",
    "- \\D - Not a digit(0 - 9)\n",
    "- \\w - Word character(a - z, A - Z, 0 - 9, _)\n",
    "- \\W - Not a word character(a - z, A - Z, 0 - 9, _)\n",
    "- \\s - Whitespaces(space, tab, newline)\n",
    "- \\S - Not whitespaces(space, tab, newline)\n",
    "- \\b - Word boundary\n",
    "- \\B - Not word boundary\n",
    "- ^ - Beginning of a string\n",
    "- $ - End of a string\n",
    "\n",
    "- Quantifiers:\n",
    "- * - 0 or More\n",
    "- + - 1 or More\n",
    "- ? - 0 or One\n",
    "- {3} - Exact number\n",
    "- {3, 4} - Range of numbers(min, max)\n",
    "\n",
    "- Groups:\n",
    "- | - Either or\n",
    "- () - Group\n"
   ]
  },
  {
   "cell_type": "code",
   "execution_count": null,
   "metadata": {},
   "outputs": [],
   "source": [
    "# LOGGER DECORATOR"
   ]
  },
  {
   "cell_type": "code",
   "execution_count": 65,
   "metadata": {},
   "outputs": [
    {
     "name": "stdout",
     "output_type": "stream",
     "text": [
      "Display ran with arguments Manchester, 20\n",
      "display ran in : 1.0047669410705566 seconds.\n"
     ]
    }
   ],
   "source": [
    "from functools import wraps \n",
    "\n",
    "def my_logger(original_function):\n",
    "  import logging\n",
    "  logging.basicConfig(filename=f'{original_function.__name__}.log', level=logging.INFO)\n",
    "\n",
    "  @wraps(original_function)\n",
    "  def wrapper(*args, **kwargs):\n",
    "    logging.info(f'Ran with args: {args}, and {kwargs}')\n",
    "    return original_function(*args, **kwargs)\n",
    "  return wrapper\n",
    "\n",
    "def my_timer(original_function):\n",
    "  import time\n",
    "\n",
    "  @wraps(original_function)\n",
    "  def wrapper(*args, **kwargs):\n",
    "    t1 = time.time()\n",
    "    result = original_function(*args, **kwargs)\n",
    "    t2 = time.time() - t1\n",
    "    print(f'{original_function.__name__} ran in : {t2} seconds.')\n",
    "    return result\n",
    "  return wrapper\n",
    "\n",
    "import time\n",
    "\n",
    "@my_logger\n",
    "@my_timer\n",
    "def display(echipa, trofee):\n",
    "  time.sleep(1)\n",
    "  print(f'Display ran with arguments {echipa}, {trofee}')\n",
    "\n",
    "\n",
    "display('Manchester', 20)"
   ]
  },
  {
   "cell_type": "markdown",
   "metadata": {},
   "source": [
    "# DELIMITER"
   ]
  },
  {
   "cell_type": "code",
   "execution_count": 66,
   "metadata": {},
   "outputs": [
    {
     "name": "stdout",
     "output_type": "stream",
     "text": [
      "pi este 3.142\n"
     ]
    }
   ],
   "source": [
    "pi = 3.14159265 \n",
    "print(f'pi este {pi:.3f}')"
   ]
  },
  {
   "cell_type": "markdown",
   "metadata": {},
   "source": [
    "# OOP"
   ]
  },
  {
   "cell_type": "markdown",
   "metadata": {},
   "source": [
    "4 pillars:\n",
    "- Encapsulation\n",
    "- Abstraction\n",
    "- Inheritance\n",
    "- Polymorphism"
   ]
  },
  {
   "cell_type": "markdown",
   "metadata": {},
   "source": [
    "#### Encapsulation:\n",
    "We group related variables and functions together --> reduce complexity"
   ]
  },
  {
   "cell_type": "markdown",
   "metadata": {},
   "source": [
    "#### Abstraction:\n",
    "Hide the details the complexity and show only the esensials --> reduce complexity and isolates the impact of changes"
   ]
  },
  {
   "cell_type": "markdown",
   "metadata": {},
   "source": [
    "#### Inheritance:\n",
    "Eliminate redundant code"
   ]
  },
  {
   "cell_type": "markdown",
   "metadata": {},
   "source": [
    "#### Polymorphism:\n",
    "Refractor  switch/case statements"
   ]
  },
  {
   "cell_type": "code",
   "execution_count": null,
   "metadata": {},
   "outputs": [],
   "source": []
  }
 ],
 "metadata": {
  "kernelspec": {
   "display_name": "Python 3",
   "language": "python",
   "name": "python3"
  },
  "language_info": {
   "codemirror_mode": {
    "name": "ipython",
    "version": 3
   },
   "file_extension": ".py",
   "mimetype": "text/x-python",
   "name": "python",
   "nbconvert_exporter": "python",
   "pygments_lexer": "ipython3",
   "version": "3.6.10"
  }
 },
 "nbformat": 4,
 "nbformat_minor": 2
}
