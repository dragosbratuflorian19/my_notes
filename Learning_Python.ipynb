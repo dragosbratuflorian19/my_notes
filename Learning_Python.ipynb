{
 "cells": [
  {
   "cell_type": "markdown",
   "metadata": {},
   "source": [
    "# Learning Python"
   ]
  },
  {
   "cell_type": "markdown",
   "metadata": {},
   "source": [
    "#### How code is run:\n",
    "- When you instruct Python to run your script, it’s first compiled to something called “byte code” and then routed to something called a “virtual machine.”"
   ]
  },
  {
   "cell_type": "markdown",
   "metadata": {},
   "source": [
    "#### Byte code compilation:\n",
    "- Roughly, Python translates each of your source statements into a group of byte code instructions by decomposing them into individual steps.\n",
    "- If the Python process has write access on your machine, it will store the byte code  of your programs in files that end with a .pyc extension. (n a subdirectory named __pycache__ located in the directory where your source files reside)."
   ]
  },
  {
   "cell_type": "markdown",
   "metadata": {},
   "source": [
    "#### The Python Virtual Machine (PVM)\n",
    "- Once your program has been compiled to byte code , it is shipped off for execution to something generally known as the Python Virtual Machine.\n",
    "<img src=\"ML/data/images/PVM.png\" alt=\"xxx\" title=\"title\" width=560 height=560 />\n",
    "- The PVM is the runtime engine of Python that iterates through your byte code instructions, one by one."
   ]
  },
  {
   "cell_type": "markdown",
   "metadata": {},
   "source": [
    "#### Frozen Binaries:\n",
    "- is possible to turn your Python programs into true executables, known as frozen binaries."
   ]
  },
  {
   "cell_type": "markdown",
   "metadata": {},
   "source": [
    "- Frozen binaries bundle together the byte code of your program files, along with the PVM and any Python support files your program needs, into a single package."
   ]
  },
  {
   "cell_type": "markdown",
   "metadata": {},
   "source": [
    "- py2exe for Windows\n",
    "- PyInstaller, which is similar to py2exe but also works on Linux and Mac OS X\n",
    "- py2app for creating Mac OS X applications"
   ]
  },
  {
   "cell_type": "markdown",
   "metadata": {},
   "source": [
    "- Get out of the python interpreter prompt:\n",
    "    - linux: ctrl+D\n",
    "    - windows: ctrl+Z"
   ]
  },
  {
   "cell_type": "markdown",
   "metadata": {},
   "source": [
    "PATH = the full path to the Python executable on your machine\n",
    "- C:\\Python33\\python\n",
    "- /usr/local/bin/python"
   ]
  },
  {
   "cell_type": "markdown",
   "metadata": {},
   "source": [
    "#### Store the output\n",
    "% python3 script.py > save.txt"
   ]
  },
  {
   "cell_type": "markdown",
   "metadata": {},
   "source": [
    "#### Turning python files into executable programs\n",
    "1. the first line is special: is the path to the interpreter <br>\n",
    "#!/usr/local/bin/python3 <br>\n",
    "print('The Bright Side ' + 'of Life...') <BR>\n",
    "    1.a avoiding hardconding the python path\n",
    "#!/usr/bin/env python\n",
    "2. then have executable privilegdes\n",
    "chmod +x script.py\n",
    "3. Run it as executable:\n",
    "./script.py"
   ]
  },
  {
   "cell_type": "markdown",
   "metadata": {},
   "source": [
    "#### Polymorphism:\n",
    "- The meaning of an operation depends on the objects being operated on.\n",
    "- A Python-coded operation can normally work on many different types of objects automatically, as long as they support a compatible interface (like the + operation here)."
   ]
  },
  {
   "cell_type": "markdown",
   "metadata": {},
   "source": [
    "#### Strings as bytearrays:"
   ]
  },
  {
   "cell_type": "code",
   "execution_count": 31,
   "metadata": {},
   "outputs": [
    {
     "name": "stdout",
     "output_type": "stream",
     "text": [
      "bytearray(b'spam')\n",
      "spam\n"
     ]
    }
   ],
   "source": [
    "a = bytearray(b'spam')\n",
    "print(a)\n",
    "print(a.decode())"
   ]
  },
  {
   "cell_type": "markdown",
   "metadata": {},
   "source": [
    "#### Printing numbers:"
   ]
  },
  {
   "cell_type": "code",
   "execution_count": 32,
   "metadata": {},
   "outputs": [
    {
     "data": {
      "text/plain": [
       "'3.14 | -0042'"
      ]
     },
     "execution_count": 32,
     "metadata": {},
     "output_type": "execute_result"
    }
   ],
   "source": [
    "'%.2f | %+05d' %(3.14159, -42)"
   ]
  },
  {
   "cell_type": "markdown",
   "metadata": {},
   "source": [
    "#### Getting help"
   ]
  },
  {
   "cell_type": "code",
   "execution_count": null,
   "metadata": {},
   "outputs": [],
   "source": [
    "s = 'Manchester United'\n",
    "dir(s)[-5:]"
   ]
  },
  {
   "cell_type": "code",
   "execution_count": null,
   "metadata": {},
   "outputs": [],
   "source": [
    "help(s.replace)"
   ]
  },
  {
   "cell_type": "markdown",
   "metadata": {},
   "source": [
    "#### Raw string"
   ]
  },
  {
   "cell_type": "markdown",
   "metadata": {},
   "source": [
    "Turns off the backslash escape mechanism: <br>\n",
    "like directory paths on Windows"
   ]
  },
  {
   "cell_type": "code",
   "execution_count": null,
   "metadata": {},
   "outputs": [],
   "source": [
    "r'C:\\text\\new'"
   ]
  },
  {
   "cell_type": "markdown",
   "metadata": {},
   "source": [
    "#### Encoding"
   ]
  },
  {
   "cell_type": "code",
   "execution_count": 34,
   "metadata": {},
   "outputs": [],
   "source": [
    "c = 'Dragos'"
   ]
  },
  {
   "cell_type": "code",
   "execution_count": 35,
   "metadata": {},
   "outputs": [
    {
     "data": {
      "text/plain": [
       "b'Dragos'"
      ]
     },
     "execution_count": 35,
     "metadata": {},
     "output_type": "execute_result"
    }
   ],
   "source": [
    "c.encode('utf8')"
   ]
  },
  {
   "cell_type": "code",
   "execution_count": 36,
   "metadata": {},
   "outputs": [
    {
     "data": {
      "text/plain": [
       "b'\\xff\\xfeD\\x00r\\x00a\\x00g\\x00o\\x00s\\x00'"
      ]
     },
     "execution_count": 36,
     "metadata": {},
     "output_type": "execute_result"
    }
   ],
   "source": [
    "c.encode('utf16')"
   ]
  },
  {
   "cell_type": "markdown",
   "metadata": {},
   "source": [
    "#### Regex splitting"
   ]
  },
  {
   "cell_type": "code",
   "execution_count": null,
   "metadata": {},
   "outputs": [],
   "source": [
    "import re\n",
    "\n",
    "re.split('[zy]', 'DragoszFlorianyBratu')"
   ]
  },
  {
   "cell_type": "markdown",
   "metadata": {},
   "source": [
    "#### List comprehensions"
   ]
  },
  {
   "cell_type": "code",
   "execution_count": 37,
   "metadata": {},
   "outputs": [
    {
     "data": {
      "text/plain": [
       "[[1, 2, 3], [4, 5, 6], [7, 8, 9]]"
      ]
     },
     "execution_count": 37,
     "metadata": {},
     "output_type": "execute_result"
    }
   ],
   "source": [
    "M = [[1, 2, 3],\n",
    "    [4, 5, 6],\n",
    "    [7, 8, 9]]\n",
    "M"
   ]
  },
  {
   "cell_type": "code",
   "execution_count": 38,
   "metadata": {},
   "outputs": [
    {
     "data": {
      "text/plain": [
       "[2, 5, 8]"
      ]
     },
     "execution_count": 38,
     "metadata": {},
     "output_type": "execute_result"
    }
   ],
   "source": [
    "col2 = [row[1] for row in M]\n",
    "col2"
   ]
  },
  {
   "cell_type": "code",
   "execution_count": 39,
   "metadata": {},
   "outputs": [
    {
     "data": {
      "text/plain": [
       "[3, 6, 9]"
      ]
     },
     "execution_count": 39,
     "metadata": {},
     "output_type": "execute_result"
    }
   ],
   "source": [
    "[row[1] + 1 for row in M]"
   ]
  },
  {
   "cell_type": "code",
   "execution_count": 40,
   "metadata": {},
   "outputs": [
    {
     "data": {
      "text/plain": [
       "[2, 8]"
      ]
     },
     "execution_count": 40,
     "metadata": {},
     "output_type": "execute_result"
    }
   ],
   "source": [
    "[row[1] for row in M if row[1] % 2 == 0]"
   ]
  },
  {
   "cell_type": "code",
   "execution_count": 41,
   "metadata": {},
   "outputs": [
    {
     "data": {
      "text/plain": [
       "[1, 5, 9]"
      ]
     },
     "execution_count": 41,
     "metadata": {},
     "output_type": "execute_result"
    }
   ],
   "source": [
    "diag = [M[i][i] for i in range(3)]\n",
    "diag"
   ]
  },
  {
   "cell_type": "code",
   "execution_count": 42,
   "metadata": {},
   "outputs": [
    {
     "data": {
      "text/plain": [
       "[6, 15, 24]"
      ]
     },
     "execution_count": 42,
     "metadata": {},
     "output_type": "execute_result"
    }
   ],
   "source": [
    "list(map(sum, M))"
   ]
  },
  {
   "cell_type": "markdown",
   "metadata": {},
   "source": [
    "#### Fractions"
   ]
  },
  {
   "cell_type": "code",
   "execution_count": 43,
   "metadata": {},
   "outputs": [
    {
     "data": {
      "text/plain": [
       "Fraction(5, 3)"
      ]
     },
     "execution_count": 43,
     "metadata": {},
     "output_type": "execute_result"
    }
   ],
   "source": [
    "from fractions import Fraction\n",
    "\n",
    "f = Fraction(2, 3)\n",
    "f + 1"
   ]
  },
  {
   "cell_type": "code",
   "execution_count": 44,
   "metadata": {},
   "outputs": [
    {
     "data": {
      "text/plain": [
       "Fraction(81, 250)"
      ]
     },
     "execution_count": 44,
     "metadata": {},
     "output_type": "execute_result"
    }
   ],
   "source": [
    "Fraction('0.324')"
   ]
  },
  {
   "cell_type": "markdown",
   "metadata": {},
   "source": [
    "#### Octal, hexa, binary and complex numeric data"
   ]
  },
  {
   "cell_type": "code",
   "execution_count": null,
   "metadata": {},
   "outputs": [],
   "source": [
    "octal = 0o177\n",
    "hexa = 0x9ff\n",
    "binary = 0b10101\n",
    "compl = 3 + 4j\n",
    "print(f'octal(0o177) = {octal}, hexa(0x9ff) = {hexa}, binary(0b10101) = {binary}, complex(3 + 4j) = {binary}')"
   ]
  },
  {
   "cell_type": "code",
   "execution_count": null,
   "metadata": {},
   "outputs": [],
   "source": [
    "f'{64:o}, {64:x}, {64:b}'"
   ]
  },
  {
   "cell_type": "code",
   "execution_count": null,
   "metadata": {},
   "outputs": [],
   "source": [
    "'%o, %x, %X' %(255, 255, 255)"
   ]
  },
  {
   "cell_type": "code",
   "execution_count": null,
   "metadata": {},
   "outputs": [],
   "source": [
    "oct(127), hex(2559), bin(21), complex(3, 4)"
   ]
  },
  {
   "cell_type": "code",
   "execution_count": null,
   "metadata": {},
   "outputs": [],
   "source": [
    "num = 1/3\n",
    "'%e' %num"
   ]
  },
  {
   "cell_type": "markdown",
   "metadata": {},
   "source": [
    "#### Floor vs trunc"
   ]
  },
  {
   "cell_type": "code",
   "execution_count": null,
   "metadata": {},
   "outputs": [],
   "source": [
    "import math\n",
    "print(f\"\"\"\n",
    "math.floor(2.5) = {math.floor(2.5)},\n",
    "math.floor(-2.5) = {math.floor(-2.5)},\n",
    "math.trunc(2.5) = {math.trunc(2.5)},\n",
    "math.trunc(-2.5) = {math.trunc(-2.5)},\"\"\")"
   ]
  },
  {
   "cell_type": "markdown",
   "metadata": {},
   "source": [
    "#### Math module for complex numbers: cmath"
   ]
  },
  {
   "cell_type": "code",
   "execution_count": null,
   "metadata": {},
   "outputs": [],
   "source": [
    "print(0.1 + 0.1 + 0.1 - 0.3)"
   ]
  },
  {
   "cell_type": "markdown",
   "metadata": {},
   "source": [
    "#### Garbage collection\n",
    "- Garbage-collection-based memory management is implemented for you in Python.\n",
    "- In Python, whenever a name is assigned to a new object, the space held by the prior object is reclaimed if it is not referenced by any other name or object.\n",
    "- This automatic reclamation of objects’ space is known as garbage collection."
   ]
  },
  {
   "cell_type": "code",
   "execution_count": 45,
   "metadata": {},
   "outputs": [
    {
     "data": {
      "text/plain": [
       "(5, 3)"
      ]
     },
     "execution_count": 45,
     "metadata": {},
     "output_type": "execute_result"
    }
   ],
   "source": [
    "a = 3\n",
    "b = a\n",
    "a = 5\n",
    "a, b"
   ]
  },
  {
   "cell_type": "markdown",
   "metadata": {},
   "source": [
    "#### Lists references"
   ]
  },
  {
   "cell_type": "code",
   "execution_count": null,
   "metadata": {},
   "outputs": [],
   "source": [
    "L1 = [1, 2, 3]\n",
    "L2 = L1\n",
    "L1, L2"
   ]
  },
  {
   "cell_type": "code",
   "execution_count": null,
   "metadata": {},
   "outputs": [],
   "source": [
    "L3 = L1[:]\n",
    "L1[0] = 7\n",
    "L1, L3"
   ]
  },
  {
   "cell_type": "markdown",
   "metadata": {},
   "source": [
    "#### Caching small values"
   ]
  },
  {
   "cell_type": "code",
   "execution_count": null,
   "metadata": {},
   "outputs": [],
   "source": [
    "L = [1, 2, 3]\n",
    "M = [1, 2, 3]\n",
    "L == M, L is M"
   ]
  },
  {
   "cell_type": "code",
   "execution_count": null,
   "metadata": {},
   "outputs": [],
   "source": [
    "x = 42\n",
    "y = 42\n",
    "x == y, x is y"
   ]
  },
  {
   "cell_type": "markdown",
   "metadata": {},
   "source": [
    "- Because small integers and strings are cached and reused, though, is tells us they reference the same single object."
   ]
  },
  {
   "cell_type": "markdown",
   "metadata": {},
   "source": [
    "#### Finding out how many references an object has"
   ]
  },
  {
   "cell_type": "code",
   "execution_count": null,
   "metadata": {},
   "outputs": [],
   "source": [
    "import sys\n",
    "print(sys.getrefcount(42))\n",
    "z = 42\n",
    "print(sys.getrefcount(42))"
   ]
  },
  {
   "cell_type": "markdown",
   "metadata": {},
   "source": [
    "#### Implicit concatenation"
   ]
  },
  {
   "cell_type": "code",
   "execution_count": null,
   "metadata": {},
   "outputs": [],
   "source": [
    "'Dragos' \"Florian\" 'BRATU'"
   ]
  },
  {
   "cell_type": "markdown",
   "metadata": {},
   "source": [
    "#### Raw Strings Suppress Escapes"
   ]
  },
  {
   "cell_type": "code",
   "execution_count": null,
   "metadata": {},
   "outputs": [],
   "source": [
    "print('C:\\new\\text.dat')"
   ]
  },
  {
   "cell_type": "code",
   "execution_count": null,
   "metadata": {},
   "outputs": [],
   "source": [
    "print(r'C:\\new\\text.dat')"
   ]
  },
  {
   "cell_type": "code",
   "execution_count": null,
   "metadata": {},
   "outputs": [],
   "source": [
    "'%s -- %s -- %s' % (42, 3.14159, [1, 2, 3])"
   ]
  },
  {
   "cell_type": "markdown",
   "metadata": {},
   "source": [
    "#### String formatting"
   ]
  },
  {
   "cell_type": "markdown",
   "metadata": {},
   "source": [
    "%[(keyname)][flags][width][.precision]typecode"
   ]
  },
  {
   "cell_type": "code",
   "execution_count": 46,
   "metadata": {},
   "outputs": [
    {
     "data": {
      "text/plain": [
       "'integers: ...1234...1234  ...001234'"
      ]
     },
     "execution_count": 46,
     "metadata": {},
     "output_type": "execute_result"
    }
   ],
   "source": [
    "x = 1234\n",
    "res = 'integers: ...%d...%-6d...%06d' % (x, x, x)\n",
    "res"
   ]
  },
  {
   "cell_type": "code",
   "execution_count": 47,
   "metadata": {},
   "outputs": [
    {
     "data": {
      "text/plain": [
       "'1.23 | 01.23 | +001.2'"
      ]
     },
     "execution_count": 47,
     "metadata": {},
     "output_type": "execute_result"
    }
   ],
   "source": [
    "x = 1.23456\n",
    "'%-0.2f | %05.2f | %+06.1f' % (x, x, x)"
   ]
  },
  {
   "cell_type": "code",
   "execution_count": 48,
   "metadata": {},
   "outputs": [
    {
     "data": {
      "text/plain": [
       "'       ### = X         '"
      ]
     },
     "execution_count": 48,
     "metadata": {},
     "output_type": "execute_result"
    }
   ],
   "source": [
    "'{0:>10} = {1:<10}'.format('###', 'X')"
   ]
  },
  {
   "cell_type": "code",
   "execution_count": 49,
   "metadata": {},
   "outputs": [
    {
     "data": {
      "text/plain": [
       "'3.141590e+00, 3.142e+00, 3.14159, 003.14'"
      ]
     },
     "execution_count": 49,
     "metadata": {},
     "output_type": "execute_result"
    }
   ],
   "source": [
    "'{0:e}, {1:.3e}, {2:g}, {3:06.2f}'.format(3.14159, 3.14159, 3.14159, 3.14159)"
   ]
  },
  {
   "cell_type": "code",
   "execution_count": 50,
   "metadata": {},
   "outputs": [
    {
     "data": {
      "text/plain": [
       "'FF, 377, 11111111'"
      ]
     },
     "execution_count": 50,
     "metadata": {},
     "output_type": "execute_result"
    }
   ],
   "source": [
    "'{0:X}, {1:o}, {2:b}'.format(255, 255, 255)"
   ]
  },
  {
   "cell_type": "code",
   "execution_count": 51,
   "metadata": {},
   "outputs": [
    {
     "data": {
      "text/plain": [
       "'999_999_999_999 | 999,999,999,999'"
      ]
     },
     "execution_count": 51,
     "metadata": {},
     "output_type": "execute_result"
    }
   ],
   "source": [
    "'{0:_d} | {0:,d}'.format(999999999999)"
   ]
  },
  {
   "cell_type": "code",
   "execution_count": 52,
   "metadata": {},
   "outputs": [
    {
     "data": {
      "text/plain": [
       "'296,999.26'"
      ]
     },
     "execution_count": 52,
     "metadata": {},
     "output_type": "execute_result"
    }
   ],
   "source": [
    "'{:,.2f}'.format(296999.2567)"
   ]
  },
  {
   "cell_type": "code",
   "execution_count": 53,
   "metadata": {},
   "outputs": [
    {
     "data": {
      "text/plain": [
       "('ç', 231)"
      ]
     },
     "execution_count": 53,
     "metadata": {},
     "output_type": "execute_result"
    }
   ],
   "source": [
    "chr(231), ord('ç')"
   ]
  },
  {
   "cell_type": "code",
   "execution_count": 54,
   "metadata": {},
   "outputs": [
    {
     "data": {
      "text/plain": [
       "[1, 2, 33, 44]"
      ]
     },
     "execution_count": 54,
     "metadata": {},
     "output_type": "execute_result"
    }
   ],
   "source": [
    "[1, 2] + [int(x)*10+int(x) for x in list('34')]"
   ]
  },
  {
   "cell_type": "markdown",
   "metadata": {},
   "source": [
    "#### Map"
   ]
  },
  {
   "cell_type": "code",
   "execution_count": null,
   "metadata": {},
   "outputs": [],
   "source": [
    "list(map(abs, [-4, 2, 1, -5]))"
   ]
  },
  {
   "cell_type": "code",
   "execution_count": null,
   "metadata": {},
   "outputs": [],
   "source": [
    "mydict = {'primul_el': [1, 2, 3],'al_doilea_el': [4, 5, 6]}\n",
    "mydict.keys()"
   ]
  },
  {
   "cell_type": "markdown",
   "metadata": {},
   "source": [
    "#### Merging two dictionaries"
   ]
  },
  {
   "cell_type": "code",
   "execution_count": null,
   "metadata": {},
   "outputs": [],
   "source": [
    "d1 = {'eggs': 3, 'spam': 2, 'ham': 1}\n",
    "d2 = {'toast':4, 'muffin':5}\n",
    "d1.update(d2)\n",
    "d1"
   ]
  },
  {
   "cell_type": "markdown",
   "metadata": {},
   "source": [
    "Dictionary keys are “hashable” and thus won’t change (strings, integers, tuples etc)"
   ]
  },
  {
   "cell_type": "markdown",
   "metadata": {},
   "source": [
    "#### Create dictionaries"
   ]
  },
  {
   "cell_type": "code",
   "execution_count": null,
   "metadata": {},
   "outputs": [],
   "source": [
    "dict.fromkeys(['a', 'b'], 'default_value')"
   ]
  },
  {
   "cell_type": "code",
   "execution_count": null,
   "metadata": {},
   "outputs": [],
   "source": [
    "D = {k: v for (k, v) in zip(['a', 'b', 'c'], [1, 2, 3])}\n",
    "D"
   ]
  },
  {
   "cell_type": "markdown",
   "metadata": {},
   "source": [
    "#### You cannot change a tuple's element, but you can change the element inside"
   ]
  },
  {
   "cell_type": "code",
   "execution_count": null,
   "metadata": {},
   "outputs": [],
   "source": [
    "x = (40, [45, 21], 5)\n",
    "x[1][1] = [123, '12', 12]\n",
    "x"
   ]
  },
  {
   "cell_type": "markdown",
   "metadata": {},
   "source": [
    "#### Named tuples"
   ]
  },
  {
   "cell_type": "code",
   "execution_count": 56,
   "metadata": {},
   "outputs": [
    {
     "data": {
      "text/plain": [
       "(9000, 45, angajat(nume='Bratu', varsta=45, salariu=9000))"
      ]
     },
     "execution_count": 56,
     "metadata": {},
     "output_type": "execute_result"
    }
   ],
   "source": [
    "from collections import namedtuple\n",
    "\n",
    "angajat = namedtuple('angajat',['nume', 'varsta', 'salariu'])\n",
    "Dragos = angajat('Bratu', 45, salariu=9000)\n",
    "Dragos.salariu, Dragos.varsta, Dragos"
   ]
  },
  {
   "cell_type": "code",
   "execution_count": 57,
   "metadata": {},
   "outputs": [
    {
     "data": {
      "text/plain": [
       "('BRATU', 90, 90.0)"
      ]
     },
     "execution_count": 57,
     "metadata": {},
     "output_type": "execute_result"
    }
   ],
   "source": [
    "cutare, ani, parnos = Dragos\n",
    "cutare.upper(), ani * 2, parnos / 100"
   ]
  },
  {
   "cell_type": "code",
   "execution_count": 58,
   "metadata": {},
   "outputs": [
    {
     "data": {
      "text/plain": [
       "10"
      ]
     },
     "execution_count": 58,
     "metadata": {},
     "output_type": "execute_result"
    }
   ],
   "source": [
    "f = open('fisier.txt', 'w')\n",
    "f.write(\"mytext\\n\")\n",
    "f.write('second row')"
   ]
  },
  {
   "cell_type": "code",
   "execution_count": 59,
   "metadata": {},
   "outputs": [
    {
     "data": {
      "text/plain": [
       "'mytext\\nsecond row'"
      ]
     },
     "execution_count": 59,
     "metadata": {},
     "output_type": "execute_result"
    }
   ],
   "source": [
    "with open('fisier.txt') as f:\n",
    "    x = f.read()\n",
    "x"
   ]
  },
  {
   "cell_type": "markdown",
   "metadata": {},
   "source": [
    "#### One line reader"
   ]
  },
  {
   "cell_type": "code",
   "execution_count": 60,
   "metadata": {},
   "outputs": [
    {
     "name": "stdout",
     "output_type": "stream",
     "text": [
      "mytext\n",
      "second row\n"
     ]
    }
   ],
   "source": [
    "print(open('fisier.txt').read())"
   ]
  },
  {
   "cell_type": "markdown",
   "metadata": {},
   "source": [
    "- Text files represent content as normal str strings, perform Unicode encoding and decoding automatically, and perform end-of-line translation by default.\n",
    "- Binary files represent content as a special bytes string type and allow programs to access file content unaltered."
   ]
  },
  {
   "cell_type": "code",
   "execution_count": 61,
   "metadata": {},
   "outputs": [
    {
     "data": {
      "text/plain": [
       "b'mytext\\r\\nsecond row'"
      ]
     },
     "execution_count": 61,
     "metadata": {},
     "output_type": "execute_result"
    }
   ],
   "source": [
    "data = open('fisier.txt', 'rb').read()\n",
    "data"
   ]
  },
  {
   "cell_type": "code",
   "execution_count": 62,
   "metadata": {},
   "outputs": [
    {
     "data": {
      "text/plain": [
       "121"
      ]
     },
     "execution_count": 62,
     "metadata": {},
     "output_type": "execute_result"
    }
   ],
   "source": [
    "data[1]"
   ]
  },
  {
   "cell_type": "code",
   "execution_count": 63,
   "metadata": {},
   "outputs": [
    {
     "data": {
      "text/plain": [
       "'0b1111001'"
      ]
     },
     "execution_count": 63,
     "metadata": {},
     "output_type": "execute_result"
    }
   ],
   "source": [
    "bin(data[1])"
   ]
  },
  {
   "cell_type": "markdown",
   "metadata": {},
   "source": [
    "#### Storing Native Python Objects: pickle"
   ]
  },
  {
   "cell_type": "code",
   "execution_count": 64,
   "metadata": {},
   "outputs": [],
   "source": [
    "dicti = {'a': 1, 'b': 2}\n",
    "fisierul = open('fisier.pkl', 'wb')\n",
    "import pickle\n",
    "pickle.dump(dicti, fisierul) # Pickle the object to file\n",
    "fisierul.close()"
   ]
  },
  {
   "cell_type": "code",
   "execution_count": 65,
   "metadata": {},
   "outputs": [
    {
     "data": {
      "text/plain": [
       "{'a': 1, 'b': 2}"
      ]
     },
     "execution_count": 65,
     "metadata": {},
     "output_type": "execute_result"
    }
   ],
   "source": [
    "fisierul_o = open('fisier.pkl', 'rb')\n",
    "out = pickle.load(fisierul_o) # Load the object from the file\n",
    "out"
   ]
  },
  {
   "cell_type": "markdown",
   "metadata": {},
   "source": [
    "#### Storing Python Objects in JSON Format"
   ]
  },
  {
   "cell_type": "code",
   "execution_count": null,
   "metadata": {},
   "outputs": [],
   "source": [
    "name = dict(first='Bob', last='Smith')\n",
    "rec = dict(name=name, job=['dev', 'mgr'], age=40.5)\n",
    "rec"
   ]
  },
  {
   "cell_type": "code",
   "execution_count": null,
   "metadata": {},
   "outputs": [],
   "source": [
    "import json\n",
    "json.dumps(rec)"
   ]
  },
  {
   "cell_type": "code",
   "execution_count": null,
   "metadata": {},
   "outputs": [],
   "source": [
    "S = json.dumps(rec)\n",
    "O = json.loads(S)\n",
    "O == rec"
   ]
  },
  {
   "cell_type": "code",
   "execution_count": null,
   "metadata": {},
   "outputs": [],
   "source": [
    "json.dump(rec, fp=open('testjson.txt', 'w'), indent=4)\n",
    "print(open('testjson.txt').read())"
   ]
  },
  {
   "cell_type": "code",
   "execution_count": null,
   "metadata": {},
   "outputs": [],
   "source": [
    "P = json.load(open('testjson.txt'))\n",
    "P"
   ]
  },
  {
   "cell_type": "markdown",
   "metadata": {},
   "source": [
    "- The == operator tests value equivalence\n",
    "- The is operator tests object identity"
   ]
  },
  {
   "cell_type": "code",
   "execution_count": null,
   "metadata": {},
   "outputs": [],
   "source": [
    "S1 = 'spam'\n",
    "S2 = 'spam'\n",
    "S1 == S2, S1 is S2"
   ]
  },
  {
   "cell_type": "code",
   "execution_count": null,
   "metadata": {},
   "outputs": [],
   "source": [
    "S1 = 'a longer string'\n",
    "S2 = 'a longer string'\n",
    "S1 == S2, S1 is S2"
   ]
  },
  {
   "cell_type": "markdown",
   "metadata": {},
   "source": [
    "#### List multipliers"
   ]
  },
  {
   "cell_type": "code",
   "execution_count": null,
   "metadata": {},
   "outputs": [],
   "source": [
    "L = [4, 5, 6]\n",
    "X = L * 4\n",
    "Y = [L] * 4\n",
    "X, Y"
   ]
  },
  {
   "cell_type": "code",
   "execution_count": null,
   "metadata": {},
   "outputs": [],
   "source": [
    "L[1] = 'Dragos'\n",
    "X, Y"
   ]
  },
  {
   "cell_type": "markdown",
   "metadata": {},
   "source": [
    "#### Assertion"
   ]
  },
  {
   "cell_type": "code",
   "execution_count": 66,
   "metadata": {},
   "outputs": [
    {
     "ename": "AssertionError",
     "evalue": "nu e",
     "output_type": "error",
     "traceback": [
      "\u001b[1;31m---------------------------------------------------------------------------\u001b[0m",
      "\u001b[1;31mAssertionError\u001b[0m                            Traceback (most recent call last)",
      "\u001b[1;32m<ipython-input-66-ea95ca9a6f35>\u001b[0m in \u001b[0;36m<module>\u001b[1;34m\u001b[0m\n\u001b[1;32m----> 1\u001b[1;33m \u001b[1;32massert\u001b[0m \u001b[1;36m4\u001b[0m \u001b[1;33m>\u001b[0m \u001b[1;36m6\u001b[0m\u001b[1;33m,\u001b[0m \u001b[1;34m\"nu e\"\u001b[0m\u001b[1;33m\u001b[0m\u001b[1;33m\u001b[0m\u001b[0m\n\u001b[0m",
      "\u001b[1;31mAssertionError\u001b[0m: nu e"
     ]
    }
   ],
   "source": [
    "assert 4 > 6, \"nu e\""
   ]
  },
  {
   "cell_type": "markdown",
   "metadata": {},
   "source": [
    "#### Multi statements on a single line"
   ]
  },
  {
   "cell_type": "code",
   "execution_count": null,
   "metadata": {},
   "outputs": [],
   "source": [
    "a = 1; b = 2; print(a + b)"
   ]
  },
  {
   "cell_type": "markdown",
   "metadata": {},
   "source": [
    "#### Checking if input is an integer:"
   ]
  },
  {
   "cell_type": "code",
   "execution_count": null,
   "metadata": {},
   "outputs": [],
   "source": [
    "while True:\n",
    "    my_word = input(\"Enter your input here:\")\n",
    "    if my_word.lower() == \"stop\": break\n",
    "    elif not my_word.isdigit():\n",
    "        print(f\"{my_word} is not a number\")\n",
    "    else:\n",
    "        print(f\"{my_word} ^ 2 = {int(my_word) **2}\")"
   ]
  },
  {
   "cell_type": "code",
   "execution_count": null,
   "metadata": {},
   "outputs": [],
   "source": [
    "a, *_ ,b = 'spamma'"
   ]
  },
  {
   "cell_type": "code",
   "execution_count": null,
   "metadata": {},
   "outputs": [],
   "source": [
    "_"
   ]
  },
  {
   "cell_type": "markdown",
   "metadata": {},
   "source": [
    "#### Unpacking"
   ]
  },
  {
   "cell_type": "code",
   "execution_count": null,
   "metadata": {},
   "outputs": [],
   "source": [
    "seq = range(4)\n",
    "a, b, *e, c, d = seq\n",
    "a, b, c, d, e"
   ]
  },
  {
   "cell_type": "markdown",
   "metadata": {},
   "source": [
    "#### Multiple-Target Assignments\n",
    "a = b = c = 0 is the same with:<br>\n",
    "c = 0<br>\n",
    "b = c<br>\n",
    "a = b"
   ]
  },
  {
   "cell_type": "code",
   "execution_count": null,
   "metadata": {},
   "outputs": [],
   "source": [
    "a = b = 0\n",
    "b = 1\n",
    "a, b"
   ]
  },
  {
   "cell_type": "code",
   "execution_count": null,
   "metadata": {},
   "outputs": [],
   "source": [
    "a = b = []\n",
    "b.append(21)\n",
    "a, b"
   ]
  },
  {
   "cell_type": "markdown",
   "metadata": {},
   "source": [
    "#### Augmented assignements usually run faster"
   ]
  },
  {
   "cell_type": "code",
   "execution_count": null,
   "metadata": {},
   "outputs": [],
   "source": [
    "x = 1\n",
    "x = x + 1 # x runs 2 times\n",
    "x += 1 # x runs 1 time"
   ]
  },
  {
   "cell_type": "markdown",
   "metadata": {},
   "source": [
    "#### Mapped to L.extend()"
   ]
  },
  {
   "cell_type": "code",
   "execution_count": null,
   "metadata": {},
   "outputs": [],
   "source": [
    "L = [1, 2]\n",
    "L.extend([3, 4])\n",
    "L += [5, 6]\n",
    "L"
   ]
  },
  {
   "cell_type": "markdown",
   "metadata": {},
   "source": [
    "#### ! "
   ]
  },
  {
   "cell_type": "code",
   "execution_count": null,
   "metadata": {},
   "outputs": [],
   "source": [
    "L = []\n",
    "L += 'spam'\n",
    "L"
   ]
  },
  {
   "cell_type": "code",
   "execution_count": null,
   "metadata": {},
   "outputs": [],
   "source": [
    "L = []\n",
    "L = L + 'spam'"
   ]
  },
  {
   "cell_type": "markdown",
   "metadata": {},
   "source": [
    "#### Augmented assignment and shared references\n",
    "Concatenation (1) makes a new object, += means extend, and is inplace"
   ]
  },
  {
   "cell_type": "code",
   "execution_count": null,
   "metadata": {},
   "outputs": [],
   "source": [
    "L = [1, 2]\n",
    "M = L\n",
    "L = L + [3, 4]\n",
    "L, M"
   ]
  },
  {
   "cell_type": "code",
   "execution_count": null,
   "metadata": {},
   "outputs": [],
   "source": [
    "L = [1, 2]\n",
    "M = L\n",
    "L += [3, 4]\n",
    "L, M"
   ]
  },
  {
   "cell_type": "markdown",
   "metadata": {},
   "source": [
    "#### Data connections"
   ]
  },
  {
   "cell_type": "markdown",
   "metadata": {},
   "source": [
    "- standard input (stdin)\n",
    "- standard output (stdout)\n",
    "- error stream"
   ]
  },
  {
   "cell_type": "markdown",
   "metadata": {},
   "source": [
    "#### Print function"
   ]
  },
  {
   "cell_type": "code",
   "execution_count": null,
   "metadata": {},
   "outputs": [],
   "source": [
    "# print([object, ...][, sep=' '][, end='\\n'][, file=sys.stdout][, flush=False])"
   ]
  },
  {
   "cell_type": "code",
   "execution_count": null,
   "metadata": {},
   "outputs": [],
   "source": [
    "with open('try.py', 'w') as f:\n",
    "    print('Dragos', \"Bratu\", sep='%', end='$$$', file=f)\n",
    "# Dragos%Bratu$$$"
   ]
  },
  {
   "cell_type": "code",
   "execution_count": null,
   "metadata": {},
   "outputs": [],
   "source": [
    "x, y, z = 'Dragos', 'Florian', 'BRATU'\n",
    "print(x, y, z, sep='...', file=open('try.py', 'w'))\n",
    "# Dragos...Florian...BRATU"
   ]
  },
  {
   "cell_type": "markdown",
   "metadata": {},
   "source": [
    "#### redirecting the stream of data into a file"
   ]
  },
  {
   "cell_type": "code",
   "execution_count": null,
   "metadata": {},
   "outputs": [],
   "source": [
    "import sys\n",
    "temp = sys.stdout\n",
    "sys.stdout = open('try.py', 'a')\n",
    "print('Manchester')\n",
    "print('United')\n",
    "sys.stdout.close()\n",
    "sys.stdout = temp\n",
    "print('Here inside')\n",
    "print(open('try.py').read())"
   ]
  },
  {
   "cell_type": "code",
   "execution_count": null,
   "metadata": {},
   "outputs": [],
   "source": [
    "log = open('try.py', 'a')\n",
    "print('Rafa', file=log)"
   ]
  },
  {
   "cell_type": "code",
   "execution_count": null,
   "metadata": {},
   "outputs": [],
   "source": [
    "['first', 'second'][bool('')], ['first', 'second'][bool('a')]"
   ]
  },
  {
   "cell_type": "code",
   "execution_count": null,
   "metadata": {},
   "outputs": [],
   "source": [
    "a = \"\"\n",
    "b = \"\"\n",
    "c = \"non_null\"\n",
    "z = a or b or None\n",
    "t = a or c or None\n",
    "z, t"
   ]
  },
  {
   "cell_type": "markdown",
   "metadata": {},
   "source": [
    "#### Else statement in a loop runs only if the loop is exited normally"
   ]
  },
  {
   "cell_type": "code",
   "execution_count": null,
   "metadata": {},
   "outputs": [],
   "source": [
    "x = 2\n",
    "exit_normally = True\n",
    "while x > 0:\n",
    "    print(x, end=\" \")\n",
    "    x -= 1\n",
    "    if not exit_normally:\n",
    "        print(\"Forced exit\")\n",
    "        break\n",
    "else:\n",
    "    print(\"I'm done\")"
   ]
  },
  {
   "cell_type": "code",
   "execution_count": null,
   "metadata": {},
   "outputs": [],
   "source": [
    "for i in range(5):\n",
    "    print(\"we fine\")\n",
    "    if i == 3:\n",
    "        print('Forced exit')\n",
    "        break\n",
    "else:\n",
    "    print(\"Exit normally\")"
   ]
  },
  {
   "cell_type": "markdown",
   "metadata": {},
   "source": [
    "#### Reading chunks of data using loops:"
   ]
  },
  {
   "cell_type": "code",
   "execution_count": null,
   "metadata": {},
   "outputs": [],
   "source": [
    "file = open(\"try.py\")\n",
    "while True:\n",
    "    line = file.readline()\n",
    "    if not line:\n",
    "        break\n",
    "    print(line.rstrip(), \"#\")\n"
   ]
  },
  {
   "cell_type": "code",
   "execution_count": null,
   "metadata": {},
   "outputs": [],
   "source": [
    "file = open(\"try.py\", 'rb')\n",
    "while True:\n",
    "    chunk = file.read(10)\n",
    "    if not chunk:\n",
    "        break\n",
    "    print(chunk, '#\\n')"
   ]
  },
  {
   "cell_type": "markdown",
   "metadata": {},
   "source": [
    "#### Making an object iterable and calling the next value"
   ]
  },
  {
   "cell_type": "code",
   "execution_count": null,
   "metadata": {},
   "outputs": [],
   "source": [
    "sir1 = iter(\"Dragos\")\n",
    "sir2 = \"Bratu\".__iter__()\n",
    "print(sir1.__next__())\n",
    "print(next(sir2))"
   ]
  },
  {
   "cell_type": "markdown",
   "metadata": {},
   "source": [
    "#### Lists are not iterators"
   ]
  },
  {
   "cell_type": "code",
   "execution_count": null,
   "metadata": {},
   "outputs": [],
   "source": [
    "L = [1, 2, 3]\n",
    "L = iter(L)\n",
    "next(L)"
   ]
  },
  {
   "cell_type": "markdown",
   "metadata": {},
   "source": [
    "#### Enumerate"
   ]
  },
  {
   "cell_type": "code",
   "execution_count": null,
   "metadata": {},
   "outputs": [],
   "source": [
    "E = enumerate(\"Dragos\")\n",
    "print(*list(E), sep=\"\\n\")"
   ]
  },
  {
   "cell_type": "markdown",
   "metadata": {},
   "source": [
    "#### List comprehensions may often run twice as fast\n",
    "#### Comprehension for reading files: won’t load a file into memory all at once like some other techniques\n",
    "#### Again, especially for large files, the advantages of list comprehensions can be significant."
   ]
  },
  {
   "cell_type": "code",
   "execution_count": null,
   "metadata": {},
   "outputs": [],
   "source": [
    "print([line.rstrip() for line in open('next_steps.txt')])"
   ]
  },
  {
   "cell_type": "code",
   "execution_count": null,
   "metadata": {},
   "outputs": [],
   "source": [
    "print([line.rstrip().upper() for line in open(\"next_steps.txt\") if line[0].lower() == \"2\"])"
   ]
  },
  {
   "cell_type": "markdown",
   "metadata": {},
   "source": [
    "#### Nested comprehension lists"
   ]
  },
  {
   "cell_type": "code",
   "execution_count": null,
   "metadata": {},
   "outputs": [],
   "source": [
    "[l1 + l2 for l1 in 'Dra' for l2 in \"123\" if int(l2) % 2 == 1]"
   ]
  },
  {
   "cell_type": "markdown",
   "metadata": {},
   "source": [
    "#### Lambda use"
   ]
  },
  {
   "cell_type": "code",
   "execution_count": null,
   "metadata": {},
   "outputs": [],
   "source": [
    "M = map(lambda x: x ** 2, range(3))\n",
    "list(M)"
   ]
  },
  {
   "cell_type": "markdown",
   "metadata": {},
   "source": [
    "#### Reduce"
   ]
  },
  {
   "cell_type": "code",
   "execution_count": null,
   "metadata": {},
   "outputs": [],
   "source": [
    "from functools import reduce\n",
    "print(reduce(lambda x, y: x + y, range(6)))\n",
    "print(reduce(lambda x, y: x * y, [1, 2, 3, 4]))"
   ]
  },
  {
   "cell_type": "markdown",
   "metadata": {},
   "source": [
    "#### Multiple comprehension"
   ]
  },
  {
   "cell_type": "code",
   "execution_count": null,
   "metadata": {},
   "outputs": [],
   "source": [
    "print([x + y + z \tfor x in \"spam\" if x in 'sp'\n",
    "\t\t\t\t\tfor y in \"SPAM\" if y in \"AM\"\n",
    "\t\t\t\t\tfor z in \"boom\" if z == 'o'])\n"
   ]
  },
  {
   "cell_type": "markdown",
   "metadata": {},
   "source": [
    "#### Comprehension"
   ]
  },
  {
   "cell_type": "code",
   "execution_count": null,
   "metadata": {},
   "outputs": [],
   "source": [
    "M = [[1, 2, 3],\n",
    "\t[4, 5, 6],\n",
    "\t[7, 8, 9]]\n",
    "\n",
    "print([[col + 10 for col in row] for row in M])\n",
    "# or\n",
    "print([col + 10 for row in M for col in row])\n",
    "# map is faster than for, and comprehension is faster than map"
   ]
  },
  {
   "cell_type": "markdown",
   "metadata": {},
   "source": [
    "#### Generators can be enumerated"
   ]
  },
  {
   "cell_type": "code",
   "execution_count": null,
   "metadata": {},
   "outputs": [],
   "source": [
    "def my_gen(L):\n",
    "\tfor el in L:\n",
    "\t\tyield el * 10\n",
    "\n",
    "x = my_gen([1, 2, 3, 4])\n",
    "print({a: b for a, b in enumerate(x, start=1)})"
   ]
  },
  {
   "cell_type": "markdown",
   "metadata": {},
   "source": [
    "#### You can use join for generators"
   ]
  },
  {
   "cell_type": "code",
   "execution_count": null,
   "metadata": {},
   "outputs": [],
   "source": [
    "print('#'.join((x.upper() for x in 'aaa,bbb,ccc'.split(','))))"
   ]
  },
  {
   "cell_type": "markdown",
   "metadata": {},
   "source": [
    "#### Generator expressions are a memory-space optimization"
   ]
  },
  {
   "cell_type": "markdown",
   "metadata": {},
   "source": [
    "#### Exhausting a generator"
   ]
  },
  {
   "cell_type": "code",
   "execution_count": null,
   "metadata": {},
   "outputs": [],
   "source": [
    "G = (c * 3 for c in 'BRATU')\n",
    "print(next(G))\n",
    "print(next(G))\n",
    "print(list(G))\n",
    "print(next(G))"
   ]
  },
  {
   "cell_type": "markdown",
   "metadata": {},
   "source": [
    "#### Python 'find' operation"
   ]
  },
  {
   "cell_type": "code",
   "execution_count": null,
   "metadata": {},
   "outputs": [],
   "source": [
    "import os\n",
    "for (root, subs, files) in os.walk('.'):\n",
    "\tfor name in files:\n",
    "\t\tif name.startswith('U'):\n",
    "\t\t\tprint(root, name.upper())"
   ]
  },
  {
   "cell_type": "markdown",
   "metadata": {},
   "source": [
    "#### Simple variables are not changed in place, mutable variables are "
   ]
  },
  {
   "cell_type": "code",
   "execution_count": null,
   "metadata": {},
   "outputs": [],
   "source": [
    "def changer(a, b):\n",
    "\ta= 2\n",
    "\tb[0] = 'spam'\n",
    "X = 1\n",
    "L = [1, 2]\n",
    "changer(X, L)\n",
    "print(X, L)"
   ]
  },
  {
   "cell_type": "markdown",
   "metadata": {},
   "source": [
    "### Mutable and imutable objects"
   ]
  },
  {
   "cell_type": "code",
   "execution_count": null,
   "metadata": {},
   "outputs": [],
   "source": [
    "x = 1\n",
    "a = x\n",
    "a = 2\n",
    "print(f'a={a}, x={x}')\n",
    "L = [1, 2]\n",
    "M = L\n",
    "M[0] = 3\n",
    "print(f'M={M}, L={L}')"
   ]
  },
  {
   "cell_type": "code",
   "execution_count": null,
   "metadata": {},
   "outputs": [],
   "source": [
    "### Arguments"
   ]
  },
  {
   "cell_type": "code",
   "execution_count": null,
   "metadata": {},
   "outputs": [],
   "source": [
    "def function(a, *b, **c):\n",
    "\tprint(a)\n",
    "\tprint(b)\n",
    "\tprint(c)\n",
    "function(1, 2, 3, c=4, d=5)\n",
    "def function(a, b, c):\n",
    "\tprint(a, b, c)\n",
    "my_dict = {'a':1, 'b':2, 'c':3} \n",
    "function(**my_dict) # # Same as func(a=1, b=2, c=3)"
   ]
  },
  {
   "cell_type": "markdown",
   "metadata": {},
   "source": [
    "#### Tracer function"
   ]
  },
  {
   "cell_type": "code",
   "execution_count": null,
   "metadata": {},
   "outputs": [],
   "source": [
    "def tracer(func, *pargs, **kargs):\n",
    "\tprint('calling:', func.__name__)\n",
    "\treturn func(*pargs, **kargs)\n",
    "def my_func(a, b, c, d):\n",
    "\treturn a + b + c + d\n",
    "print(tracer(my_func, 1, 2, c=4, d=10))"
   ]
  },
  {
   "cell_type": "code",
   "execution_count": null,
   "metadata": {},
   "outputs": [],
   "source": [
    "#### Timing your applications"
   ]
  },
  {
   "cell_type": "code",
   "execution_count": null,
   "metadata": {},
   "outputs": [],
   "source": [
    "import time\n",
    "def timer(func, *args):\n",
    "\tstart = time.perf_counter()\n",
    "\tfor i in range(1000):\n",
    "\t\tfunc(*args)\n",
    "\treturn time.perf_counter() - start\n",
    "print(timer(pow, 2, 1000))\n",
    "print(timer(str.upper, 'spam'))"
   ]
  },
  {
   "cell_type": "markdown",
   "metadata": {},
   "source": [
    "#### Subtle assignment"
   ]
  },
  {
   "cell_type": "code",
   "execution_count": null,
   "metadata": {},
   "outputs": [],
   "source": [
    "x = 99\n",
    "def printare1():\n",
    "\tprint(x)\n",
    "def printare2():\n",
    "\tprint(x)\n",
    "\tx = 100\n",
    "def printare3():\n",
    "\timport __main__\n",
    "\tprint(__main__.x)\n",
    "\tx = 100\n",
    "\tprint(x)\n",
    "printare1()\n",
    "printare2() # UnboundLocalError: local variable 'x' referenced before assignment\n",
    "printare3()"
   ]
  },
  {
   "cell_type": "markdown",
   "metadata": {},
   "source": [
    "#### PythonPath\n",
    "In brief, PYTHONPATH is simply a list of user-defined and platform-specific names of directories that contain Python code files."
   ]
  },
  {
   "cell_type": "markdown",
   "metadata": {},
   "source": [
    "#### .pth path file directories (configurable)\n",
    "Python allows users to add directories to the module search path by simply listing them, one per line, in a text file whose name ends with a .pth suffix (for “path”).\n",
    "In short, text files of directory names dropped in an appropriate directory can serve roughly the same role as the PYTHONPATH environment variable setting.\n",
    "e.g.: pydirs.pth\n",
    "c:\\pycode\\utilities \n",
    "d:\\pycode\\package1"
   ]
  },
  {
   "cell_type": "markdown",
   "metadata": {},
   "source": [
    "#### Import b might load:\n",
    "- A source code file named b.py\n",
    "- A byte code file named b.pyc\n",
    "- An optimized byte code file named b.pyo (typically 5 percent faster than .pyc files)\n",
    "- A directory named b, for package imports\n",
    "- A compiled extension module (dy- namically linked when imported) b.so on Linux., b.dll or b.pyd on Windows\n",
    "- A ZIP file component that is automatically extracted when imported\n",
    "- An in-memory image, for frozen executables\n",
    "- A .NET component, in the IronPython version of Python\n",
    "\n",
    "If you have both a b.py and a b.so in different directories, Python will always load the one found in the first (leftmost) directory of your module search path during the left- to-right search of sys.path."
   ]
  },
  {
   "cell_type": "markdown",
   "metadata": {},
   "source": [
    "#### What is a namespace?\n",
    "A namespace is a self-contained package of variables, which are known as the attributes of the namespace object."
   ]
  },
  {
   "cell_type": "markdown",
   "metadata": {},
   "source": [
    "#### Second and later imports don’t rerun the module’s code"
   ]
  },
  {
   "cell_type": "code",
   "execution_count": null,
   "metadata": {},
   "outputs": [],
   "source": [
    "import simple # dragos = 'boss'\n",
    "\n",
    "print(simple.dragos) # boss\n",
    "simple.dragos = 'baros'\n",
    "print(simple.dragos) # baros\n",
    "import simple\n",
    "print(simple.dragos) # baros"
   ]
  },
  {
   "cell_type": "markdown",
   "metadata": {},
   "source": [
    "#### Reload a module"
   ]
  },
  {
   "cell_type": "code",
   "execution_count": null,
   "metadata": {},
   "outputs": [],
   "source": [
    "import simple # dragos = 'boss'\n",
    "\n",
    "print(simple.dragos) # boss\n",
    "from imp import reload\n",
    "reload(simple)\n",
    "print(simple.dragos) # altceva"
   ]
  },
  {
   "cell_type": "markdown",
   "metadata": {},
   "source": [
    "#### Packages\n",
    "import dir1.dir2.mod # dir1/dir2/mod.py <br>\n",
    "!!! TO BE CONTINUED!!!"
   ]
  },
  {
   "cell_type": "markdown",
   "metadata": {},
   "source": [
    "#### Polymorphism\n",
    "Recall that polymorphism means that the meaning of an operation depends on the object being operated on."
   ]
  },
  {
   "cell_type": "markdown",
   "metadata": {},
   "source": [
    "#### Classes"
   ]
  },
  {
   "cell_type": "code",
   "execution_count": null,
   "metadata": {},
   "outputs": [],
   "source": [
    "class FirstClass:\n",
    "\n",
    "\tdef data(self, data):\n",
    "\t\tself.data = data\n",
    "\n",
    "\n",
    "\tdef printing(self):\n",
    "\t\tprint(f\"First print: {self.data}\")\n",
    "\n",
    "class SecondClass(FirstClass):\n",
    "\n",
    "\tdef data(self, data):\n",
    "\t\tself.data = data\n",
    "\n",
    "\tdef printing2(self):\n",
    "\t\tprint(f\"Second printing: {self.data}\")\n",
    "\n",
    "class ThirdClass(SecondClass):\n",
    "\n",
    "\tdef __init__(self, data):\n",
    "\t\tself.data = data\n",
    "\n",
    "\tdef __add__(self, other):\n",
    "\t\treturn ThirdClass(self.data + other)\n",
    "\n",
    "\tdef __str__(self):\n",
    "\t\treturn f\"This object is: {self.data}\"\n",
    "\n",
    "\tdef mul(self, other):\n",
    "\t\treturn f\"Multiplication is: {self.data * other}\"\n",
    "\n",
    "\n",
    "#### to not see things when imported:\n",
    "if __name__ == '__main__':\n",
    "\tobj = ThirdClass(\"Dragos\")\n",
    "\tprint(obj.mul(2))\n",
    "\tprint(obj)\n",
    "\tprint(obj + ' Bratu') # print(' Bratu' + obj) does not work"
   ]
  },
  {
   "cell_type": "markdown",
   "metadata": {},
   "source": [
    "#### Encapsulation\n",
    "Wrapping up operation logic behind interfaces, such that each operation is coded only once in our program.\n"
   ]
  },
  {
   "cell_type": "markdown",
   "metadata": {},
   "source": [
    "#### Attribute LEGB"
   ]
  },
  {
   "cell_type": "code",
   "execution_count": null,
   "metadata": {},
   "outputs": [],
   "source": [
    "class clasamea:\n",
    "\tspam = 99\n",
    "\n",
    "x = clasamea()\n",
    "y = clasamea()\n",
    "print(x.spam, y.spam)\n",
    "x.spam = 88\n",
    "clasamea.spam = 100\n",
    "print(x.spam, y.spam)"
   ]
  },
  {
   "cell_type": "markdown",
   "metadata": {},
   "source": [
    "#### Calling the constructor for super class as well:"
   ]
  },
  {
   "cell_type": "code",
   "execution_count": null,
   "metadata": {},
   "outputs": [],
   "source": [
    "class Parinte:\n",
    "\tdef __init__(self, nume):\n",
    "\t\tself.nume_familie = nume\n",
    "\n",
    "class Copil(Parinte):\n",
    "\tdef __init__(self, nume, prenume):\n",
    "\t\tParinte.__init__(self, nume)\n",
    "\t\tself.nume_mic = prenume\n",
    "\tdef __str__(self):\n",
    "\t\treturn f'Persoana aceasta este {self.nume_mic} {self.nume_familie.upper()}'\n",
    "\n",
    "dragos = Copil('Bratu', 'Dragos')\n",
    "print(dragos)"
   ]
  },
  {
   "cell_type": "markdown",
   "metadata": {},
   "source": [
    "#### LEGB rule with classes"
   ]
  },
  {
   "cell_type": "code",
   "execution_count": null,
   "metadata": {},
   "outputs": [],
   "source": [
    "x = 1\n",
    "class mu:\n",
    "\tx = 2\n",
    "\tprint(x) \t\t\t# 2\n",
    "\tdef method1(self):\n",
    "\t\tprint(x)\t\t# 1\n",
    "\t\tprint(self.x)\t# 2\n",
    "obj = mu()\n",
    "obj.method1()"
   ]
  },
  {
   "cell_type": "markdown",
   "metadata": {},
   "source": [
    "#### Abstract classes"
   ]
  },
  {
   "cell_type": "code",
   "execution_count": null,
   "metadata": {},
   "outputs": [],
   "source": [
    "from abc import ABC, abstractmethod\n",
    "\n",
    "class Shape(ABC):\n",
    "\n",
    "\t@abstractmethod\n",
    "\tdef area(self):\n",
    "\t\tpass\n",
    "\n",
    "\t@abstractmethod\n",
    "\tdef perimeter(self):\n",
    "\t\tpass\n",
    "\n",
    "class Square(Shape):\n",
    "\n",
    "\tdef __init__(self, side):\n",
    "\t\tself.side = side\n",
    "\n",
    "\tdef area(self):\n",
    "\t\treturn self.side * self.side\n",
    "\n",
    "\tdef perimeter(self):\n",
    "\t\treturn self.side * 4\n",
    "\n",
    "my_square = Square(5)\n",
    "print(my_square.perimeter())\n",
    "print(my_square.area())"
   ]
  },
  {
   "cell_type": "markdown",
   "metadata": {},
   "source": [
    "#### Bakery example"
   ]
  },
  {
   "cell_type": "code",
   "execution_count": null,
   "metadata": {},
   "outputs": [],
   "source": [
    "class Employee:\n",
    "\n",
    "\tdef __init__(self, name, pay):\n",
    "\t\tself.name = name\n",
    "\t\tself.pay = pay\n",
    "\n",
    "\tdef work(self):\n",
    "\t\tprint(f\"{self.name} does stuff\")\n",
    "\n",
    "\tdef give_raise(self, percentage):\n",
    "\t\tself.pay = self.pay * (1 + percentage)\n",
    "\n",
    "\tdef __repr__(self):\n",
    "\t\treturn f\"Employee: {self.name} with the {self.pay} salary\"\n",
    "\n",
    "class Chef(Employee):\n",
    "\n",
    "\tdef __init__(self, name):\n",
    "\t\tEmployee.__init__(self, name, 50000)\n",
    "\n",
    "\tdef work(self):\n",
    "\t\tprint(f\"{self.name} makes food\")\n",
    "\n",
    "class Server(Employee):\n",
    "\n",
    "\tdef __init__(self, name):\n",
    "\t\tEmployee.__init__(self, name, 4000)\n",
    "\n",
    "\tdef work(self):\n",
    "\t\tprint(f\"{self.name} serves people\")\n",
    "\n",
    "class PizzaRobot(Chef):\n",
    "\n",
    "\tdef __init__(self, name):\n",
    "\t\tChef.__init__(self, name)\n",
    "\n",
    "\tdef work(self):\n",
    "\t\tprint(f'{self.name} makes pizza')\n",
    "\n",
    "\n",
    "class Customer:\n",
    "\n",
    "\tdef __init__(self, name):\n",
    "\t\tself.name = name\n",
    "\n",
    "\tdef order(self, server):\n",
    "\t\tprint(f\"{self.name} is served by {server}\")\n",
    "\n",
    "\tdef pays(self, server):\n",
    "\t\tprint(f\"{self.name} pays to {server}\")\n",
    "\n",
    "class Oven:\n",
    "\tdef bake(self):\n",
    "\t\tprint(\"Oven baking\")\n",
    "\n",
    "class PizzaShop:\n",
    "\tdef __init__(self):\n",
    "\t\tself.server = Server('Gigel')\n",
    "\t\tself.chef = PizzaRobot('MrProper')\n",
    "\t\tself.oven = Oven()\n",
    "\n",
    "\tdef order(self, name):\n",
    "\t\tcustomer = Customer(name)\n",
    "\t\tcustomer.order(self.server)\n",
    "\t\tself.chef.work()\n",
    "\t\tself.oven.bake()\n",
    "\t\tcustomer.pays(self.server)\n",
    "\n",
    "if __name__ == \"__main__\":\n",
    "\tscene = PizzaShop()\n",
    "\tscene.order('Jose')\n",
    "\tscene.order('Wayne')"
   ]
  },
  {
   "cell_type": "markdown",
   "metadata": {},
   "source": [
    "#### Data processor"
   ]
  },
  {
   "cell_type": "code",
   "execution_count": null,
   "metadata": {},
   "outputs": [],
   "source": [
    "class Processor:\n",
    "\tdef __init__(self, reader, writer):\n",
    "\t\tself.reader = reader\n",
    "\t\tself.writer = writer\n",
    "\n",
    "\tdef process(self):\n",
    "\t\twhile True:\n",
    "\t\t\tdata = self.reader.readline()\n",
    "\t\t\tif not data:\n",
    "\t\t\t\tbreak\n",
    "\t\t\tdata = self.converter(data)\n",
    "\t\t\tself.writer.write(data)\n",
    "\n",
    "\tdef converter(self, data):\n",
    "\t\tassert False, 'converter must be defined'\n",
    "\n",
    "class Uppercase(Processor):\n",
    "\n",
    "\tdef converter(self, data):\n",
    "\t\treturn data.upper()\n",
    "\n",
    "\n",
    "if __name__ == \"__main__\":\n",
    "\timport sys\n",
    "\tobj = Uppercase(open('next_steps.txt'), sys.stdout)\n",
    "\tobj.process()"
   ]
  },
  {
   "cell_type": "markdown",
   "metadata": {},
   "source": [
    "#### Pseudo_private variables"
   ]
  },
  {
   "cell_type": "code",
   "execution_count": null,
   "metadata": {},
   "outputs": [],
   "source": [
    "class C1:\n",
    "\tdef meth1(self):\n",
    "\t\tself.X = 88\n",
    "\tdef meth2(self):\n",
    "\t\tprint(self.X)\n",
    "\n",
    "class C2:\n",
    "\tdef metha(self):\n",
    "\t\tself.X = 99\n",
    "\tdef methb(self):\n",
    "\t\tprint(self.X)\n",
    "\n",
    "class C3(C1, C2):\n",
    "\tpass\n",
    "\n",
    "obj = C3()\n",
    "obj.meth1()\n",
    "obj.metha()\n",
    "obj.meth2()\n",
    "obj.methb()"
   ]
  },
  {
   "cell_type": "code",
   "execution_count": null,
   "metadata": {},
   "outputs": [],
   "source": [
    "class C1:\n",
    "\tdef meth1(self):\n",
    "\t\tself.__X = 88 # Becomes _C1__X in I\n",
    "\tdef meth2(self):\n",
    "\t\tprint(self.__X)\n",
    "\n",
    "class C2:\n",
    "\tdef metha(self):\n",
    "\t\tself.__X = 99 # Becomes _C2__X in I\n",
    "\tdef methb(self):\n",
    "\t\tprint(self.__X)\n",
    "\n",
    "class C3(C1, C2):\n",
    "\tpass\n",
    "\n",
    "obj = C3()\n",
    "obj.meth1()\n",
    "obj.metha()\n",
    "obj.meth2()\n",
    "obj.methb()"
   ]
  },
  {
   "cell_type": "markdown",
   "metadata": {},
   "source": [
    "#### Methods Are Objects: Bound or Unbound\n",
    "- Unbound (class) method objects: no self\n",
    "- Bound (instance) method objects: self + function pairs"
   ]
  },
  {
   "cell_type": "code",
   "execution_count": null,
   "metadata": {},
   "outputs": [],
   "source": [
    "class Selfless:\n",
    "\n",
    "\tdef __init__(self, data):\n",
    "\t\tself.data = data\n",
    "\n",
    "\tdef selfless(arg1, arg2):\n",
    "\t\treturn arg1 + arg2\n",
    "\n",
    "\tdef normal(self, arg1, arg2):\n",
    "\t\treturn self.data + arg1 + arg2\n",
    "\n",
    "X = Selfless(2)\n",
    "print(Selfless.normal(X, 3, 4)) # 9\n",
    "print(Selfless.selfless(3, 4)) # 7\n",
    "print(X.normal(2, 3)) # 7\n",
    "print(X.selfless(2, 3)) # TypeError: selfless() takes 2 positional arguments but 3 were given"
   ]
  },
  {
   "cell_type": "markdown",
   "metadata": {},
   "source": [
    "#### Generic Object Factories"
   ]
  },
  {
   "cell_type": "code",
   "execution_count": 30,
   "metadata": {},
   "outputs": [
    {
     "name": "stdout",
     "output_type": "stream",
     "text": [
      "99\n",
      "Dragos AI Engineer\n",
      "Arthur Chomeur\n"
     ]
    }
   ],
   "source": [
    "def factory(aClass, *pargs, **kargs):\n",
    "\treturn aClass(*pargs, **kargs)\n",
    "\n",
    "class Spam:\n",
    "\tdef doit(self, message):\n",
    "\t\tprint(message)\n",
    "\n",
    "class Person:\n",
    "\tdef __init__(self, name, job='Chomeur'):\n",
    "\t\tself.name = name\n",
    "\t\tself.job = job\n",
    "\n",
    "object1 = factory(Spam)\n",
    "object2 = factory(Person, \"Dragos\", \"AI Engineer\")\n",
    "object3 = factory(Person, name=\"Arthur\")\n",
    "object1.doit(99)\n",
    "print(object2.name, object2.job)\n",
    "print(object3.name, object3.job)"
   ]
  },
  {
   "cell_type": "code",
   "execution_count": null,
   "metadata": {},
   "outputs": [],
   "source": []
  },
  {
   "cell_type": "code",
   "execution_count": null,
   "metadata": {},
   "outputs": [],
   "source": []
  },
  {
   "cell_type": "code",
   "execution_count": null,
   "metadata": {},
   "outputs": [],
   "source": []
  },
  {
   "cell_type": "code",
   "execution_count": null,
   "metadata": {},
   "outputs": [],
   "source": []
  },
  {
   "cell_type": "code",
   "execution_count": null,
   "metadata": {},
   "outputs": [],
   "source": []
  }
 ],
 "metadata": {
  "kernelspec": {
   "display_name": "Python 3",
   "language": "python",
   "name": "python3"
  },
  "language_info": {
   "codemirror_mode": {
    "name": "ipython",
    "version": 3
   },
   "file_extension": ".py",
   "mimetype": "text/x-python",
   "name": "python",
   "nbconvert_exporter": "python",
   "pygments_lexer": "ipython3",
   "version": "3.6.10"
  }
 },
 "nbformat": 4,
 "nbformat_minor": 4
}
