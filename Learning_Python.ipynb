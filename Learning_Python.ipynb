{
 "cells": [
  {
   "cell_type": "markdown",
   "metadata": {},
   "source": [
    "# Learning Python"
   ]
  },
  {
   "cell_type": "markdown",
   "metadata": {},
   "source": [
    "#### How code is run:\n",
    "- When you instruct Python to run your script, it’s first compiled to something called “byte code” and then routed to something called a “virtual machine.”"
   ]
  },
  {
   "cell_type": "markdown",
   "metadata": {},
   "source": [
    "#### Byte code compilation:\n",
    "- Roughly, Python translates each of your source statements into a group of byte code instructions by decomposing them into individual steps.\n",
    "- If the Python process has write access on your machine, it will store the byte code  of your programs in files that end with a .pyc extension. (n a subdirectory named __pycache__ located in the directory where your source files reside)."
   ]
  },
  {
   "cell_type": "markdown",
   "metadata": {},
   "source": [
    "#### The Python Virtual Machine (PVM)\n",
    "- Once your program has been compiled to byte code , it is shipped off for execution to something generally known as the Python Virtual Machine.\n",
    "<img src=\"ML/data/images/PVM.png\" alt=\"xxx\" title=\"title\" width=560 height=560 />\n",
    "- The PVM is the runtime engine of Python that iterates through your byte code instructions, one by one."
   ]
  },
  {
   "cell_type": "markdown",
   "metadata": {},
   "source": [
    "#### Frozen Binaries:\n",
    "- is possible to turn your Python programs into true executables, known as frozen binaries."
   ]
  },
  {
   "cell_type": "markdown",
   "metadata": {},
   "source": [
    "- Frozen binaries bundle together the byte code of your program files, along with the PVM and any Python support files your program needs, into a single package."
   ]
  },
  {
   "cell_type": "markdown",
   "metadata": {},
   "source": [
    "- py2exe for Windows\n",
    "- PyInstaller, which is similar to py2exe but also works on Linux and Mac OS X\n",
    "- py2app for creating Mac OS X applications"
   ]
  },
  {
   "cell_type": "markdown",
   "metadata": {},
   "source": [
    "- Get out of the python interpreter prompt:\n",
    "    - linux: ctrl+D\n",
    "    - windows: ctrl+Z"
   ]
  },
  {
   "cell_type": "markdown",
   "metadata": {},
   "source": [
    "PATH = the full path to the Python executable on your machine\n",
    "- C:\\Python33\\python\n",
    "- /usr/local/bin/python"
   ]
  },
  {
   "cell_type": "markdown",
   "metadata": {},
   "source": [
    "#### Store the output\n",
    "% python3 script.py > save.txt"
   ]
  },
  {
   "cell_type": "markdown",
   "metadata": {},
   "source": [
    "#### Turning python files into executable programs\n",
    "1. the first line is special: is the path to the interpreter <br>\n",
    "#!/usr/local/bin/python3 <br>\n",
    "print('The Bright Side ' + 'of Life...') <BR>\n",
    "    1.a avoiding hardconding the python path\n",
    "#!/usr/bin/env python\n",
    "2. then have executable privilegdes\n",
    "chmod +x script.py\n",
    "3. Run it as executable:\n",
    "./script.py"
   ]
  },
  {
   "cell_type": "markdown",
   "metadata": {},
   "source": [
    "#### Polymorphism:\n",
    "- The meaning of an operation depends on the objects being operated on.\n",
    "- A Python-coded operation can normally work on many different types of objects automatically, as long as they support a compatible interface (like the + operation here)."
   ]
  },
  {
   "cell_type": "markdown",
   "metadata": {},
   "source": [
    "#### Strings as bytearrays:"
   ]
  },
  {
   "cell_type": "code",
   "execution_count": 31,
   "metadata": {},
   "outputs": [
    {
     "name": "stdout",
     "output_type": "stream",
     "text": [
      "bytearray(b'spam')\n",
      "spam\n"
     ]
    }
   ],
   "source": [
    "a = bytearray(b'spam')\n",
    "print(a)\n",
    "print(a.decode())"
   ]
  },
  {
   "cell_type": "markdown",
   "metadata": {},
   "source": [
    "#### Printing numbers:"
   ]
  },
  {
   "cell_type": "code",
   "execution_count": 3,
   "metadata": {},
   "outputs": [
    {
     "data": {
      "text/plain": [
       "'3.14 | -0042'"
      ]
     },
     "execution_count": 3,
     "metadata": {},
     "output_type": "execute_result"
    }
   ],
   "source": [
    "'%.2f | %05d' %(3.14159, -42)"
   ]
  },
  {
   "cell_type": "markdown",
   "metadata": {},
   "source": [
    "#### Getting help"
   ]
  },
  {
   "cell_type": "code",
   "execution_count": 4,
   "metadata": {},
   "outputs": [
    {
     "data": {
      "text/plain": [
       "['swapcase', 'title', 'translate', 'upper', 'zfill']"
      ]
     },
     "execution_count": 4,
     "metadata": {},
     "output_type": "execute_result"
    }
   ],
   "source": [
    "s = 'Manchester United'\n",
    "dir(s)[-5:]"
   ]
  },
  {
   "cell_type": "code",
   "execution_count": 6,
   "metadata": {},
   "outputs": [
    {
     "name": "stdout",
     "output_type": "stream",
     "text": [
      "Help on built-in function title:\n",
      "\n",
      "title(...) method of builtins.str instance\n",
      "    S.title() -> str\n",
      "    \n",
      "    Return a titlecased version of S, i.e. words start with title case\n",
      "    characters, all remaining cased characters have lower case.\n",
      "\n"
     ]
    }
   ],
   "source": [
    "help(s.title)"
   ]
  },
  {
   "cell_type": "markdown",
   "metadata": {},
   "source": [
    "#### Raw string"
   ]
  },
  {
   "cell_type": "markdown",
   "metadata": {},
   "source": [
    "Turns off the backslash escape mechanism: <br>\n",
    "like directory paths on Windows"
   ]
  },
  {
   "cell_type": "code",
   "execution_count": null,
   "metadata": {},
   "outputs": [],
   "source": [
    "r'C:\\text\\new'"
   ]
  },
  {
   "cell_type": "markdown",
   "metadata": {},
   "source": [
    "#### Encoding"
   ]
  },
  {
   "cell_type": "code",
   "execution_count": 34,
   "metadata": {},
   "outputs": [],
   "source": [
    "c = 'Dragos'"
   ]
  },
  {
   "cell_type": "code",
   "execution_count": 35,
   "metadata": {},
   "outputs": [
    {
     "data": {
      "text/plain": [
       "b'Dragos'"
      ]
     },
     "execution_count": 35,
     "metadata": {},
     "output_type": "execute_result"
    }
   ],
   "source": [
    "c.encode('utf8')"
   ]
  },
  {
   "cell_type": "code",
   "execution_count": 36,
   "metadata": {},
   "outputs": [
    {
     "data": {
      "text/plain": [
       "b'\\xff\\xfeD\\x00r\\x00a\\x00g\\x00o\\x00s\\x00'"
      ]
     },
     "execution_count": 36,
     "metadata": {},
     "output_type": "execute_result"
    }
   ],
   "source": [
    "c.encode('utf16')"
   ]
  },
  {
   "cell_type": "markdown",
   "metadata": {},
   "source": [
    "#### Regex splitting"
   ]
  },
  {
   "cell_type": "code",
   "execution_count": null,
   "metadata": {},
   "outputs": [],
   "source": [
    "import re\n",
    "\n",
    "re.split('[zy]', 'DragoszFlorianyBratu')"
   ]
  },
  {
   "cell_type": "markdown",
   "metadata": {},
   "source": [
    "#### List comprehensions"
   ]
  },
  {
   "cell_type": "code",
   "execution_count": 37,
   "metadata": {},
   "outputs": [
    {
     "data": {
      "text/plain": [
       "[[1, 2, 3], [4, 5, 6], [7, 8, 9]]"
      ]
     },
     "execution_count": 37,
     "metadata": {},
     "output_type": "execute_result"
    }
   ],
   "source": [
    "M = [[1, 2, 3],\n",
    "    [4, 5, 6],\n",
    "    [7, 8, 9]]\n",
    "M"
   ]
  },
  {
   "cell_type": "code",
   "execution_count": 38,
   "metadata": {},
   "outputs": [
    {
     "data": {
      "text/plain": [
       "[2, 5, 8]"
      ]
     },
     "execution_count": 38,
     "metadata": {},
     "output_type": "execute_result"
    }
   ],
   "source": [
    "col2 = [row[1] for row in M]\n",
    "col2"
   ]
  },
  {
   "cell_type": "code",
   "execution_count": 39,
   "metadata": {},
   "outputs": [
    {
     "data": {
      "text/plain": [
       "[3, 6, 9]"
      ]
     },
     "execution_count": 39,
     "metadata": {},
     "output_type": "execute_result"
    }
   ],
   "source": [
    "[row[1] + 1 for row in M]"
   ]
  },
  {
   "cell_type": "code",
   "execution_count": 40,
   "metadata": {},
   "outputs": [
    {
     "data": {
      "text/plain": [
       "[2, 8]"
      ]
     },
     "execution_count": 40,
     "metadata": {},
     "output_type": "execute_result"
    }
   ],
   "source": [
    "[row[1] for row in M if row[1] % 2 == 0]"
   ]
  },
  {
   "cell_type": "code",
   "execution_count": 41,
   "metadata": {},
   "outputs": [
    {
     "data": {
      "text/plain": [
       "[1, 5, 9]"
      ]
     },
     "execution_count": 41,
     "metadata": {},
     "output_type": "execute_result"
    }
   ],
   "source": [
    "diag = [M[i][i] for i in range(3)]\n",
    "diag"
   ]
  },
  {
   "cell_type": "code",
   "execution_count": 42,
   "metadata": {},
   "outputs": [
    {
     "data": {
      "text/plain": [
       "[6, 15, 24]"
      ]
     },
     "execution_count": 42,
     "metadata": {},
     "output_type": "execute_result"
    }
   ],
   "source": [
    "list(map(sum, M))"
   ]
  },
  {
   "cell_type": "markdown",
   "metadata": {},
   "source": [
    "#### Fractions"
   ]
  },
  {
   "cell_type": "code",
   "execution_count": 43,
   "metadata": {},
   "outputs": [
    {
     "data": {
      "text/plain": [
       "Fraction(5, 3)"
      ]
     },
     "execution_count": 43,
     "metadata": {},
     "output_type": "execute_result"
    }
   ],
   "source": [
    "from fractions import Fraction\n",
    "\n",
    "f = Fraction(2, 3)\n",
    "f + 1"
   ]
  },
  {
   "cell_type": "code",
   "execution_count": 44,
   "metadata": {},
   "outputs": [
    {
     "data": {
      "text/plain": [
       "Fraction(81, 250)"
      ]
     },
     "execution_count": 44,
     "metadata": {},
     "output_type": "execute_result"
    }
   ],
   "source": [
    "Fraction('0.324')"
   ]
  },
  {
   "cell_type": "markdown",
   "metadata": {},
   "source": [
    "#### Octal, hexa, binary and complex numeric data"
   ]
  },
  {
   "cell_type": "code",
   "execution_count": 10,
   "metadata": {},
   "outputs": [
    {
     "name": "stdout",
     "output_type": "stream",
     "text": [
      "octal(0o177) = 127, hexa(0x9ff) = 2559, binary(0b10101) = 21, complex(3 + 4i) = (3+4j)\n"
     ]
    }
   ],
   "source": [
    "octal = 0o177\n",
    "hexa = 0x9ff\n",
    "binary = 0b10101\n",
    "compl = 3 + 4j\n",
    "print(f'octal(0o177) = {octal}, hexa(0x9ff) = {hexa}, binary(0b10101) = {binary}, complex(3 + 4i) = {compl}')"
   ]
  },
  {
   "cell_type": "code",
   "execution_count": 11,
   "metadata": {},
   "outputs": [
    {
     "data": {
      "text/plain": [
       "'100, 40, 1000000'"
      ]
     },
     "execution_count": 11,
     "metadata": {},
     "output_type": "execute_result"
    }
   ],
   "source": [
    "f'{64:o}, {64:x}, {64:b}'"
   ]
  },
  {
   "cell_type": "code",
   "execution_count": 12,
   "metadata": {},
   "outputs": [
    {
     "data": {
      "text/plain": [
       "'377, ff, FF'"
      ]
     },
     "execution_count": 12,
     "metadata": {},
     "output_type": "execute_result"
    }
   ],
   "source": [
    "'%o, %x, %X' %(255, 255, 255)"
   ]
  },
  {
   "cell_type": "code",
   "execution_count": 13,
   "metadata": {},
   "outputs": [
    {
     "data": {
      "text/plain": [
       "('0o177', '0x9ff', '0b10101', (3+4j))"
      ]
     },
     "execution_count": 13,
     "metadata": {},
     "output_type": "execute_result"
    }
   ],
   "source": [
    "oct(127), hex(2559), bin(21), complex(3, 4)"
   ]
  },
  {
   "cell_type": "code",
   "execution_count": 14,
   "metadata": {},
   "outputs": [
    {
     "data": {
      "text/plain": [
       "'3.333333e-01'"
      ]
     },
     "execution_count": 14,
     "metadata": {},
     "output_type": "execute_result"
    }
   ],
   "source": [
    "num = 1/3\n",
    "'%e' %num"
   ]
  },
  {
   "cell_type": "markdown",
   "metadata": {},
   "source": [
    "#### Floor vs trunc"
   ]
  },
  {
   "cell_type": "code",
   "execution_count": 15,
   "metadata": {},
   "outputs": [
    {
     "name": "stdout",
     "output_type": "stream",
     "text": [
      "\n",
      "math.floor(2.5) = 2,\n",
      "math.floor(-2.5) = -3,\n",
      "math.trunc(2.5) = 2,\n",
      "math.trunc(-2.5) = -2,\n"
     ]
    }
   ],
   "source": [
    "import math\n",
    "print(f\"\"\"\n",
    "math.floor(2.5) = {math.floor(2.5)},\n",
    "math.floor(-2.5) = {math.floor(-2.5)},\n",
    "math.trunc(2.5) = {math.trunc(2.5)},\n",
    "math.trunc(-2.5) = {math.trunc(-2.5)},\"\"\")"
   ]
  },
  {
   "cell_type": "markdown",
   "metadata": {},
   "source": [
    "#### Math module for complex numbers: cmath"
   ]
  },
  {
   "cell_type": "code",
   "execution_count": 16,
   "metadata": {},
   "outputs": [
    {
     "name": "stdout",
     "output_type": "stream",
     "text": [
      "5.551115123125783e-17\n"
     ]
    }
   ],
   "source": [
    "print(0.1 + 0.1 + 0.1 - 0.3)"
   ]
  },
  {
   "cell_type": "markdown",
   "metadata": {},
   "source": [
    "#### Garbage collection\n",
    "- Garbage-collection-based memory management is implemented for you in Python.\n",
    "- In Python, whenever a name is assigned to a new object, the space held by the prior object is reclaimed if it is not referenced by any other name or object.\n",
    "- This automatic reclamation of objects’ space is known as garbage collection."
   ]
  },
  {
   "cell_type": "code",
   "execution_count": 45,
   "metadata": {},
   "outputs": [
    {
     "data": {
      "text/plain": [
       "(5, 3)"
      ]
     },
     "execution_count": 45,
     "metadata": {},
     "output_type": "execute_result"
    }
   ],
   "source": [
    "a = 3\n",
    "b = a\n",
    "a = 5\n",
    "a, b"
   ]
  },
  {
   "cell_type": "markdown",
   "metadata": {},
   "source": [
    "#### Lists references"
   ]
  },
  {
   "cell_type": "code",
   "execution_count": 17,
   "metadata": {},
   "outputs": [
    {
     "data": {
      "text/plain": [
       "([1, 2, 3], [1, 2, 3])"
      ]
     },
     "execution_count": 17,
     "metadata": {},
     "output_type": "execute_result"
    }
   ],
   "source": [
    "L1 = [1, 2, 3]\n",
    "L2 = L1\n",
    "L1, L2"
   ]
  },
  {
   "cell_type": "code",
   "execution_count": 18,
   "metadata": {},
   "outputs": [
    {
     "data": {
      "text/plain": [
       "([7, 2, 3], [1, 2, 3])"
      ]
     },
     "execution_count": 18,
     "metadata": {},
     "output_type": "execute_result"
    }
   ],
   "source": [
    "L3 = L1[:]\n",
    "L1[0] = 7\n",
    "L1, L3"
   ]
  },
  {
   "cell_type": "markdown",
   "metadata": {},
   "source": [
    "#### Caching small values"
   ]
  },
  {
   "cell_type": "code",
   "execution_count": null,
   "metadata": {},
   "outputs": [],
   "source": [
    "L = [1, 2, 3]\n",
    "M = [1, 2, 3]\n",
    "L == M, L is M"
   ]
  },
  {
   "cell_type": "code",
   "execution_count": null,
   "metadata": {},
   "outputs": [],
   "source": [
    "x = 42\n",
    "y = 42\n",
    "x == y, x is y"
   ]
  },
  {
   "cell_type": "markdown",
   "metadata": {},
   "source": [
    "- Because small integers and strings are cached and reused, though, is tells us they reference the same single object."
   ]
  },
  {
   "cell_type": "markdown",
   "metadata": {},
   "source": [
    "#### Finding out how many references an object has"
   ]
  },
  {
   "cell_type": "code",
   "execution_count": 23,
   "metadata": {},
   "outputs": [
    {
     "name": "stdout",
     "output_type": "stream",
     "text": [
      "30\n",
      "30\n"
     ]
    }
   ],
   "source": [
    "import sys\n",
    "print(sys.getrefcount(42))\n",
    "z = 42\n",
    "print(sys.getrefcount(42))"
   ]
  },
  {
   "cell_type": "markdown",
   "metadata": {},
   "source": [
    "#### Implicit concatenation"
   ]
  },
  {
   "cell_type": "code",
   "execution_count": null,
   "metadata": {},
   "outputs": [],
   "source": [
    "'Dragos' \"Florian\" 'BRATU'"
   ]
  },
  {
   "cell_type": "markdown",
   "metadata": {},
   "source": [
    "#### Raw Strings Suppress Escapes"
   ]
  },
  {
   "cell_type": "code",
   "execution_count": 24,
   "metadata": {},
   "outputs": [
    {
     "name": "stdout",
     "output_type": "stream",
     "text": [
      "C:\n",
      "ew\text.dat\n"
     ]
    }
   ],
   "source": [
    "print('C:\\new\\text.dat')"
   ]
  },
  {
   "cell_type": "code",
   "execution_count": 25,
   "metadata": {},
   "outputs": [
    {
     "name": "stdout",
     "output_type": "stream",
     "text": [
      "C:\\new\\text.dat\n"
     ]
    }
   ],
   "source": [
    "print(r'C:\\new\\text.dat')"
   ]
  },
  {
   "cell_type": "code",
   "execution_count": 26,
   "metadata": {},
   "outputs": [
    {
     "data": {
      "text/plain": [
       "'42 -- 3.14159 -- [1, 2, 3]'"
      ]
     },
     "execution_count": 26,
     "metadata": {},
     "output_type": "execute_result"
    }
   ],
   "source": [
    "'%s -- %s -- %s' % (42, 3.14159, [1, 2, 3])"
   ]
  },
  {
   "cell_type": "markdown",
   "metadata": {},
   "source": [
    "#### String formatting"
   ]
  },
  {
   "cell_type": "markdown",
   "metadata": {},
   "source": [
    "%[(keyname)][flags][width][.precision]typecode"
   ]
  },
  {
   "cell_type": "code",
   "execution_count": 46,
   "metadata": {},
   "outputs": [
    {
     "data": {
      "text/plain": [
       "'integers: ...1234...1234  ...001234'"
      ]
     },
     "execution_count": 46,
     "metadata": {},
     "output_type": "execute_result"
    }
   ],
   "source": [
    "x = 1234\n",
    "res = 'integers: ...%d...%-6d...%06d' % (x, x, x)\n",
    "res"
   ]
  },
  {
   "cell_type": "code",
   "execution_count": 47,
   "metadata": {},
   "outputs": [
    {
     "data": {
      "text/plain": [
       "'1.23 | 01.23 | +001.2'"
      ]
     },
     "execution_count": 47,
     "metadata": {},
     "output_type": "execute_result"
    }
   ],
   "source": [
    "x = 1.23456\n",
    "'%-0.2f | %05.2f | %+06.1f' % (x, x, x)"
   ]
  },
  {
   "cell_type": "code",
   "execution_count": 48,
   "metadata": {},
   "outputs": [
    {
     "data": {
      "text/plain": [
       "'       ### = X         '"
      ]
     },
     "execution_count": 48,
     "metadata": {},
     "output_type": "execute_result"
    }
   ],
   "source": [
    "'{0:>10} = {1:<10}'.format('###', 'X')"
   ]
  },
  {
   "cell_type": "code",
   "execution_count": 49,
   "metadata": {},
   "outputs": [
    {
     "data": {
      "text/plain": [
       "'3.141590e+00, 3.142e+00, 3.14159, 003.14'"
      ]
     },
     "execution_count": 49,
     "metadata": {},
     "output_type": "execute_result"
    }
   ],
   "source": [
    "'{0:e}, {1:.3e}, {2:g}, {3:06.2f}'.format(3.14159, 3.14159, 3.14159, 3.14159)"
   ]
  },
  {
   "cell_type": "code",
   "execution_count": 50,
   "metadata": {},
   "outputs": [
    {
     "data": {
      "text/plain": [
       "'FF, 377, 11111111'"
      ]
     },
     "execution_count": 50,
     "metadata": {},
     "output_type": "execute_result"
    }
   ],
   "source": [
    "'{0:X}, {1:o}, {2:b}'.format(255, 255, 255)"
   ]
  },
  {
   "cell_type": "code",
   "execution_count": 51,
   "metadata": {},
   "outputs": [
    {
     "data": {
      "text/plain": [
       "'999_999_999_999 | 999,999,999,999'"
      ]
     },
     "execution_count": 51,
     "metadata": {},
     "output_type": "execute_result"
    }
   ],
   "source": [
    "'{0:_d} | {0:,d}'.format(999999999999)"
   ]
  },
  {
   "cell_type": "code",
   "execution_count": 52,
   "metadata": {},
   "outputs": [
    {
     "data": {
      "text/plain": [
       "'296,999.26'"
      ]
     },
     "execution_count": 52,
     "metadata": {},
     "output_type": "execute_result"
    }
   ],
   "source": [
    "'{:,.2f}'.format(296999.2567)"
   ]
  },
  {
   "cell_type": "code",
   "execution_count": 53,
   "metadata": {},
   "outputs": [
    {
     "data": {
      "text/plain": [
       "('ç', 231)"
      ]
     },
     "execution_count": 53,
     "metadata": {},
     "output_type": "execute_result"
    }
   ],
   "source": [
    "chr(231), ord('ç')"
   ]
  },
  {
   "cell_type": "code",
   "execution_count": 54,
   "metadata": {},
   "outputs": [
    {
     "data": {
      "text/plain": [
       "[1, 2, 33, 44]"
      ]
     },
     "execution_count": 54,
     "metadata": {},
     "output_type": "execute_result"
    }
   ],
   "source": [
    "[1, 2] + [int(x)*10+int(x) for x in list('34')]"
   ]
  },
  {
   "cell_type": "markdown",
   "metadata": {},
   "source": [
    "#### Map"
   ]
  },
  {
   "cell_type": "code",
   "execution_count": 27,
   "metadata": {},
   "outputs": [
    {
     "data": {
      "text/plain": [
       "[4, 2, 1, 5]"
      ]
     },
     "execution_count": 27,
     "metadata": {},
     "output_type": "execute_result"
    }
   ],
   "source": [
    "list(map(abs, [-4, 2, 1, -5]))"
   ]
  },
  {
   "cell_type": "code",
   "execution_count": 28,
   "metadata": {},
   "outputs": [
    {
     "data": {
      "text/plain": [
       "dict_keys(['primul_el', 'al_doilea_el'])"
      ]
     },
     "execution_count": 28,
     "metadata": {},
     "output_type": "execute_result"
    }
   ],
   "source": [
    "mydict = {'primul_el': [1, 2, 3],'al_doilea_el': [4, 5, 6]}\n",
    "mydict.keys()"
   ]
  },
  {
   "cell_type": "markdown",
   "metadata": {},
   "source": [
    "#### Merging two dictionaries"
   ]
  },
  {
   "cell_type": "code",
   "execution_count": 29,
   "metadata": {},
   "outputs": [
    {
     "data": {
      "text/plain": [
       "{'eggs': 3, 'spam': 2, 'ham': 1, 'toast': 4, 'muffin': 5}"
      ]
     },
     "execution_count": 29,
     "metadata": {},
     "output_type": "execute_result"
    }
   ],
   "source": [
    "d1 = {'eggs': 3, 'spam': 2, 'ham': 1}\n",
    "d2 = {'toast':4, 'muffin':5}\n",
    "d1.update(d2)\n",
    "d1"
   ]
  },
  {
   "cell_type": "markdown",
   "metadata": {},
   "source": [
    "Dictionary keys are “hashable” and thus won’t change (strings, integers, tuples etc)"
   ]
  },
  {
   "cell_type": "markdown",
   "metadata": {},
   "source": [
    "#### Create dictionaries"
   ]
  },
  {
   "cell_type": "code",
   "execution_count": 30,
   "metadata": {},
   "outputs": [
    {
     "data": {
      "text/plain": [
       "{'a': 'default_value', 'b': 'default_value'}"
      ]
     },
     "execution_count": 30,
     "metadata": {},
     "output_type": "execute_result"
    }
   ],
   "source": [
    "dict.fromkeys(['a', 'b'], 'default_value')"
   ]
  },
  {
   "cell_type": "code",
   "execution_count": 31,
   "metadata": {},
   "outputs": [
    {
     "data": {
      "text/plain": [
       "{'a': 1, 'b': 2, 'c': 3}"
      ]
     },
     "execution_count": 31,
     "metadata": {},
     "output_type": "execute_result"
    }
   ],
   "source": [
    "D = {k: v for (k, v) in zip(['a', 'b', 'c'], [1, 2, 3])}\n",
    "D"
   ]
  },
  {
   "cell_type": "markdown",
   "metadata": {},
   "source": [
    "#### You cannot change a tuple's element, but you can change the element inside"
   ]
  },
  {
   "cell_type": "code",
   "execution_count": null,
   "metadata": {},
   "outputs": [],
   "source": [
    "x = (40, [45, 21], 5)\n",
    "x[1][1] = [123, '12', 12]\n",
    "x"
   ]
  },
  {
   "cell_type": "markdown",
   "metadata": {},
   "source": [
    "#### Named tuples"
   ]
  },
  {
   "cell_type": "code",
   "execution_count": 56,
   "metadata": {},
   "outputs": [
    {
     "data": {
      "text/plain": [
       "(9000, 45, angajat(nume='Bratu', varsta=45, salariu=9000))"
      ]
     },
     "execution_count": 56,
     "metadata": {},
     "output_type": "execute_result"
    }
   ],
   "source": [
    "from collections import namedtuple\n",
    "\n",
    "angajat = namedtuple('angajat',['nume', 'varsta', 'salariu'])\n",
    "Dragos = angajat('Bratu', 45, salariu=9000)\n",
    "Dragos.salariu, Dragos.varsta, Dragos"
   ]
  },
  {
   "cell_type": "code",
   "execution_count": 57,
   "metadata": {},
   "outputs": [
    {
     "data": {
      "text/plain": [
       "('BRATU', 90, 90.0)"
      ]
     },
     "execution_count": 57,
     "metadata": {},
     "output_type": "execute_result"
    }
   ],
   "source": [
    "cutare, ani, parnos = Dragos\n",
    "cutare.upper(), ani * 2, parnos / 100"
   ]
  },
  {
   "cell_type": "code",
   "execution_count": 32,
   "metadata": {},
   "outputs": [
    {
     "data": {
      "text/plain": [
       "10"
      ]
     },
     "execution_count": 32,
     "metadata": {},
     "output_type": "execute_result"
    }
   ],
   "source": [
    "f = open('fisier.txt', 'w')\n",
    "f.write(\"mytext\\n\")\n",
    "f.write('second row')"
   ]
  },
  {
   "cell_type": "code",
   "execution_count": 33,
   "metadata": {},
   "outputs": [
    {
     "data": {
      "text/plain": [
       "'mytext\\nsecond row'"
      ]
     },
     "execution_count": 33,
     "metadata": {},
     "output_type": "execute_result"
    }
   ],
   "source": [
    "with open('fisier.txt') as f:\n",
    "    x = f.read()\n",
    "x"
   ]
  },
  {
   "cell_type": "markdown",
   "metadata": {},
   "source": [
    "#### One line reader"
   ]
  },
  {
   "cell_type": "code",
   "execution_count": 60,
   "metadata": {},
   "outputs": [
    {
     "name": "stdout",
     "output_type": "stream",
     "text": [
      "mytext\n",
      "second row\n"
     ]
    }
   ],
   "source": [
    "print(open('fisier.txt').read())"
   ]
  },
  {
   "cell_type": "markdown",
   "metadata": {},
   "source": [
    "- Text files represent content as normal str strings, perform Unicode encoding and decoding automatically, and perform end-of-line translation by default.\n",
    "- Binary files represent content as a special bytes string type and allow programs to access file content unaltered."
   ]
  },
  {
   "cell_type": "code",
   "execution_count": 61,
   "metadata": {},
   "outputs": [
    {
     "data": {
      "text/plain": [
       "b'mytext\\r\\nsecond row'"
      ]
     },
     "execution_count": 61,
     "metadata": {},
     "output_type": "execute_result"
    }
   ],
   "source": [
    "data = open('fisier.txt', 'rb').read()\n",
    "data"
   ]
  },
  {
   "cell_type": "code",
   "execution_count": 62,
   "metadata": {},
   "outputs": [
    {
     "data": {
      "text/plain": [
       "121"
      ]
     },
     "execution_count": 62,
     "metadata": {},
     "output_type": "execute_result"
    }
   ],
   "source": [
    "data[1]"
   ]
  },
  {
   "cell_type": "code",
   "execution_count": 63,
   "metadata": {},
   "outputs": [
    {
     "data": {
      "text/plain": [
       "'0b1111001'"
      ]
     },
     "execution_count": 63,
     "metadata": {},
     "output_type": "execute_result"
    }
   ],
   "source": [
    "bin(data[1])"
   ]
  },
  {
   "cell_type": "markdown",
   "metadata": {},
   "source": [
    "#### Storing Native Python Objects: pickle"
   ]
  },
  {
   "cell_type": "code",
   "execution_count": 34,
   "metadata": {},
   "outputs": [],
   "source": [
    "dicti = {'a': 1, 'b': 2}\n",
    "fisierul = open('fisier.pkl', 'wb')\n",
    "import pickle\n",
    "pickle.dump(dicti, fisierul) # Pickle the object to file\n",
    "fisierul.close()"
   ]
  },
  {
   "cell_type": "code",
   "execution_count": 35,
   "metadata": {},
   "outputs": [
    {
     "data": {
      "text/plain": [
       "{'a': 1, 'b': 2}"
      ]
     },
     "execution_count": 35,
     "metadata": {},
     "output_type": "execute_result"
    }
   ],
   "source": [
    "fisierul_o = open('fisier.pkl', 'rb')\n",
    "out = pickle.load(fisierul_o) # Load the object from the file\n",
    "out"
   ]
  },
  {
   "cell_type": "markdown",
   "metadata": {},
   "source": [
    "#### Storing Python Objects in JSON Format"
   ]
  },
  {
   "cell_type": "code",
   "execution_count": 36,
   "metadata": {},
   "outputs": [
    {
     "data": {
      "text/plain": [
       "{'name': {'first': 'Bob', 'last': 'Smith'}, 'job': ['dev', 'mgr'], 'age': 40.5}"
      ]
     },
     "execution_count": 36,
     "metadata": {},
     "output_type": "execute_result"
    }
   ],
   "source": [
    "name = dict(first='Bob', last='Smith')\n",
    "rec = dict(name=name, job=['dev', 'mgr'], age=40.5)\n",
    "rec"
   ]
  },
  {
   "cell_type": "code",
   "execution_count": 37,
   "metadata": {},
   "outputs": [
    {
     "data": {
      "text/plain": [
       "'{\"name\": {\"first\": \"Bob\", \"last\": \"Smith\"}, \"job\": [\"dev\", \"mgr\"], \"age\": 40.5}'"
      ]
     },
     "execution_count": 37,
     "metadata": {},
     "output_type": "execute_result"
    }
   ],
   "source": [
    "import json\n",
    "json.dumps(rec)"
   ]
  },
  {
   "cell_type": "code",
   "execution_count": 38,
   "metadata": {},
   "outputs": [
    {
     "data": {
      "text/plain": [
       "True"
      ]
     },
     "execution_count": 38,
     "metadata": {},
     "output_type": "execute_result"
    }
   ],
   "source": [
    "S = json.dumps(rec)\n",
    "O = json.loads(S)\n",
    "O == rec"
   ]
  },
  {
   "cell_type": "code",
   "execution_count": 39,
   "metadata": {},
   "outputs": [
    {
     "name": "stdout",
     "output_type": "stream",
     "text": [
      "{\n",
      "    \"name\": {\n",
      "        \"first\": \"Bob\",\n",
      "        \"last\": \"Smith\"\n",
      "    },\n",
      "    \"job\": [\n",
      "        \"dev\",\n",
      "        \"mgr\"\n",
      "    ],\n",
      "    \"age\": 40.5\n",
      "}\n"
     ]
    }
   ],
   "source": [
    "json.dump(rec, fp=open('testjson.txt', 'w'), indent=4)\n",
    "print(open('testjson.txt').read())"
   ]
  },
  {
   "cell_type": "code",
   "execution_count": 40,
   "metadata": {},
   "outputs": [
    {
     "data": {
      "text/plain": [
       "{'name': {'first': 'Bob', 'last': 'Smith'}, 'job': ['dev', 'mgr'], 'age': 40.5}"
      ]
     },
     "execution_count": 40,
     "metadata": {},
     "output_type": "execute_result"
    }
   ],
   "source": [
    "P = json.load(open('testjson.txt'))\n",
    "P"
   ]
  },
  {
   "cell_type": "markdown",
   "metadata": {},
   "source": [
    "- The == operator tests value equivalence\n",
    "- The is operator tests object identity"
   ]
  },
  {
   "cell_type": "code",
   "execution_count": 41,
   "metadata": {},
   "outputs": [
    {
     "data": {
      "text/plain": [
       "(True, True)"
      ]
     },
     "execution_count": 41,
     "metadata": {},
     "output_type": "execute_result"
    }
   ],
   "source": [
    "S1 = 'spam'\n",
    "S2 = 'spam'\n",
    "S1 == S2, S1 is S2"
   ]
  },
  {
   "cell_type": "code",
   "execution_count": 42,
   "metadata": {},
   "outputs": [
    {
     "data": {
      "text/plain": [
       "(True, False)"
      ]
     },
     "execution_count": 42,
     "metadata": {},
     "output_type": "execute_result"
    }
   ],
   "source": [
    "S1 = 'a longer string'\n",
    "S2 = 'a longer string'\n",
    "S1 == S2, S1 is S2"
   ]
  },
  {
   "cell_type": "markdown",
   "metadata": {},
   "source": [
    "#### List multipliers"
   ]
  },
  {
   "cell_type": "code",
   "execution_count": 43,
   "metadata": {},
   "outputs": [
    {
     "data": {
      "text/plain": [
       "([4, 5, 6, 4, 5, 6, 4, 5, 6, 4, 5, 6],\n",
       " [[4, 5, 6], [4, 5, 6], [4, 5, 6], [4, 5, 6]])"
      ]
     },
     "execution_count": 43,
     "metadata": {},
     "output_type": "execute_result"
    }
   ],
   "source": [
    "L = [4, 5, 6]\n",
    "X = L * 4\n",
    "Y = [L] * 4\n",
    "X, Y"
   ]
  },
  {
   "cell_type": "code",
   "execution_count": 45,
   "metadata": {},
   "outputs": [
    {
     "data": {
      "text/plain": [
       "([4, 5, 6, 4, 5, 6, 4, 5, 6, 4, 5, 6],\n",
       " [[4, 'Dragos', 6], [4, 'Dragos', 6], [4, 'Dragos', 6], [4, 'Dragos', 6]])"
      ]
     },
     "execution_count": 45,
     "metadata": {},
     "output_type": "execute_result"
    }
   ],
   "source": [
    "L[1] = 'Dragos'\n",
    "X, Y"
   ]
  },
  {
   "cell_type": "markdown",
   "metadata": {},
   "source": [
    "#### Assertion"
   ]
  },
  {
   "cell_type": "code",
   "execution_count": 66,
   "metadata": {},
   "outputs": [
    {
     "ename": "AssertionError",
     "evalue": "nu e",
     "output_type": "error",
     "traceback": [
      "\u001b[1;31m---------------------------------------------------------------------------\u001b[0m",
      "\u001b[1;31mAssertionError\u001b[0m                            Traceback (most recent call last)",
      "\u001b[1;32m<ipython-input-66-ea95ca9a6f35>\u001b[0m in \u001b[0;36m<module>\u001b[1;34m\u001b[0m\n\u001b[1;32m----> 1\u001b[1;33m \u001b[1;32massert\u001b[0m \u001b[1;36m4\u001b[0m \u001b[1;33m>\u001b[0m \u001b[1;36m6\u001b[0m\u001b[1;33m,\u001b[0m \u001b[1;34m\"nu e\"\u001b[0m\u001b[1;33m\u001b[0m\u001b[1;33m\u001b[0m\u001b[0m\n\u001b[0m",
      "\u001b[1;31mAssertionError\u001b[0m: nu e"
     ]
    }
   ],
   "source": [
    "assert 4 > 6, \"nu e\""
   ]
  },
  {
   "cell_type": "markdown",
   "metadata": {},
   "source": [
    "#### Multi statements on a single line"
   ]
  },
  {
   "cell_type": "code",
   "execution_count": null,
   "metadata": {},
   "outputs": [],
   "source": [
    "a = 1; b = 2; print(a + b)"
   ]
  },
  {
   "cell_type": "markdown",
   "metadata": {},
   "source": [
    "#### Checking if input is an integer:"
   ]
  },
  {
   "cell_type": "code",
   "execution_count": 46,
   "metadata": {},
   "outputs": [
    {
     "name": "stdout",
     "output_type": "stream",
     "text": [
      "Enter your input here:2\n",
      "2 ^ 2 = 4\n",
      "Enter your input here:s\n",
      "s is not a number\n",
      "Enter your input here:stop\n"
     ]
    }
   ],
   "source": [
    "while True:\n",
    "    my_word = input(\"Enter your input here:\")\n",
    "    if my_word.lower() == \"stop\": break\n",
    "    elif not my_word.isdigit():\n",
    "        print(f\"{my_word} is not a number\")\n",
    "    else:\n",
    "        print(f\"{my_word} ^ 2 = {int(my_word) **2}\")"
   ]
  },
  {
   "cell_type": "code",
   "execution_count": 47,
   "metadata": {},
   "outputs": [],
   "source": [
    "a, *_ ,b = 'spamma'"
   ]
  },
  {
   "cell_type": "code",
   "execution_count": 48,
   "metadata": {},
   "outputs": [
    {
     "data": {
      "text/plain": [
       "['p', 'a', 'm', 'm']"
      ]
     },
     "execution_count": 48,
     "metadata": {},
     "output_type": "execute_result"
    }
   ],
   "source": [
    "_"
   ]
  },
  {
   "cell_type": "markdown",
   "metadata": {},
   "source": [
    "#### Unpacking"
   ]
  },
  {
   "cell_type": "code",
   "execution_count": 49,
   "metadata": {},
   "outputs": [
    {
     "data": {
      "text/plain": [
       "(0, 1, 2, 3, [])"
      ]
     },
     "execution_count": 49,
     "metadata": {},
     "output_type": "execute_result"
    }
   ],
   "source": [
    "seq = range(4)\n",
    "a, b, *e, c, d = seq\n",
    "a, b, c, d, e"
   ]
  },
  {
   "cell_type": "markdown",
   "metadata": {},
   "source": [
    "#### Multiple-Target Assignments\n",
    "a = b = c = 0 is the same with:<br>\n",
    "c = 0<br>\n",
    "b = c<br>\n",
    "a = b"
   ]
  },
  {
   "cell_type": "code",
   "execution_count": 50,
   "metadata": {},
   "outputs": [
    {
     "data": {
      "text/plain": [
       "(0, 1)"
      ]
     },
     "execution_count": 50,
     "metadata": {},
     "output_type": "execute_result"
    }
   ],
   "source": [
    "a = b = 0\n",
    "b = 1\n",
    "a, b"
   ]
  },
  {
   "cell_type": "code",
   "execution_count": 51,
   "metadata": {},
   "outputs": [
    {
     "data": {
      "text/plain": [
       "([21], [21])"
      ]
     },
     "execution_count": 51,
     "metadata": {},
     "output_type": "execute_result"
    }
   ],
   "source": [
    "a = b = []\n",
    "b.append(21)\n",
    "a, b"
   ]
  },
  {
   "cell_type": "markdown",
   "metadata": {},
   "source": [
    "#### Augmented assignements usually run faster"
   ]
  },
  {
   "cell_type": "code",
   "execution_count": 52,
   "metadata": {},
   "outputs": [],
   "source": [
    "x = 1\n",
    "x = x + 1 # x runs 2 times\n",
    "x += 1 # x runs 1 time"
   ]
  },
  {
   "cell_type": "markdown",
   "metadata": {},
   "source": [
    "#### Mapped to L.extend()"
   ]
  },
  {
   "cell_type": "code",
   "execution_count": 53,
   "metadata": {},
   "outputs": [
    {
     "data": {
      "text/plain": [
       "[1, 2, 3, 4, 5, 6]"
      ]
     },
     "execution_count": 53,
     "metadata": {},
     "output_type": "execute_result"
    }
   ],
   "source": [
    "L = [1, 2]\n",
    "L.extend([3, 4])\n",
    "L += [5, 6]\n",
    "L"
   ]
  },
  {
   "cell_type": "markdown",
   "metadata": {},
   "source": [
    "#### ! "
   ]
  },
  {
   "cell_type": "code",
   "execution_count": 54,
   "metadata": {},
   "outputs": [
    {
     "data": {
      "text/plain": [
       "['s', 'p', 'a', 'm']"
      ]
     },
     "execution_count": 54,
     "metadata": {},
     "output_type": "execute_result"
    }
   ],
   "source": [
    "L = []\n",
    "L += 'spam'\n",
    "L"
   ]
  },
  {
   "cell_type": "code",
   "execution_count": 55,
   "metadata": {},
   "outputs": [
    {
     "ename": "TypeError",
     "evalue": "can only concatenate list (not \"str\") to list",
     "output_type": "error",
     "traceback": [
      "\u001b[1;31m---------------------------------------------------------------------------\u001b[0m",
      "\u001b[1;31mTypeError\u001b[0m                                 Traceback (most recent call last)",
      "\u001b[1;32m<ipython-input-55-e4b556671e24>\u001b[0m in \u001b[0;36m<module>\u001b[1;34m\u001b[0m\n\u001b[0;32m      1\u001b[0m \u001b[0mL\u001b[0m \u001b[1;33m=\u001b[0m \u001b[1;33m[\u001b[0m\u001b[1;33m]\u001b[0m\u001b[1;33m\u001b[0m\u001b[1;33m\u001b[0m\u001b[0m\n\u001b[1;32m----> 2\u001b[1;33m \u001b[0mL\u001b[0m \u001b[1;33m=\u001b[0m \u001b[0mL\u001b[0m \u001b[1;33m+\u001b[0m \u001b[1;34m'spam'\u001b[0m\u001b[1;33m\u001b[0m\u001b[1;33m\u001b[0m\u001b[0m\n\u001b[0m",
      "\u001b[1;31mTypeError\u001b[0m: can only concatenate list (not \"str\") to list"
     ]
    }
   ],
   "source": [
    "L = []\n",
    "L = L + 'spam'"
   ]
  },
  {
   "cell_type": "markdown",
   "metadata": {},
   "source": [
    "#### Augmented assignment and shared references\n",
    "Concatenation (1) makes a new object, += means extend, and is inplace"
   ]
  },
  {
   "cell_type": "code",
   "execution_count": 56,
   "metadata": {},
   "outputs": [
    {
     "data": {
      "text/plain": [
       "([1, 2, 3, 4], [1, 2])"
      ]
     },
     "execution_count": 56,
     "metadata": {},
     "output_type": "execute_result"
    }
   ],
   "source": [
    "L = [1, 2]\n",
    "M = L\n",
    "L = L + [3, 4]\n",
    "L, M"
   ]
  },
  {
   "cell_type": "code",
   "execution_count": 57,
   "metadata": {},
   "outputs": [
    {
     "data": {
      "text/plain": [
       "([1, 2, 3, 4], [1, 2, 3, 4])"
      ]
     },
     "execution_count": 57,
     "metadata": {},
     "output_type": "execute_result"
    }
   ],
   "source": [
    "L = [1, 2]\n",
    "M = L\n",
    "L += [3, 4]\n",
    "L, M"
   ]
  },
  {
   "cell_type": "markdown",
   "metadata": {},
   "source": [
    "#### Data connections"
   ]
  },
  {
   "cell_type": "markdown",
   "metadata": {},
   "source": [
    "- standard input (stdin)\n",
    "- standard output (stdout)\n",
    "- error stream"
   ]
  },
  {
   "cell_type": "markdown",
   "metadata": {},
   "source": [
    "#### Print function"
   ]
  },
  {
   "cell_type": "code",
   "execution_count": null,
   "metadata": {},
   "outputs": [],
   "source": [
    "# print([object, ...][, sep=' '][, end='\\n'][, file=sys.stdout][, flush=False])"
   ]
  },
  {
   "cell_type": "code",
   "execution_count": null,
   "metadata": {},
   "outputs": [],
   "source": [
    "with open('try.py', 'w') as f:\n",
    "    print('Dragos', \"Bratu\", sep='%', end='$$$', file=f)\n",
    "# Dragos%Bratu$$$"
   ]
  },
  {
   "cell_type": "code",
   "execution_count": null,
   "metadata": {},
   "outputs": [],
   "source": [
    "x, y, z = 'Dragos', 'Florian', 'BRATU'\n",
    "print(x, y, z, sep='...', file=open('try.py', 'w'))\n",
    "# Dragos...Florian...BRATU"
   ]
  },
  {
   "cell_type": "markdown",
   "metadata": {},
   "source": [
    "#### redirecting the stream of data into a file"
   ]
  },
  {
   "cell_type": "code",
   "execution_count": null,
   "metadata": {},
   "outputs": [],
   "source": [
    "import sys\n",
    "temp = sys.stdout\n",
    "sys.stdout = open('try.py', 'a')\n",
    "print('Manchester')\n",
    "print('United')\n",
    "sys.stdout.close()\n",
    "sys.stdout = temp\n",
    "print('Here inside')\n",
    "print(open('try.py').read())"
   ]
  },
  {
   "cell_type": "code",
   "execution_count": 58,
   "metadata": {},
   "outputs": [],
   "source": [
    "log = open('try.py', 'a')\n",
    "print('Rafa', file=log)"
   ]
  },
  {
   "cell_type": "code",
   "execution_count": 59,
   "metadata": {},
   "outputs": [
    {
     "data": {
      "text/plain": [
       "('first', 'second')"
      ]
     },
     "execution_count": 59,
     "metadata": {},
     "output_type": "execute_result"
    }
   ],
   "source": [
    "['first', 'second'][bool('')], ['first', 'second'][bool('a')]"
   ]
  },
  {
   "cell_type": "code",
   "execution_count": 60,
   "metadata": {},
   "outputs": [
    {
     "data": {
      "text/plain": [
       "(None, 'non_null')"
      ]
     },
     "execution_count": 60,
     "metadata": {},
     "output_type": "execute_result"
    }
   ],
   "source": [
    "a = \"\"\n",
    "b = \"\"\n",
    "c = \"non_null\"\n",
    "z = a or b or None\n",
    "t = a or c or None\n",
    "z, t"
   ]
  },
  {
   "cell_type": "markdown",
   "metadata": {},
   "source": [
    "#### Else statement in a loop runs only if the loop is exited normally"
   ]
  },
  {
   "cell_type": "code",
   "execution_count": null,
   "metadata": {},
   "outputs": [],
   "source": [
    "x = 2\n",
    "exit_normally = True\n",
    "while x > 0:\n",
    "    print(x, end=\" \")\n",
    "    x -= 1\n",
    "    if not exit_normally:\n",
    "        print(\"Forced exit\")\n",
    "        break\n",
    "else:\n",
    "    print(\"I'm done\")"
   ]
  },
  {
   "cell_type": "code",
   "execution_count": null,
   "metadata": {},
   "outputs": [],
   "source": [
    "for i in range(5):\n",
    "    print(\"we fine\")\n",
    "    if i == 3:\n",
    "        print('Forced exit')\n",
    "        break\n",
    "else:\n",
    "    print(\"Exit normally\")"
   ]
  },
  {
   "cell_type": "markdown",
   "metadata": {},
   "source": [
    "#### Reading chunks of data using loops:"
   ]
  },
  {
   "cell_type": "code",
   "execution_count": 61,
   "metadata": {},
   "outputs": [
    {
     "name": "stdout",
     "output_type": "stream",
     "text": [
      "import random #\n",
      " #\n",
      "# for item in zip(bajeti, domenii): #\n",
      "# \tprint(*item, sep=\" - \") #\n",
      " #\n",
      " #\n",
      "# R1: 20Q exact answers #\n",
      "# R2: 20Q closest answers #\n",
      "# R3: 10Q quess the player? #\n",
      " #\n",
      "R1 = { #\n",
      "\"Fewest PL home defeats in a season\": \t\t\t\t\t\t\t\t\t\"0 - Manchester United (1995/96, 1999/00 & 2010/11) Arsenal (1998/99, 2003/04 & 2007/08) Chelsea (2004/05, 2005/06, 2006/07, 2007/08 & 2014/15) Liverpool (2008/09, 2017/18 & 2018/19)\", #\n",
      "\"Ever present PL clubs\":\t\t\t\t\t\t\t\t\t\t\t\t\"Arsenal Chelsea Everton Liverpool Manchester United Tottenham Hotspur \", #\n",
      "\"Clubs avoiding relegation from PL after being bottom at Christmas\":\t\"West Bromwich Albion (2004/05) Sunderland (2013/14) Leicester City (2014/15)\", #\n",
      "\"Highest PL scoring draw\": \t\t\t\t\t\t\t\t\t\t\t\t\"5-5 - West Bromwich Albion v Manchester United (19 May 2013)\", #\n",
      "\"Manager of the Month Awards\": \t\t\t\t\t\t\t\t\t\t\t\"Alex Ferguson:27 ArsÃ¨ne Wenger:15 David Moyes:10\", #\n",
      "\">30 goals Highest Scorer > 2010\":\t\t\t\t\t\t\t\t\t\t\"2011-12:30 Goals:Robin van Persie; 2013-14:31 Goals:Luis SuÃ¡rez; 2017-18:32 Goals:Mohamed Salah\", #\n",
      "\"Last Top Flight Championship Won: earliest\":\t\t\t\t\t\t\t\"PRESTON NORTH END\t1890\", #\n",
      "\"Most PL points\": \t\t\t\t\t\t\t\t\t\t\t\t\t\t\"2,119\tManchester United; 1,907\tArsenal FC; 1,883\tChelsea FC; 1,778\tLiverpool FC; 1,545\tTottenham Hotspur\", #\n",
      "\"All-Time Premier League Top Scorers foreign\":\t\t\t\t\t\t\t\"Sergio AgÃ¼ero 180; Thierry Henry 175; Robin Van Persie 144\", #\n",
      "\"Fewest goals scored, consecutive seasons\":\t\t\t\t\t\t\t\t\"Sunderland, 01-02 29g, 02-03 21g\", #\n",
      "\"spent longer at the bottom of the table without being relegated than any side in Premier League history\":\t\t\"In 2014/15, Leicester City (140 days).\", #\n",
      "\"Only two players have ever scored a hat-trick of headers in a Premier League match\":\t\t\t\t\t\t\t\"Duncan Ferguson for Everton (vs Bolton in December 1997) and Salomon Rondon for West Brom (vs Swansea in December 2016).\", #\n",
      "\"Only five players have scored five goals in a game in EPL.\":\t\t\t\"Alan Shearer, Andy Cole, Jermain Defoe, Dimitar Berbatov and Sergio Aguero\", #\n",
      "\"Two teams that have both won the EPL and been relegated from it\":\t\t\"Manchester City and Blackburn Rovers\", #\n",
      "\"Goalkeepers scoring goals has happened on five occasions in EPL\":\t\t\"Peter Schmeichel, Brad Friedel, Paul Robinson, Tim Howard, Asmir Begovic\", #\n",
      "\"the record for quickest Premier League hat-trick\":\t\t\t\t\t\t\"Robbie Fowler, Sadio Mane\", #\n",
      "\"Liverpoolâ€™s original kit colors was\":\t\t\t\t\t\t\t\t\t\"The clubâ€™s original kit was blue and white until 1896\", #\n",
      "\"â€˜Youâ€™ll Never Walk Aloneâ€™ can be heard singing which song\": \t\t\t\"Pink Floydâ€™s Fearless song\", #\n",
      "\"Liverpoolâ€™s biggest ever win in the Premier League\":\t\t\t\t\t\"home victory against Southampton in 1999: 7-1\", #\n",
      "\"Most World Cup goals while a Liverpool player\":\t\t\t\t\t\t\"Michael Owen, 4 for England in 1998 and 2002.\" #\n",
      "} #\n",
      " #\n",
      " #\n",
      "R2 = { #\n",
      "\t\"Smallest PL title-winning margin\":\t\t\t\t\t\t\t\t\t\t\t\t\t\t\t\t\t\t\t\t\t\t\"0 points, +8 goal difference - Manchester City (2011/12)\", #\n",
      "\t\"Most PL defeats in a season*\":\t\t\t\t\t\t\t\t\t\t\t\t\t\t\t\t\t\t\t\t\t\t\t\"29 Sunderland (2005/06 - 38 matches)\", #\n",
      "\t\"Most yellow cards in a single PL match\":\t\t\t\t\t\t\t\t\t\t\t\t\t\t\t\t\t\t\t\t\"2016 Chelsea - Spurs: 12 ycs\", #\n",
      "\t\"Most consecutive PL defeats\":\t\t\t\t\t\t\t\t\t\t\t\t\t\t\t\t\t\t\t\t\t\t\t\"15 - Sunderland (2002/03)\", #\n",
      "\t\"Fewest PL goals scored at home in a season\":\t\t\t\t\t\t\t\t\t\t\t\t\t\t\t\t\t\t\t\"10 - Manchester City (2006/07), 10 - Huddersfield Town (2018/19)\", #\n",
      "\t\"Worst PL goal difference in a season\":\t\t\t\t\t\t\t\t\t\t\t\t\t\t\t\t\t\t\t\t\t\"-69 - Derby County (2007/08)\", #\n",
      "\t\"Most PL points in a season for a club to be relegated\":\t\t\t\t\t\t\t\t\t\t\t\t\t\t\t\t\"42 - West Ham United (2002/03 - 38 matches)\", #\n",
      "\t\"Fewest goals scored, total\":\t\t\t\t\t\t\t\t\t\t\t\t\t\t\t\t\t\t\t\t\t\t\t\"2006-07: 931\", #\n",
      "\t\"You have to go as far back as March 22, 2003 for the last time there was a Premier League game with no substitutes\":\t\"(Man Unitedâ€™s 3-0 victory over Fulham)\", #\n",
      "\t\"Fewest PL goals conceded at home in a season\":\t\t\t\t\t\t\t\t\t\t\t\t\t\t\t\t\t\t\t\"4 - Manchester United (1994/95)\", #\n",
      "\t\"Fewest PL goals conceded away in a season\":\t\t\t\t\t\t\t\t\t\t\t\t\t\t\t\t\t\t\t\"9 - Chelsea (2004/05)\", #\n",
      "\t\"Fewest PL points in a season for a club avoiding relegation\":\t\t\t\t\t\t\t\t\t\t\t\t\t\t\t\"34 - West Bromwich Albion (2004/05)\", #\n",
      "\t\"Total Premier League Clubsâ€™ Red Cards from 1992-93 to 2019-20\":\t\t\t\t\t\t\t\t\t\t\t\t\t\t\"Everton\t94\", #\n",
      "\t\"Total Premier League Clubsâ€™ Yellow Cards from 1992-93 to 2019-20\":\t\t\t\t\t\t\t\t\t\t\t\t\t\t\"Chelsea\t1640\", #\n",
      "\t\"most appearances in a Liverpool shirt\":\t\t\t\t\t\t\t\t\t\t\t\t\t\t\t\t\t\t\t\t\"Ian Callaghan: 857 matches during his 19 years at Anfield\", #\n",
      "\t\"Liverpool FCâ€™s youngest ever starting line-up\":\t\t\t\t\t\t\t\t\t\t\t\t\t\t\t\t\t\t\"19 years and 182 days â€“ Aston Villa in December 2019\", #\n",
      "\t\"Liverpoolâ€™s Liver Bird badge has become a symbol\":\t\t\t\t\t\t\t\t\t\t\t\t\t\t\t\t\t\t\"in 1901\", #\n",
      "\t\"Longest-serving player\":\t\t\t\t\t\t\t\t\t\t\t\t\t\t\t\t\t\t\t\t\t\t\t\t\"Elisha Scott, 21 years and 52 days (from 1913 to 1934).\", #\n",
      "\t\"Liverpool Matches played in PL\":\t\t\t\t\t\t\t\t\t\t\t\t\t\t\t\t\t\t\t\t\t\t\"1,068\", #\n",
      "\t\"Most goals in a debut season:\":\t\t\t\t\t\t\t\t\t\t\t\t\t\t\t\t\t\t\t\t\t\t\"Mohamed Salah, 44 (during the 2017â€“18 season)\" #\n",
      "} #\n",
      " #\n",
      " #\n",
      "R3 = { #\n",
      "\t\"Of all the players to take ten or more spot kicks in the Premier League, only one is to have a 100% success rate.\":\t\t\t\"Yaya Toure 11/11\", #\n",
      "\t\"2015/16 was the first time when this team had recorded a positive goal difference in a top-flight season since 1985/86.\":\t\t\"West Ham\", #\n",
      "\t\"first player to score hat trick in epl.\":\t\t\t\t\t\t\t\t\t\t\t\t\t\t\t\t\t\t\t\t\t\t\"Eric Cantonna 1992: leeds vs Spurs\", #\n",
      "\t\"Which player took more corners (often badly) than he had shots in the Premier League.\":\t\t\t\t\t\t\t\t\t\t\"Iago Aspas\", #\n",
      "\t\"Which player has missed the most Premier League penalties\":\t\t\t\t\t\t\t\t\t\t\t\t\t\t\t\t\t\"Alan Shearer 11\", #\n",
      "\t\"Which player has played the most Premier League games of any player to be substituted off in all of their PL appearances\":\t\t\"Nuri Sahin (formerly at Liverpool) : 7\", #\n",
      "\t\"Substituted more times than any other player\":\t\t\t\t\t\t\t\t\t\t\t\t\t\t\t\t\t\t\t\t\t\"Ryan Giggs (134).\", #\n",
      "\t\"The only PL players to score a hat-trick entirely from set pieces\":\t\t\t\t\t\t\t\t\t\t\t\t\t\t\t\"Wayne Rooney and Matt Le Tissier\", #\n",
      "\t\"Two players have scored Premier League penalties with both feet\":\t\t\t\t\t\t\t\t\t\t\t\t\t\t\t\t\"Bobby Zamora and Obafemi Martins.\", #\n",
      "\t\"There are 3 players to score, assist and score an own goal in a single Premier League game.\":\t\t\t\t\t\t\t\t\t\"Wayne Rooney, Gareth Bale and Kevin Davies\" #\n",
      "} #\n",
      " #\n",
      "L1 = list(R1.items()) #\n",
      "random.shuffle(L1) #\n",
      " #\n",
      " #\n",
      "L2 = list(R2.items()) #\n",
      "random.shuffle(L2) #\n",
      " #\n",
      " #\n",
      "L3 = list(R3.items()) #\n",
      "random.shuffle(L3) #\n",
      " #\n",
      "i = 0 #\n",
      "for Q, A in L1: #\n",
      "\ti += 1 #\n",
      "\tprint(f\"{i}. {Q}:\") #\n",
      "\tprint(f\"\\t\\t\\t\\t{A}\") #\n",
      " #\n"
     ]
    }
   ],
   "source": [
    "file = open(\"try.py\")\n",
    "while True:\n",
    "    line = file.readline()\n",
    "    if not line:\n",
    "        break\n",
    "    print(line.rstrip(), \"#\")\n"
   ]
  },
  {
   "cell_type": "code",
   "execution_count": 62,
   "metadata": {},
   "outputs": [
    {
     "name": "stdout",
     "output_type": "stream",
     "text": [
      "b'import ran' #\n",
      "\n",
      "b'dom\\r\\n\\r\\n# f' #\n",
      "\n",
      "b'or item in' #\n",
      "\n",
      "b' zip(bajet' #\n",
      "\n",
      "b'i, domenii' #\n",
      "\n",
      "b'):\\r\\n# \\tpri' #\n",
      "\n",
      "b'nt(*item, ' #\n",
      "\n",
      "b'sep=\" - \")' #\n",
      "\n",
      "b'\\r\\n\\r\\n\\r\\n# R1' #\n",
      "\n",
      "b': 20Q exac' #\n",
      "\n",
      "b't answers\\r' #\n",
      "\n",
      "b'\\n# R2: 20Q' #\n",
      "\n",
      "b' closest a' #\n",
      "\n",
      "b'nswers\\r\\n# ' #\n",
      "\n",
      "b'R3: 10Q qu' #\n",
      "\n",
      "b'ess the pl' #\n",
      "\n",
      "b'ayer?\\r\\n\\r\\nR' #\n",
      "\n",
      "b'1 = {\\r\\n\"Fe' #\n",
      "\n",
      "b'west PL ho' #\n",
      "\n",
      "b'me defeats' #\n",
      "\n",
      "b' in a seas' #\n",
      "\n",
      "b'on\": \\t\\t\\t\\t\\t' #\n",
      "\n",
      "b'\\t\\t\\t\\t\"0 - M' #\n",
      "\n",
      "b'anchester ' #\n",
      "\n",
      "b'United (19' #\n",
      "\n",
      "b'95/96, 199' #\n",
      "\n",
      "b'9/00 & 201' #\n",
      "\n",
      "b'0/11) Arse' #\n",
      "\n",
      "b'nal (1998/' #\n",
      "\n",
      "b'99, 2003/0' #\n",
      "\n",
      "b'4 & 2007/0' #\n",
      "\n",
      "b'8) Chelsea' #\n",
      "\n",
      "b' (2004/05,' #\n",
      "\n",
      "b' 2005/06, ' #\n",
      "\n",
      "b'2006/07, 2' #\n",
      "\n",
      "b'007/08 & 2' #\n",
      "\n",
      "b'014/15) Li' #\n",
      "\n",
      "b'verpool (2' #\n",
      "\n",
      "b'008/09, 20' #\n",
      "\n",
      "b'17/18 & 20' #\n",
      "\n",
      "b'18/19)\",\\r\\n' #\n",
      "\n",
      "b'\"Ever pres' #\n",
      "\n",
      "b'ent PL clu' #\n",
      "\n",
      "b'bs\":\\t\\t\\t\\t\\t\\t' #\n",
      "\n",
      "b'\\t\\t\\t\\t\\t\\t\"Ars' #\n",
      "\n",
      "b'enal Chels' #\n",
      "\n",
      "b'ea Everton' #\n",
      "\n",
      "b' Liverpool' #\n",
      "\n",
      "b' Mancheste' #\n",
      "\n",
      "b'r United T' #\n",
      "\n",
      "b'ottenham H' #\n",
      "\n",
      "b'otspur \",\\r' #\n",
      "\n",
      "b'\\n\"Clubs av' #\n",
      "\n",
      "b'oiding rel' #\n",
      "\n",
      "b'egation fr' #\n",
      "\n",
      "b'om PL afte' #\n",
      "\n",
      "b'r being bo' #\n",
      "\n",
      "b'ttom at Ch' #\n",
      "\n",
      "b'ristmas\":\\t' #\n",
      "\n",
      "b'\"West Brom' #\n",
      "\n",
      "b'wich Albio' #\n",
      "\n",
      "b'n (2004/05' #\n",
      "\n",
      "b') Sunderla' #\n",
      "\n",
      "b'nd (2013/1' #\n",
      "\n",
      "b'4) Leicest' #\n",
      "\n",
      "b'er City (2' #\n",
      "\n",
      "b'014/15)\",\\r' #\n",
      "\n",
      "b'\\n\"Highest ' #\n",
      "\n",
      "b'PL scoring' #\n",
      "\n",
      "b' draw\": \\t\\t' #\n",
      "\n",
      "b'\\t\\t\\t\\t\\t\\t\\t\\t\\t\\t' #\n",
      "\n",
      "b'\"5-5 - Wes' #\n",
      "\n",
      "b't Bromwich' #\n",
      "\n",
      "b' Albion v ' #\n",
      "\n",
      "b'Manchester' #\n",
      "\n",
      "b' United (1' #\n",
      "\n",
      "b'9 May 2013' #\n",
      "\n",
      "b')\",\\r\\n\"Mana' #\n",
      "\n",
      "b'ger of the' #\n",
      "\n",
      "b' Month Awa' #\n",
      "\n",
      "b'rds\": \\t\\t\\t\\t' #\n",
      "\n",
      "b'\\t\\t\\t\\t\\t\\t\\t\"Al' #\n",
      "\n",
      "b'ex Ferguso' #\n",
      "\n",
      "b'n:27 Ars\\xc3\\xa8' #\n",
      "\n",
      "b'ne Wenger:' #\n",
      "\n",
      "b'15 David M' #\n",
      "\n",
      "b'oyes:10\",\\r' #\n",
      "\n",
      "b'\\n\">30 goal' #\n",
      "\n",
      "b's Highest ' #\n",
      "\n",
      "b'Scorer > 2' #\n",
      "\n",
      "b'010\":\\t\\t\\t\\t\\t' #\n",
      "\n",
      "b'\\t\\t\\t\\t\\t\"2011' #\n",
      "\n",
      "b'-12:30 Goa' #\n",
      "\n",
      "b'ls:Robin v' #\n",
      "\n",
      "b'an Persie;' #\n",
      "\n",
      "b' 2013-14:3' #\n",
      "\n",
      "b'1 Goals:Lu' #\n",
      "\n",
      "b'is Su\\xc3\\xa1rez' #\n",
      "\n",
      "b'; 2017-18:' #\n",
      "\n",
      "b'32 Goals:M' #\n",
      "\n",
      "b'ohamed Sal' #\n",
      "\n",
      "b'ah\",\\r\\n\"Las' #\n",
      "\n",
      "b't Top Flig' #\n",
      "\n",
      "b'ht Champio' #\n",
      "\n",
      "b'nship Won:' #\n",
      "\n",
      "b' earliest\"' #\n",
      "\n",
      "b':\\t\\t\\t\\t\\t\\t\\t\"P' #\n",
      "\n",
      "b'RESTON NOR' #\n",
      "\n",
      "b'TH END\\t189' #\n",
      "\n",
      "b'0\",\\r\\n\"Most' #\n",
      "\n",
      "b' PL points' #\n",
      "\n",
      "b'\": \\t\\t\\t\\t\\t\\t\\t' #\n",
      "\n",
      "b'\\t\\t\\t\\t\\t\\t\\t\"2,' #\n",
      "\n",
      "b'119\\tManche' #\n",
      "\n",
      "b'ster Unite' #\n",
      "\n",
      "b'd; 1,907\\tA' #\n",
      "\n",
      "b'rsenal FC;' #\n",
      "\n",
      "b' 1,883\\tChe' #\n",
      "\n",
      "b'lsea FC; 1' #\n",
      "\n",
      "b',778\\tLiver' #\n",
      "\n",
      "b'pool FC; 1' #\n",
      "\n",
      "b',545\\tTotte' #\n",
      "\n",
      "b'nham Hotsp' #\n",
      "\n",
      "b'ur\",\\r\\n\"All' #\n",
      "\n",
      "b'-Time Prem' #\n",
      "\n",
      "b'ier League' #\n",
      "\n",
      "b' Top Score' #\n",
      "\n",
      "b'rs foreign' #\n",
      "\n",
      "b'\":\\t\\t\\t\\t\\t\\t\\t\"' #\n",
      "\n",
      "b'Sergio Ag\\xc3' #\n",
      "\n",
      "b'\\xbcero 180; ' #\n",
      "\n",
      "b'Thierry He' #\n",
      "\n",
      "b'nry 175; R' #\n",
      "\n",
      "b'obin Van P' #\n",
      "\n",
      "b'ersie 144\"' #\n",
      "\n",
      "b',\\r\\n\"Fewest' #\n",
      "\n",
      "b' goals sco' #\n",
      "\n",
      "b'red, conse' #\n",
      "\n",
      "b'cutive sea' #\n",
      "\n",
      "b'sons\":\\t\\t\\t\\t' #\n",
      "\n",
      "b'\\t\\t\\t\\t\"Sunde' #\n",
      "\n",
      "b'rland, 01-' #\n",
      "\n",
      "b'02 29g, 02' #\n",
      "\n",
      "b'-03 21g\",\\r' #\n",
      "\n",
      "b'\\n\"spent lo' #\n",
      "\n",
      "b'nger at th' #\n",
      "\n",
      "b'e bottom o' #\n",
      "\n",
      "b'f the tabl' #\n",
      "\n",
      "b'e without ' #\n",
      "\n",
      "b'being rele' #\n",
      "\n",
      "b'gated than' #\n",
      "\n",
      "b' any side ' #\n",
      "\n",
      "b'in Premier' #\n",
      "\n",
      "b' League hi' #\n",
      "\n",
      "b'story\":\\t\\t\"' #\n",
      "\n",
      "b'In 2014/15' #\n",
      "\n",
      "b', Leiceste' #\n",
      "\n",
      "b'r City (14' #\n",
      "\n",
      "b'0 days).\",' #\n",
      "\n",
      "b'\\r\\n\"Only tw' #\n",
      "\n",
      "b'o players ' #\n",
      "\n",
      "b'have ever ' #\n",
      "\n",
      "b'scored a h' #\n",
      "\n",
      "b'at-trick o' #\n",
      "\n",
      "b'f headers ' #\n",
      "\n",
      "b'in a Premi' #\n",
      "\n",
      "b'er League ' #\n",
      "\n",
      "b'match\":\\t\\t\\t' #\n",
      "\n",
      "b'\\t\\t\\t\\t\"Dunca' #\n",
      "\n",
      "b'n Ferguson' #\n",
      "\n",
      "b' for Evert' #\n",
      "\n",
      "b'on (vs Bol' #\n",
      "\n",
      "b'ton in Dec' #\n",
      "\n",
      "b'ember 1997' #\n",
      "\n",
      "b') and Salo' #\n",
      "\n",
      "b'mon Rondon' #\n",
      "\n",
      "b' for West ' #\n",
      "\n",
      "b'Brom (vs S' #\n",
      "\n",
      "b'wansea in ' #\n",
      "\n",
      "b'December 2' #\n",
      "\n",
      "b'016).\",\\r\\n\"' #\n",
      "\n",
      "b'Only five ' #\n",
      "\n",
      "b'players ha' #\n",
      "\n",
      "b've scored ' #\n",
      "\n",
      "b'five goals' #\n",
      "\n",
      "b' in a game' #\n",
      "\n",
      "b' in EPL.\":' #\n",
      "\n",
      "b'\\t\\t\\t\"Alan S' #\n",
      "\n",
      "b'hearer, An' #\n",
      "\n",
      "b'dy Cole, J' #\n",
      "\n",
      "b'ermain Def' #\n",
      "\n",
      "b'oe, Dimita' #\n",
      "\n",
      "b'r Berbatov' #\n",
      "\n",
      "b' and Sergi' #\n",
      "\n",
      "b'o Aguero\",' #\n",
      "\n",
      "b'\\r\\n\"Two tea' #\n",
      "\n",
      "b'ms that ha' #\n",
      "\n",
      "b've both wo' #\n",
      "\n",
      "b'n the EPL ' #\n",
      "\n",
      "b'and been r' #\n",
      "\n",
      "b'elegated f' #\n",
      "\n",
      "b'rom it\":\\t\\t' #\n",
      "\n",
      "b'\"Mancheste' #\n",
      "\n",
      "b'r City and' #\n",
      "\n",
      "b' Blackburn' #\n",
      "\n",
      "b' Rovers\",\\r' #\n",
      "\n",
      "b'\\n\"Goalkeep' #\n",
      "\n",
      "b'ers scorin' #\n",
      "\n",
      "b'g goals ha' #\n",
      "\n",
      "b's happened' #\n",
      "\n",
      "b' on five o' #\n",
      "\n",
      "b'ccasions i' #\n",
      "\n",
      "b'n EPL\":\\t\\t\"' #\n",
      "\n",
      "b'Peter Schm' #\n",
      "\n",
      "b'eichel, Br' #\n",
      "\n",
      "b'ad Friedel' #\n",
      "\n",
      "b', Paul Rob' #\n",
      "\n",
      "b'inson, Tim' #\n",
      "\n",
      "b' Howard, A' #\n",
      "\n",
      "b'smir Begov' #\n",
      "\n",
      "b'ic\",\\r\\n\"the' #\n",
      "\n",
      "b' record fo' #\n",
      "\n",
      "b'r quickest' #\n",
      "\n",
      "b' Premier L' #\n",
      "\n",
      "b'eague hat-' #\n",
      "\n",
      "b'trick\":\\t\\t\\t' #\n",
      "\n",
      "b'\\t\\t\\t\"Robbie' #\n",
      "\n",
      "b' Fowler, S' #\n",
      "\n",
      "b'adio Mane\"' #\n",
      "\n",
      "b',\\r\\n\"Liverp' #\n",
      "\n",
      "b'ool\\xe2\\x80\\x99s or' #\n",
      "\n",
      "b'iginal kit' #\n",
      "\n",
      "b' colors wa' #\n",
      "\n",
      "b's\":\\t\\t\\t\\t\\t\\t\\t' #\n",
      "\n",
      "b'\\t\\t\"The clu' #\n",
      "\n",
      "b'b\\xe2\\x80\\x99s orig' #\n",
      "\n",
      "b'inal kit w' #\n",
      "\n",
      "b'as blue an' #\n",
      "\n",
      "b'd white un' #\n",
      "\n",
      "b'til 1896\",' #\n",
      "\n",
      "b'\\r\\n\"\\xe2\\x80\\x98You\\xe2' #\n",
      "\n",
      "b'\\x80\\x99ll Never' #\n",
      "\n",
      "b' Walk Alon' #\n",
      "\n",
      "b'e\\xe2\\x80\\x99 can b' #\n",
      "\n",
      "b'e heard si' #\n",
      "\n",
      "b'nging whic' #\n",
      "\n",
      "b'h song\": \\t' #\n",
      "\n",
      "b'\\t\\t\"Pink Fl' #\n",
      "\n",
      "b'oyd\\xe2\\x80\\x99s Fe' #\n",
      "\n",
      "b'arless son' #\n",
      "\n",
      "b'g\",\\r\\n\"Live' #\n",
      "\n",
      "b'rpool\\xe2\\x80\\x99s ' #\n",
      "\n",
      "b'biggest ev' #\n",
      "\n",
      "b'er win in ' #\n",
      "\n",
      "b'the Premie' #\n",
      "\n",
      "b'r League\":' #\n",
      "\n",
      "b'\\t\\t\\t\\t\\t\"home' #\n",
      "\n",
      "b' victory a' #\n",
      "\n",
      "b'gainst Sou' #\n",
      "\n",
      "b'thampton i' #\n",
      "\n",
      "b'n 1999: 7-' #\n",
      "\n",
      "b'1\",\\r\\n\"Most' #\n",
      "\n",
      "b' World Cup' #\n",
      "\n",
      "b' goals whi' #\n",
      "\n",
      "b'le a Liver' #\n",
      "\n",
      "b'pool playe' #\n",
      "\n",
      "b'r\":\\t\\t\\t\\t\\t\\t\"' #\n",
      "\n",
      "b'Michael Ow' #\n",
      "\n",
      "b'en, 4 for ' #\n",
      "\n",
      "b'England in' #\n",
      "\n",
      "b' 1998 and ' #\n",
      "\n",
      "b'2002.\"\\r\\n}\\r' #\n",
      "\n",
      "b'\\n\\r\\n\\r\\nR2 = ' #\n",
      "\n",
      "b'{\\r\\n\\t\"Small' #\n",
      "\n",
      "b'est PL tit' #\n",
      "\n",
      "b'le-winning' #\n",
      "\n",
      "b' margin\":\\t' #\n",
      "\n",
      "b'\\t\\t\\t\\t\\t\\t\\t\\t\\t\\t' #\n",
      "\n",
      "b'\\t\\t\\t\\t\\t\\t\\t\\t\\t\\t' #\n",
      "\n",
      "b'\\t\"0 points' #\n",
      "\n",
      "b', +8 goal ' #\n",
      "\n",
      "b'difference' #\n",
      "\n",
      "b' - Manches' #\n",
      "\n",
      "b'ter City (' #\n",
      "\n",
      "b'2011/12)\",' #\n",
      "\n",
      "b'\\r\\n\\t\"Most P' #\n",
      "\n",
      "b'L defeats ' #\n",
      "\n",
      "b'in a seaso' #\n",
      "\n",
      "b'n*\":\\t\\t\\t\\t\\t\\t' #\n",
      "\n",
      "b'\\t\\t\\t\\t\\t\\t\\t\\t\\t\\t' #\n",
      "\n",
      "b'\\t\\t\\t\\t\\t\\t\\t\"29' #\n",
      "\n",
      "b' Sunderlan' #\n",
      "\n",
      "b'd (2005/06' #\n",
      "\n",
      "b' - 38 matc' #\n",
      "\n",
      "b'hes)\",\\r\\n\\t\"' #\n",
      "\n",
      "b'Most yello' #\n",
      "\n",
      "b'w cards in' #\n",
      "\n",
      "b' a single ' #\n",
      "\n",
      "b'PL match\":' #\n",
      "\n",
      "b'\\t\\t\\t\\t\\t\\t\\t\\t\\t\\t' #\n",
      "\n",
      "b'\\t\\t\\t\\t\\t\\t\\t\\t\\t\\t' #\n",
      "\n",
      "b'\"2016 Chel' #\n",
      "\n",
      "b'sea - Spur' #\n",
      "\n",
      "b's: 12 ycs\"' #\n",
      "\n",
      "b',\\r\\n\\t\"Most ' #\n",
      "\n",
      "b'consecutiv' #\n",
      "\n",
      "b'e PL defea' #\n",
      "\n",
      "b'ts\":\\t\\t\\t\\t\\t\\t' #\n",
      "\n",
      "b'\\t\\t\\t\\t\\t\\t\\t\\t\\t\\t' #\n",
      "\n",
      "b'\\t\\t\\t\\t\\t\\t\\t\"15' #\n",
      "\n",
      "b' - Sunderl' #\n",
      "\n",
      "b'and (2002/' #\n",
      "\n",
      "b'03)\",\\r\\n\\t\"F' #\n",
      "\n",
      "b'ewest PL g' #\n",
      "\n",
      "b'oals score' #\n",
      "\n",
      "b'd at home ' #\n",
      "\n",
      "b'in a seaso' #\n",
      "\n",
      "b'n\":\\t\\t\\t\\t\\t\\t\\t' #\n",
      "\n",
      "b'\\t\\t\\t\\t\\t\\t\\t\\t\\t\\t' #\n",
      "\n",
      "b'\\t\\t\"10 - Ma' #\n",
      "\n",
      "b'nchester C' #\n",
      "\n",
      "b'ity (2006/' #\n",
      "\n",
      "b'07), 10 - ' #\n",
      "\n",
      "b'Huddersfie' #\n",
      "\n",
      "b'ld Town (2' #\n",
      "\n",
      "b'018/19)\",\\r' #\n",
      "\n",
      "b'\\n\\t\"Worst P' #\n",
      "\n",
      "b'L goal dif' #\n",
      "\n",
      "b'ference in' #\n",
      "\n",
      "b' a season\"' #\n",
      "\n",
      "b':\\t\\t\\t\\t\\t\\t\\t\\t\\t' #\n",
      "\n",
      "b'\\t\\t\\t\\t\\t\\t\\t\\t\\t\\t' #\n",
      "\n",
      "b'\\t\\t\"-69 - D' #\n",
      "\n",
      "b'erby Count' #\n",
      "\n",
      "b'y (2007/08' #\n",
      "\n",
      "b')\",\\r\\n\\t\"Mos' #\n",
      "\n",
      "b't PL point' #\n",
      "\n",
      "b's in a sea' #\n",
      "\n",
      "b'son for a ' #\n",
      "\n",
      "b'club to be' #\n",
      "\n",
      "b' relegated' #\n",
      "\n",
      "b'\":\\t\\t\\t\\t\\t\\t\\t\\t' #\n",
      "\n",
      "b'\\t\\t\\t\\t\\t\\t\\t\\t\"4' #\n",
      "\n",
      "b'2 - West H' #\n",
      "\n",
      "b'am United ' #\n",
      "\n",
      "b'(2002/03 -' #\n",
      "\n",
      "b' 38 matche' #\n",
      "\n",
      "b's)\",\\r\\n\\t\"Fe' #\n",
      "\n",
      "b'west goals' #\n",
      "\n",
      "b' scored, t' #\n",
      "\n",
      "b'otal\":\\t\\t\\t\\t' #\n",
      "\n",
      "b'\\t\\t\\t\\t\\t\\t\\t\\t\\t\\t' #\n",
      "\n",
      "b'\\t\\t\\t\\t\\t\\t\\t\\t\\t\"' #\n",
      "\n",
      "b'2006-07: 9' #\n",
      "\n",
      "b'31\",\\r\\n\\t\"Yo' #\n",
      "\n",
      "b'u have to ' #\n",
      "\n",
      "b'go as far ' #\n",
      "\n",
      "b'back as Ma' #\n",
      "\n",
      "b'rch 22, 20' #\n",
      "\n",
      "b'03 for the' #\n",
      "\n",
      "b' last time' #\n",
      "\n",
      "b' there was' #\n",
      "\n",
      "b' a Premier' #\n",
      "\n",
      "b' League ga' #\n",
      "\n",
      "b'me with no' #\n",
      "\n",
      "b' substitut' #\n",
      "\n",
      "b'es\":\\t\"(Man' #\n",
      "\n",
      "b' United\\xe2\\x80\\x99' #\n",
      "\n",
      "b's 3-0 vict' #\n",
      "\n",
      "b'ory over F' #\n",
      "\n",
      "b'ulham)\",\\r\\n' #\n",
      "\n",
      "b'\\t\"Fewest P' #\n",
      "\n",
      "b'L goals co' #\n",
      "\n",
      "b'nceded at ' #\n",
      "\n",
      "b'home in a ' #\n",
      "\n",
      "b'season\":\\t\\t' #\n",
      "\n",
      "b'\\t\\t\\t\\t\\t\\t\\t\\t\\t\\t' #\n",
      "\n",
      "b'\\t\\t\\t\\t\\t\\t\\t\"4 ' #\n",
      "\n",
      "b'- Manchest' #\n",
      "\n",
      "b'er United ' #\n",
      "\n",
      "b'(1994/95)\"' #\n",
      "\n",
      "b',\\r\\n\\t\"Fewes' #\n",
      "\n",
      "b't PL goals' #\n",
      "\n",
      "b' conceded ' #\n",
      "\n",
      "b'away in a ' #\n",
      "\n",
      "b'season\":\\t\\t' #\n",
      "\n",
      "b'\\t\\t\\t\\t\\t\\t\\t\\t\\t\\t' #\n",
      "\n",
      "b'\\t\\t\\t\\t\\t\\t\\t\"9 ' #\n",
      "\n",
      "b'- Chelsea ' #\n",
      "\n",
      "b'(2004/05)\"' #\n",
      "\n",
      "b',\\r\\n\\t\"Fewes' #\n",
      "\n",
      "b't PL point' #\n",
      "\n",
      "b's in a sea' #\n",
      "\n",
      "b'son for a ' #\n",
      "\n",
      "b'club avoid' #\n",
      "\n",
      "b'ing relega' #\n",
      "\n",
      "b'tion\":\\t\\t\\t\\t' #\n",
      "\n",
      "b'\\t\\t\\t\\t\\t\\t\\t\\t\\t\\t' #\n",
      "\n",
      "b'\\t\"34 - Wes' #\n",
      "\n",
      "b't Bromwich' #\n",
      "\n",
      "b' Albion (2' #\n",
      "\n",
      "b'004/05)\",\\r' #\n",
      "\n",
      "b'\\n\\t\"Total P' #\n",
      "\n",
      "b'remier Lea' #\n",
      "\n",
      "b'gue Clubs\\xe2' #\n",
      "\n",
      "b'\\x80\\x99 Red Car' #\n",
      "\n",
      "b'ds from 19' #\n",
      "\n",
      "b'92-93 to 2' #\n",
      "\n",
      "b'019-20\":\\t\\t' #\n",
      "\n",
      "b'\\t\\t\\t\\t\\t\\t\\t\\t\\t\\t' #\n",
      "\n",
      "b'\\t\\t\"Everton' #\n",
      "\n",
      "b'\\t94\",\\r\\n\\t\"T' #\n",
      "\n",
      "b'otal Premi' #\n",
      "\n",
      "b'er League ' #\n",
      "\n",
      "b'Clubs\\xe2\\x80\\x99 Y' #\n",
      "\n",
      "b'ellow Card' #\n",
      "\n",
      "b's from 199' #\n",
      "\n",
      "b'2-93 to 20' #\n",
      "\n",
      "b'19-20\":\\t\\t\\t' #\n",
      "\n",
      "b'\\t\\t\\t\\t\\t\\t\\t\\t\\t\\t' #\n",
      "\n",
      "b'\\t\"Chelsea\\t' #\n",
      "\n",
      "b'1640\",\\r\\n\\t\"' #\n",
      "\n",
      "b'most appea' #\n",
      "\n",
      "b'rances in ' #\n",
      "\n",
      "b'a Liverpoo' #\n",
      "\n",
      "b'l shirt\":\\t' #\n",
      "\n",
      "b'\\t\\t\\t\\t\\t\\t\\t\\t\\t\\t' #\n",
      "\n",
      "b'\\t\\t\\t\\t\\t\\t\\t\\t\\t\"' #\n",
      "\n",
      "b'Ian Callag' #\n",
      "\n",
      "b'han: 857 m' #\n",
      "\n",
      "b'atches dur' #\n",
      "\n",
      "b'ing his 19' #\n",
      "\n",
      "b' years at ' #\n",
      "\n",
      "b'Anfield\",\\r' #\n",
      "\n",
      "b'\\n\\t\"Liverpo' #\n",
      "\n",
      "b'ol FC\\xe2\\x80\\x99s ' #\n",
      "\n",
      "b'youngest e' #\n",
      "\n",
      "b'ver starti' #\n",
      "\n",
      "b'ng line-up' #\n",
      "\n",
      "b'\":\\t\\t\\t\\t\\t\\t\\t\\t' #\n",
      "\n",
      "b'\\t\\t\\t\\t\\t\\t\\t\\t\\t\\t' #\n",
      "\n",
      "b'\"19 years ' #\n",
      "\n",
      "b'and 182 da' #\n",
      "\n",
      "b'ys \\xe2\\x80\\x93 Ast' #\n",
      "\n",
      "b'on Villa i' #\n",
      "\n",
      "b'n December' #\n",
      "\n",
      "b' 2019\",\\r\\n\\t' #\n",
      "\n",
      "b'\"Liverpool' #\n",
      "\n",
      "b'\\xe2\\x80\\x99s Liver' #\n",
      "\n",
      "b' Bird badg' #\n",
      "\n",
      "b'e has beco' #\n",
      "\n",
      "b'me a symbo' #\n",
      "\n",
      "b'l\":\\t\\t\\t\\t\\t\\t\\t' #\n",
      "\n",
      "b'\\t\\t\\t\\t\\t\\t\\t\\t\\t\\t' #\n",
      "\n",
      "b'\\t\"in 1901\"' #\n",
      "\n",
      "b',\\r\\n\\t\"Longe' #\n",
      "\n",
      "b'st-serving' #\n",
      "\n",
      "b' player\":\\t' #\n",
      "\n",
      "b'\\t\\t\\t\\t\\t\\t\\t\\t\\t\\t' #\n",
      "\n",
      "b'\\t\\t\\t\\t\\t\\t\\t\\t\\t\\t' #\n",
      "\n",
      "b'\\t\\t\\t\"Elisha' #\n",
      "\n",
      "b' Scott, 21' #\n",
      "\n",
      "b' years and' #\n",
      "\n",
      "b' 52 days (' #\n",
      "\n",
      "b'from 1913 ' #\n",
      "\n",
      "b'to 1934).\"' #\n",
      "\n",
      "b',\\r\\n\\t\"Liver' #\n",
      "\n",
      "b'pool Match' #\n",
      "\n",
      "b'es played ' #\n",
      "\n",
      "b'in PL\":\\t\\t\\t' #\n",
      "\n",
      "b'\\t\\t\\t\\t\\t\\t\\t\\t\\t\\t' #\n",
      "\n",
      "b'\\t\\t\\t\\t\\t\\t\\t\\t\\t\"' #\n",
      "\n",
      "b'1,068\",\\r\\n\\t' #\n",
      "\n",
      "b'\"Most goal' #\n",
      "\n",
      "b's in a deb' #\n",
      "\n",
      "b'ut season:' #\n",
      "\n",
      "b'\":\\t\\t\\t\\t\\t\\t\\t\\t' #\n",
      "\n",
      "b'\\t\\t\\t\\t\\t\\t\\t\\t\\t\\t' #\n",
      "\n",
      "b'\\t\\t\\t\\t\"Moham' #\n",
      "\n",
      "b'ed Salah, ' #\n",
      "\n",
      "b'44 (during' #\n",
      "\n",
      "b' the 2017\\xe2' #\n",
      "\n",
      "b'\\x80\\x9318 seaso' #\n",
      "\n",
      "b'n)\"\\r\\n}\\r\\n\\r\\n' #\n",
      "\n",
      "b'\\r\\nR3 = {\\r\\n' #\n",
      "\n",
      "b'\\t\"Of all t' #\n",
      "\n",
      "b'he players' #\n",
      "\n",
      "b' to take t' #\n",
      "\n",
      "b'en or more' #\n",
      "\n",
      "b' spot kick' #\n",
      "\n",
      "b's in the P' #\n",
      "\n",
      "b'remier Lea' #\n",
      "\n",
      "b'gue, only ' #\n",
      "\n",
      "b'one is to ' #\n",
      "\n",
      "b'have a 100' #\n",
      "\n",
      "b'% success ' #\n",
      "\n",
      "b'rate.\":\\t\\t\\t' #\n",
      "\n",
      "b'\"Yaya Tour' #\n",
      "\n",
      "b'e 11/11\",\\r' #\n",
      "\n",
      "b'\\n\\t\"2015/16' #\n",
      "\n",
      "b' was the f' #\n",
      "\n",
      "b'irst time ' #\n",
      "\n",
      "b'when this ' #\n",
      "\n",
      "b'team had r' #\n",
      "\n",
      "b'ecorded a ' #\n",
      "\n",
      "b'positive g' #\n",
      "\n",
      "b'oal differ' #\n",
      "\n",
      "b'ence in a ' #\n",
      "\n",
      "b'top-flight' #\n",
      "\n",
      "b' season si' #\n",
      "\n",
      "b'nce 1985/8' #\n",
      "\n",
      "b'6.\":\\t\\t\"Wes' #\n",
      "\n",
      "b't Ham\",\\r\\n\\t' #\n",
      "\n",
      "b'\"first pla' #\n",
      "\n",
      "b'yer to sco' #\n",
      "\n",
      "b're hat tri' #\n",
      "\n",
      "b'ck in epl.' #\n",
      "\n",
      "b'\":\\t\\t\\t\\t\\t\\t\\t\\t' #\n",
      "\n",
      "b'\\t\\t\\t\\t\\t\\t\\t\\t\\t\\t' #\n",
      "\n",
      "b'\\t\\t\\t\\t\"Eric ' #\n",
      "\n",
      "b'Cantonna 1' #\n",
      "\n",
      "b'992: leeds' #\n",
      "\n",
      "b' vs Spurs\"' #\n",
      "\n",
      "b',\\r\\n\\t\"Which' #\n",
      "\n",
      "b' player to' #\n",
      "\n",
      "b'ok more co' #\n",
      "\n",
      "b'rners (oft' #\n",
      "\n",
      "b'en badly) ' #\n",
      "\n",
      "b'than he ha' #\n",
      "\n",
      "b'd shots in' #\n",
      "\n",
      "b' the Premi' #\n",
      "\n",
      "b'er League.' #\n",
      "\n",
      "b'\":\\t\\t\\t\\t\\t\\t\\t\\t' #\n",
      "\n",
      "b'\\t\\t\"Iago As' #\n",
      "\n",
      "b'pas\",\\r\\n\\t\"W' #\n",
      "\n",
      "b'hich playe' #\n",
      "\n",
      "b'r has miss' #\n",
      "\n",
      "b'ed the mos' #\n",
      "\n",
      "b't Premier ' #\n",
      "\n",
      "b'League pen' #\n",
      "\n",
      "b'alties\":\\t\\t' #\n",
      "\n",
      "b'\\t\\t\\t\\t\\t\\t\\t\\t\\t\\t' #\n",
      "\n",
      "b'\\t\\t\\t\\t\\t\"Alan' #\n",
      "\n",
      "b' Shearer 1' #\n",
      "\n",
      "b'1\",\\r\\n\\t\"Whi' #\n",
      "\n",
      "b'ch player ' #\n",
      "\n",
      "b'has played' #\n",
      "\n",
      "b' the most ' #\n",
      "\n",
      "b'Premier Le' #\n",
      "\n",
      "b'ague games' #\n",
      "\n",
      "b' of any pl' #\n",
      "\n",
      "b'ayer to be' #\n",
      "\n",
      "b' substitut' #\n",
      "\n",
      "b'ed off in ' #\n",
      "\n",
      "b'all of the' #\n",
      "\n",
      "b'ir PL appe' #\n",
      "\n",
      "b'arances\":\\t' #\n",
      "\n",
      "b'\\t\"Nuri Sah' #\n",
      "\n",
      "b'in (former' #\n",
      "\n",
      "b'ly at Live' #\n",
      "\n",
      "b'rpool) : 7' #\n",
      "\n",
      "b'\",\\r\\n\\t\"Subs' #\n",
      "\n",
      "b'tituted mo' #\n",
      "\n",
      "b're times t' #\n",
      "\n",
      "b'han any ot' #\n",
      "\n",
      "b'her player' #\n",
      "\n",
      "b'\":\\t\\t\\t\\t\\t\\t\\t\\t' #\n",
      "\n",
      "b'\\t\\t\\t\\t\\t\\t\\t\\t\\t\\t' #\n",
      "\n",
      "b'\\t\\t\\t\"Ryan G' #\n",
      "\n",
      "b'iggs (134)' #\n",
      "\n",
      "b'.\",\\r\\n\\t\"The' #\n",
      "\n",
      "b' only PL p' #\n",
      "\n",
      "b'layers to ' #\n",
      "\n",
      "b'score a ha' #\n",
      "\n",
      "b't-trick en' #\n",
      "\n",
      "b'tirely fro' #\n",
      "\n",
      "b'm set piec' #\n",
      "\n",
      "b'es\":\\t\\t\\t\\t\\t\\t' #\n",
      "\n",
      "b'\\t\\t\\t\\t\\t\\t\\t\\t\\t\"' #\n",
      "\n",
      "b'Wayne Roon' #\n",
      "\n",
      "b'ey and Mat' #\n",
      "\n",
      "b't Le Tissi' #\n",
      "\n",
      "b'er\",\\r\\n\\t\"Tw' #\n",
      "\n",
      "b'o players ' #\n",
      "\n",
      "b'have score' #\n",
      "\n",
      "b'd Premier ' #\n",
      "\n",
      "b'League pen' #\n",
      "\n",
      "b'alties wit' #\n",
      "\n",
      "b'h both fee' #\n",
      "\n",
      "b't\":\\t\\t\\t\\t\\t\\t\\t' #\n",
      "\n",
      "b'\\t\\t\\t\\t\\t\\t\\t\\t\\t\"' #\n",
      "\n",
      "b'Bobby Zamo' #\n",
      "\n",
      "b'ra and Oba' #\n",
      "\n",
      "b'femi Marti' #\n",
      "\n",
      "b'ns.\",\\r\\n\\t\"T' #\n",
      "\n",
      "b'here are 3' #\n",
      "\n",
      "b' players t' #\n",
      "\n",
      "b'o score, a' #\n",
      "\n",
      "b'ssist and ' #\n",
      "\n",
      "b'score an o' #\n",
      "\n",
      "b'wn goal in' #\n",
      "\n",
      "b' a single ' #\n",
      "\n",
      "b'Premier Le' #\n",
      "\n",
      "b'ague game.' #\n",
      "\n",
      "b'\":\\t\\t\\t\\t\\t\\t\\t\\t' #\n",
      "\n",
      "b'\\t\"Wayne Ro' #\n",
      "\n",
      "b'oney, Gare' #\n",
      "\n",
      "b'th Bale an' #\n",
      "\n",
      "b'd Kevin Da' #\n",
      "\n",
      "b'vies\"\\r\\n}\\r\\n' #\n",
      "\n",
      "b'\\r\\nL1 = lis' #\n",
      "\n",
      "b't(R1.items' #\n",
      "\n",
      "b'())\\r\\nrando' #\n",
      "\n",
      "b'm.shuffle(' #\n",
      "\n",
      "b'L1)\\r\\n\\r\\n\\r\\nL' #\n",
      "\n",
      "b'2 = list(R' #\n",
      "\n",
      "b'2.items())' #\n",
      "\n",
      "b'\\r\\nrandom.s' #\n",
      "\n",
      "b'huffle(L2)' #\n",
      "\n",
      "b'\\r\\n\\r\\n\\r\\nL3 =' #\n",
      "\n",
      "b' list(R3.i' #\n",
      "\n",
      "b'tems())\\r\\nr' #\n",
      "\n",
      "b'andom.shuf' #\n",
      "\n",
      "b'fle(L3)\\r\\n\\r' #\n",
      "\n",
      "b'\\ni = 0\\r\\nfo' #\n",
      "\n",
      "b'r Q, A in ' #\n",
      "\n",
      "b'L1:\\r\\n\\ti +=' #\n",
      "\n",
      "b' 1\\r\\n\\tprint' #\n",
      "\n",
      "b'(f\"{i}. {Q' #\n",
      "\n",
      "b'}:\")\\r\\n\\tpri' #\n",
      "\n",
      "b'nt(f\"\\\\t\\\\t\\\\' #\n",
      "\n",
      "b't\\\\t{A}\")\\r\\n' #\n",
      "\n",
      "b'\\r\\n' #\n",
      "\n"
     ]
    }
   ],
   "source": [
    "file = open(\"try.py\", 'rb')\n",
    "while True:\n",
    "    chunk = file.read(10)\n",
    "    if not chunk:\n",
    "        break\n",
    "    print(chunk, '#\\n')"
   ]
  },
  {
   "cell_type": "markdown",
   "metadata": {},
   "source": [
    "#### Making an object iterable and calling the next value"
   ]
  },
  {
   "cell_type": "code",
   "execution_count": null,
   "metadata": {},
   "outputs": [],
   "source": [
    "sir1 = iter(\"Dragos\")\n",
    "sir2 = \"Bratu\".__iter__()\n",
    "print(sir1.__next__())\n",
    "print(next(sir2))"
   ]
  },
  {
   "cell_type": "markdown",
   "metadata": {},
   "source": [
    "#### Lists are not iterators"
   ]
  },
  {
   "cell_type": "code",
   "execution_count": 63,
   "metadata": {},
   "outputs": [
    {
     "data": {
      "text/plain": [
       "1"
      ]
     },
     "execution_count": 63,
     "metadata": {},
     "output_type": "execute_result"
    }
   ],
   "source": [
    "L = [1, 2, 3]\n",
    "L = iter(L)\n",
    "next(L)"
   ]
  },
  {
   "cell_type": "markdown",
   "metadata": {},
   "source": [
    "#### Enumerate"
   ]
  },
  {
   "cell_type": "code",
   "execution_count": 64,
   "metadata": {},
   "outputs": [
    {
     "name": "stdout",
     "output_type": "stream",
     "text": [
      "(0, 'D')\n",
      "(1, 'r')\n",
      "(2, 'a')\n",
      "(3, 'g')\n",
      "(4, 'o')\n",
      "(5, 's')\n"
     ]
    }
   ],
   "source": [
    "E = enumerate(\"Dragos\")\n",
    "print(*list(E), sep=\"\\n\")"
   ]
  },
  {
   "cell_type": "markdown",
   "metadata": {},
   "source": [
    "#### List comprehensions may often run twice as fast\n",
    "#### Comprehension for reading files: won’t load a file into memory all at once like some other techniques\n",
    "#### Again, especially for large files, the advantages of list comprehensions can be significant."
   ]
  },
  {
   "cell_type": "code",
   "execution_count": 65,
   "metadata": {},
   "outputs": [
    {
     "name": "stdout",
     "output_type": "stream",
     "text": [
      "['1. Machine learning theory', '2. Machine learning examples', '4. Multi threading', '5. Big Data: Kafka/Spark/Hadoop']\n"
     ]
    }
   ],
   "source": [
    "print([line.rstrip() for line in open('next_steps.txt')])"
   ]
  },
  {
   "cell_type": "code",
   "execution_count": 66,
   "metadata": {},
   "outputs": [
    {
     "name": "stdout",
     "output_type": "stream",
     "text": [
      "['2. MACHINE LEARNING EXAMPLES']\n"
     ]
    }
   ],
   "source": [
    "print([line.rstrip().upper() for line in open(\"next_steps.txt\") if line[0].lower() == \"2\"])"
   ]
  },
  {
   "cell_type": "markdown",
   "metadata": {},
   "source": [
    "#### Nested comprehension lists"
   ]
  },
  {
   "cell_type": "code",
   "execution_count": 67,
   "metadata": {},
   "outputs": [
    {
     "data": {
      "text/plain": [
       "['D1', 'D3', 'r1', 'r3', 'a1', 'a3']"
      ]
     },
     "execution_count": 67,
     "metadata": {},
     "output_type": "execute_result"
    }
   ],
   "source": [
    "[l1 + l2 for l1 in 'Dra' for l2 in \"123\" if int(l2) % 2 == 1]"
   ]
  },
  {
   "cell_type": "markdown",
   "metadata": {},
   "source": [
    "#### Lambda use"
   ]
  },
  {
   "cell_type": "code",
   "execution_count": 68,
   "metadata": {},
   "outputs": [
    {
     "data": {
      "text/plain": [
       "[0, 1, 4]"
      ]
     },
     "execution_count": 68,
     "metadata": {},
     "output_type": "execute_result"
    }
   ],
   "source": [
    "M = map(lambda x: x ** 2, range(3))\n",
    "list(M)"
   ]
  },
  {
   "cell_type": "markdown",
   "metadata": {},
   "source": [
    "#### Reduce"
   ]
  },
  {
   "cell_type": "code",
   "execution_count": 69,
   "metadata": {},
   "outputs": [
    {
     "name": "stdout",
     "output_type": "stream",
     "text": [
      "15\n",
      "24\n"
     ]
    }
   ],
   "source": [
    "from functools import reduce\n",
    "print(reduce(lambda x, y: x + y, range(6)))\n",
    "print(reduce(lambda x, y: x * y, [1, 2, 3, 4]))"
   ]
  },
  {
   "cell_type": "markdown",
   "metadata": {},
   "source": [
    "#### Multiple comprehension"
   ]
  },
  {
   "cell_type": "code",
   "execution_count": null,
   "metadata": {},
   "outputs": [],
   "source": [
    "print([x + y + z \tfor x in \"spam\" if x in 'sp'\n",
    "\t\t\t\t\tfor y in \"SPAM\" if y in \"AM\"\n",
    "\t\t\t\t\tfor z in \"boom\" if z == 'o'])\n"
   ]
  },
  {
   "cell_type": "markdown",
   "metadata": {},
   "source": [
    "#### Comprehension"
   ]
  },
  {
   "cell_type": "code",
   "execution_count": null,
   "metadata": {},
   "outputs": [],
   "source": [
    "M = [[1, 2, 3],\n",
    "\t[4, 5, 6],\n",
    "\t[7, 8, 9]]\n",
    "\n",
    "print([[col + 10 for col in row] for row in M])\n",
    "# or\n",
    "print([col + 10 for row in M for col in row])\n",
    "# map is faster than for, and comprehension is faster than map"
   ]
  },
  {
   "cell_type": "markdown",
   "metadata": {},
   "source": [
    "#### Generators can be enumerated"
   ]
  },
  {
   "cell_type": "code",
   "execution_count": 70,
   "metadata": {},
   "outputs": [
    {
     "name": "stdout",
     "output_type": "stream",
     "text": [
      "{1: 10, 2: 20, 3: 30, 4: 40}\n"
     ]
    }
   ],
   "source": [
    "def my_gen(L):\n",
    "\tfor el in L:\n",
    "\t\tyield el * 10\n",
    "\n",
    "x = my_gen([1, 2, 3, 4])\n",
    "print({a: b for a, b in enumerate(x, start=1)})"
   ]
  },
  {
   "cell_type": "markdown",
   "metadata": {},
   "source": [
    "#### You can use join for generators"
   ]
  },
  {
   "cell_type": "code",
   "execution_count": 71,
   "metadata": {},
   "outputs": [
    {
     "name": "stdout",
     "output_type": "stream",
     "text": [
      "AAA#BBB#CCC\n"
     ]
    }
   ],
   "source": [
    "print('#'.join((x.upper() for x in 'aaa,bbb,ccc'.split(','))))"
   ]
  },
  {
   "cell_type": "markdown",
   "metadata": {},
   "source": [
    "#### Generator expressions are a memory-space optimization"
   ]
  },
  {
   "cell_type": "markdown",
   "metadata": {},
   "source": [
    "#### Exhausting a generator"
   ]
  },
  {
   "cell_type": "code",
   "execution_count": null,
   "metadata": {},
   "outputs": [],
   "source": [
    "G = (c * 3 for c in 'BRATU')\n",
    "print(next(G))\n",
    "print(next(G))\n",
    "print(list(G))\n",
    "print(next(G))"
   ]
  },
  {
   "cell_type": "markdown",
   "metadata": {},
   "source": [
    "#### Python 'find' operation"
   ]
  },
  {
   "cell_type": "code",
   "execution_count": null,
   "metadata": {},
   "outputs": [],
   "source": [
    "import os\n",
    "for (root, subs, files) in os.walk('.'):\n",
    "\tfor name in files:\n",
    "\t\tif name.startswith('U'):\n",
    "\t\t\tprint(root, name.upper())"
   ]
  },
  {
   "cell_type": "markdown",
   "metadata": {},
   "source": [
    "#### Simple variables are not changed in place, mutable variables are "
   ]
  },
  {
   "cell_type": "code",
   "execution_count": 72,
   "metadata": {},
   "outputs": [
    {
     "name": "stdout",
     "output_type": "stream",
     "text": [
      "1 ['spam', 2]\n"
     ]
    }
   ],
   "source": [
    "def changer(a, b):\n",
    "\ta= 2\n",
    "\tb[0] = 'spam'\n",
    "X = 1\n",
    "L = [1, 2]\n",
    "changer(X, L)\n",
    "print(X, L)"
   ]
  },
  {
   "cell_type": "markdown",
   "metadata": {},
   "source": [
    "### Mutable and imutable objects"
   ]
  },
  {
   "cell_type": "code",
   "execution_count": 73,
   "metadata": {},
   "outputs": [
    {
     "name": "stdout",
     "output_type": "stream",
     "text": [
      "a=2, x=1\n",
      "M=[3, 2], L=[3, 2]\n"
     ]
    }
   ],
   "source": [
    "x = 1\n",
    "a = x\n",
    "a = 2\n",
    "print(f'a={a}, x={x}')\n",
    "L = [1, 2]\n",
    "M = L\n",
    "M[0] = 3\n",
    "print(f'M={M}, L={L}')"
   ]
  },
  {
   "cell_type": "markdown",
   "metadata": {},
   "source": [
    "#### Arguments"
   ]
  },
  {
   "cell_type": "code",
   "execution_count": 75,
   "metadata": {},
   "outputs": [
    {
     "name": "stdout",
     "output_type": "stream",
     "text": [
      "1\n",
      "(2, 3)\n",
      "{'c': 4, 'd': 5}\n",
      "1 2 3\n"
     ]
    }
   ],
   "source": [
    "def function(a, *b, **c):\n",
    "\tprint(a)\n",
    "\tprint(b)\n",
    "\tprint(c)\n",
    "function(1, 2, 3, c=4, d=5)\n",
    "def function(a, b, c):\n",
    "\tprint(a, b, c)\n",
    "my_dict = {'a':1, 'b':2, 'c':3} \n",
    "function(**my_dict) # # Same as func(a=1, b=2, c=3)"
   ]
  },
  {
   "cell_type": "markdown",
   "metadata": {},
   "source": [
    "#### Tracer function"
   ]
  },
  {
   "cell_type": "code",
   "execution_count": null,
   "metadata": {},
   "outputs": [],
   "source": [
    "def tracer(func, *pargs, **kargs):\n",
    "\tprint('calling:', func.__name__)\n",
    "\treturn func(*pargs, **kargs)\n",
    "def my_func(a, b, c, d):\n",
    "\treturn a + b + c + d\n",
    "print(tracer(my_func, 1, 2, c=4, d=10))"
   ]
  },
  {
   "cell_type": "markdown",
   "metadata": {},
   "source": [
    "#### Timing your applications"
   ]
  },
  {
   "cell_type": "code",
   "execution_count": null,
   "metadata": {},
   "outputs": [],
   "source": [
    "import time\n",
    "def timer(func, *args):\n",
    "\tstart = time.perf_counter()\n",
    "\tfor i in range(1000):\n",
    "\t\tfunc(*args)\n",
    "\treturn time.perf_counter() - start\n",
    "print(timer(pow, 2, 1000))\n",
    "print(timer(str.upper, 'spam'))"
   ]
  },
  {
   "cell_type": "markdown",
   "metadata": {},
   "source": [
    "#### Subtle assignment"
   ]
  },
  {
   "cell_type": "code",
   "execution_count": null,
   "metadata": {},
   "outputs": [],
   "source": [
    "x = 99\n",
    "def printare1():\n",
    "\tprint(x)\n",
    "def printare2():\n",
    "\tprint(x)\n",
    "\tx = 100\n",
    "def printare3():\n",
    "\timport __main__\n",
    "\tprint(__main__.x)\n",
    "\tx = 100\n",
    "\tprint(x)\n",
    "printare1()\n",
    "printare2() # UnboundLocalError: local variable 'x' referenced before assignment\n",
    "printare3()"
   ]
  },
  {
   "cell_type": "markdown",
   "metadata": {},
   "source": [
    "#### PythonPath\n",
    "In brief, PYTHONPATH is simply a list of user-defined and platform-specific names of directories that contain Python code files."
   ]
  },
  {
   "cell_type": "markdown",
   "metadata": {},
   "source": [
    "#### .pth path file directories (configurable)\n",
    "Python allows users to add directories to the module search path by simply listing them, one per line, in a text file whose name ends with a .pth suffix (for “path”).\n",
    "In short, text files of directory names dropped in an appropriate directory can serve roughly the same role as the PYTHONPATH environment variable setting.\n",
    "e.g.: pydirs.pth\n",
    "c:\\pycode\\utilities \n",
    "d:\\pycode\\package1"
   ]
  },
  {
   "cell_type": "markdown",
   "metadata": {},
   "source": [
    "#### Import b might load:\n",
    "- A source code file named b.py\n",
    "- A byte code file named b.pyc\n",
    "- An optimized byte code file named b.pyo (typically 5 percent faster than .pyc files)\n",
    "- A directory named b, for package imports\n",
    "- A compiled extension module (dy- namically linked when imported) b.so on Linux., b.dll or b.pyd on Windows\n",
    "- A ZIP file component that is automatically extracted when imported\n",
    "- An in-memory image, for frozen executables\n",
    "- A .NET component, in the IronPython version of Python\n",
    "\n",
    "If you have both a b.py and a b.so in different directories, Python will always load the one found in the first (leftmost) directory of your module search path during the left- to-right search of sys.path."
   ]
  },
  {
   "cell_type": "markdown",
   "metadata": {},
   "source": [
    "#### What is a namespace?\n",
    "A namespace is a self-contained package of variables, which are known as the attributes of the namespace object."
   ]
  },
  {
   "cell_type": "markdown",
   "metadata": {},
   "source": [
    "#### Second and later imports don’t rerun the module’s code"
   ]
  },
  {
   "cell_type": "code",
   "execution_count": null,
   "metadata": {},
   "outputs": [],
   "source": [
    "import simple # dragos = 'boss'\n",
    "\n",
    "print(simple.dragos) # boss\n",
    "simple.dragos = 'baros'\n",
    "print(simple.dragos) # baros\n",
    "import simple\n",
    "print(simple.dragos) # baros"
   ]
  },
  {
   "cell_type": "markdown",
   "metadata": {},
   "source": [
    "#### Reload a module"
   ]
  },
  {
   "cell_type": "code",
   "execution_count": null,
   "metadata": {},
   "outputs": [],
   "source": [
    "import simple # dragos = 'boss'\n",
    "\n",
    "print(simple.dragos) # boss\n",
    "from imp import reload\n",
    "reload(simple)\n",
    "print(simple.dragos) # altceva"
   ]
  },
  {
   "cell_type": "markdown",
   "metadata": {},
   "source": [
    "#### Packages\n",
    "import dir1.dir2.mod # dir1/dir2/mod.py <br>\n",
    "!!! TO BE CONTINUED!!!"
   ]
  },
  {
   "cell_type": "markdown",
   "metadata": {},
   "source": [
    "#### Polymorphism\n",
    "Recall that polymorphism means that the meaning of an operation depends on the object being operated on."
   ]
  },
  {
   "cell_type": "markdown",
   "metadata": {},
   "source": [
    "#### Classes"
   ]
  },
  {
   "cell_type": "code",
   "execution_count": null,
   "metadata": {},
   "outputs": [],
   "source": [
    "class FirstClass:\n",
    "\n",
    "\tdef data(self, data):\n",
    "\t\tself.data = data\n",
    "\n",
    "\n",
    "\tdef printing(self):\n",
    "\t\tprint(f\"First print: {self.data}\")\n",
    "\n",
    "class SecondClass(FirstClass):\n",
    "\n",
    "\tdef data(self, data):\n",
    "\t\tself.data = data\n",
    "\n",
    "\tdef printing2(self):\n",
    "\t\tprint(f\"Second printing: {self.data}\")\n",
    "\n",
    "class ThirdClass(SecondClass):\n",
    "\n",
    "\tdef __init__(self, data):\n",
    "\t\tself.data = data\n",
    "\n",
    "\tdef __add__(self, other):\n",
    "\t\treturn ThirdClass(self.data + other)\n",
    "\n",
    "\tdef __str__(self):\n",
    "\t\treturn f\"This object is: {self.data}\"\n",
    "\n",
    "\tdef mul(self, other):\n",
    "\t\treturn f\"Multiplication is: {self.data * other}\"\n",
    "\n",
    "\n",
    "#### to not see things when imported:\n",
    "if __name__ == '__main__':\n",
    "\tobj = ThirdClass(\"Dragos\")\n",
    "\tprint(obj.mul(2))\n",
    "\tprint(obj)\n",
    "\tprint(obj + ' Bratu') # print(' Bratu' + obj) does not work"
   ]
  },
  {
   "cell_type": "markdown",
   "metadata": {},
   "source": [
    "#### Encapsulation\n",
    "Wrapping up operation logic behind interfaces, such that each operation is coded only once in our program.\n"
   ]
  },
  {
   "cell_type": "markdown",
   "metadata": {},
   "source": [
    "#### Attribute LEGB"
   ]
  },
  {
   "cell_type": "code",
   "execution_count": null,
   "metadata": {},
   "outputs": [],
   "source": [
    "class clasamea:\n",
    "\tspam = 99\n",
    "\n",
    "x = clasamea()\n",
    "y = clasamea()\n",
    "print(x.spam, y.spam)\n",
    "x.spam = 88\n",
    "clasamea.spam = 100\n",
    "print(x.spam, y.spam)"
   ]
  },
  {
   "cell_type": "markdown",
   "metadata": {},
   "source": [
    "#### Calling the constructor for super class as well:"
   ]
  },
  {
   "cell_type": "code",
   "execution_count": null,
   "metadata": {},
   "outputs": [],
   "source": [
    "class Parinte:\n",
    "\tdef __init__(self, nume):\n",
    "\t\tself.nume_familie = nume\n",
    "\n",
    "class Copil(Parinte):\n",
    "\tdef __init__(self, nume, prenume):\n",
    "\t\tParinte.__init__(self, nume)\n",
    "\t\tself.nume_mic = prenume\n",
    "\tdef __str__(self):\n",
    "\t\treturn f'Persoana aceasta este {self.nume_mic} {self.nume_familie.upper()}'\n",
    "\n",
    "dragos = Copil('Bratu', 'Dragos')\n",
    "print(dragos)"
   ]
  },
  {
   "cell_type": "markdown",
   "metadata": {},
   "source": [
    "#### LEGB rule with classes"
   ]
  },
  {
   "cell_type": "code",
   "execution_count": null,
   "metadata": {},
   "outputs": [],
   "source": [
    "x = 1\n",
    "class mu:\n",
    "\tx = 2\n",
    "\tprint(x) \t\t\t# 2\n",
    "\tdef method1(self):\n",
    "\t\tprint(x)\t\t# 1\n",
    "\t\tprint(self.x)\t# 2\n",
    "obj = mu()\n",
    "obj.method1()"
   ]
  },
  {
   "cell_type": "markdown",
   "metadata": {},
   "source": [
    "#### Abstract classes"
   ]
  },
  {
   "cell_type": "code",
   "execution_count": null,
   "metadata": {},
   "outputs": [],
   "source": [
    "from abc import ABC, abstractmethod\n",
    "\n",
    "class Shape(ABC):\n",
    "\n",
    "\t@abstractmethod\n",
    "\tdef area(self):\n",
    "\t\tpass\n",
    "\n",
    "\t@abstractmethod\n",
    "\tdef perimeter(self):\n",
    "\t\tpass\n",
    "\n",
    "class Square(Shape):\n",
    "\n",
    "\tdef __init__(self, side):\n",
    "\t\tself.side = side\n",
    "\n",
    "\tdef area(self):\n",
    "\t\treturn self.side * self.side\n",
    "\n",
    "\tdef perimeter(self):\n",
    "\t\treturn self.side * 4\n",
    "\n",
    "my_square = Square(5)\n",
    "print(my_square.perimeter())\n",
    "print(my_square.area())"
   ]
  },
  {
   "cell_type": "markdown",
   "metadata": {},
   "source": [
    "#### Bakery example"
   ]
  },
  {
   "cell_type": "code",
   "execution_count": 77,
   "metadata": {},
   "outputs": [
    {
     "name": "stdout",
     "output_type": "stream",
     "text": [
      "Jose is served by Employee: Gigel with the 4000 salary\n",
      "MrProper makes pizza\n",
      "Oven baking\n",
      "Jose pays to Employee: Gigel with the 4000 salary\n",
      "Wayne is served by Employee: Gigel with the 4000 salary\n",
      "MrProper makes pizza\n",
      "Oven baking\n",
      "Wayne pays to Employee: Gigel with the 4000 salary\n"
     ]
    }
   ],
   "source": [
    "class Employee:\n",
    "\n",
    "\tdef __init__(self, name, pay):\n",
    "\t\tself.name = name\n",
    "\t\tself.pay = pay\n",
    "\n",
    "\tdef work(self):\n",
    "\t\tprint(f\"{self.name} does stuff\")\n",
    "\n",
    "\tdef give_raise(self, percentage):\n",
    "\t\tself.pay = self.pay * (1 + percentage)\n",
    "\n",
    "\tdef __repr__(self):\n",
    "\t\treturn f\"Employee: {self.name} with the {self.pay} salary\"\n",
    "\n",
    "class Chef(Employee):\n",
    "\n",
    "\tdef __init__(self, name):\n",
    "\t\tEmployee.__init__(self, name, 50000)\n",
    "\n",
    "\tdef work(self):\n",
    "\t\tprint(f\"{self.name} makes food\")\n",
    "\n",
    "class Server(Employee):\n",
    "\n",
    "\tdef __init__(self, name):\n",
    "\t\tEmployee.__init__(self, name, 4000)\n",
    "\n",
    "\tdef work(self):\n",
    "\t\tprint(f\"{self.name} serves people\")\n",
    "\n",
    "class PizzaRobot(Chef):\n",
    "\n",
    "\tdef __init__(self, name):\n",
    "\t\tChef.__init__(self, name)\n",
    "\n",
    "\tdef work(self):\n",
    "\t\tprint(f'{self.name} makes pizza')\n",
    "\n",
    "\n",
    "class Customer:\n",
    "\n",
    "\tdef __init__(self, name):\n",
    "\t\tself.name = name\n",
    "\n",
    "\tdef order(self, server):\n",
    "\t\tprint(f\"{self.name} is served by {server}\")\n",
    "\n",
    "\tdef pays(self, server):\n",
    "\t\tprint(f\"{self.name} pays to {server}\")\n",
    "\n",
    "class Oven:\n",
    "\tdef bake(self):\n",
    "\t\tprint(\"Oven baking\")\n",
    "\n",
    "class PizzaShop:\n",
    "\tdef __init__(self):\n",
    "\t\tself.server = Server('Gigel')\n",
    "\t\tself.chef = PizzaRobot('MrProper')\n",
    "\t\tself.oven = Oven()\n",
    "\n",
    "\tdef order(self, name):\n",
    "\t\tcustomer = Customer(name)\n",
    "\t\tcustomer.order(self.server)\n",
    "\t\tself.chef.work()\n",
    "\t\tself.oven.bake()\n",
    "\t\tcustomer.pays(self.server)\n",
    "\n",
    "if __name__ == \"__main__\":\n",
    "\tscene = PizzaShop()\n",
    "\tscene.order('Jose')\n",
    "\tscene.order('Wayne')"
   ]
  },
  {
   "cell_type": "markdown",
   "metadata": {},
   "source": [
    "#### Data processor"
   ]
  },
  {
   "cell_type": "code",
   "execution_count": null,
   "metadata": {},
   "outputs": [],
   "source": [
    "class Processor:\n",
    "\tdef __init__(self, reader, writer):\n",
    "\t\tself.reader = reader\n",
    "\t\tself.writer = writer\n",
    "\n",
    "\tdef process(self):\n",
    "\t\twhile True:\n",
    "\t\t\tdata = self.reader.readline()\n",
    "\t\t\tif not data:\n",
    "\t\t\t\tbreak\n",
    "\t\t\tdata = self.converter(data)\n",
    "\t\t\tself.writer.write(data)\n",
    "\n",
    "\tdef converter(self, data):\n",
    "\t\tassert False, 'converter must be defined'\n",
    "\n",
    "class Uppercase(Processor):\n",
    "\n",
    "\tdef converter(self, data):\n",
    "\t\treturn data.upper()\n",
    "\n",
    "\n",
    "if __name__ == \"__main__\":\n",
    "\timport sys\n",
    "\tobj = Uppercase(open('next_steps.txt'), sys.stdout)\n",
    "\tobj.process()"
   ]
  },
  {
   "cell_type": "markdown",
   "metadata": {},
   "source": [
    "#### Pseudo_private variables"
   ]
  },
  {
   "cell_type": "code",
   "execution_count": null,
   "metadata": {},
   "outputs": [],
   "source": [
    "class C1:\n",
    "\tdef meth1(self):\n",
    "\t\tself.X = 88\n",
    "\tdef meth2(self):\n",
    "\t\tprint(self.X)\n",
    "\n",
    "class C2:\n",
    "\tdef metha(self):\n",
    "\t\tself.X = 99\n",
    "\tdef methb(self):\n",
    "\t\tprint(self.X)\n",
    "\n",
    "class C3(C1, C2):\n",
    "\tpass\n",
    "\n",
    "obj = C3()\n",
    "obj.meth1()\n",
    "obj.metha()\n",
    "obj.meth2()\n",
    "obj.methb()"
   ]
  },
  {
   "cell_type": "code",
   "execution_count": null,
   "metadata": {},
   "outputs": [],
   "source": [
    "class C1:\n",
    "\tdef meth1(self):\n",
    "\t\tself.__X = 88 # Becomes _C1__X in I\n",
    "\tdef meth2(self):\n",
    "\t\tprint(self.__X)\n",
    "\n",
    "class C2:\n",
    "\tdef metha(self):\n",
    "\t\tself.__X = 99 # Becomes _C2__X in I\n",
    "\tdef methb(self):\n",
    "\t\tprint(self.__X)\n",
    "\n",
    "class C3(C1, C2):\n",
    "\tpass\n",
    "\n",
    "obj = C3()\n",
    "obj.meth1()\n",
    "obj.metha()\n",
    "obj.meth2()\n",
    "obj.methb()"
   ]
  },
  {
   "cell_type": "markdown",
   "metadata": {},
   "source": [
    "#### Methods Are Objects: Bound or Unbound\n",
    "- Unbound (class) method objects: no self\n",
    "- Bound (instance) method objects: self + function pairs"
   ]
  },
  {
   "cell_type": "code",
   "execution_count": null,
   "metadata": {},
   "outputs": [],
   "source": [
    "class Selfless:\n",
    "\n",
    "\tdef __init__(self, data):\n",
    "\t\tself.data = data\n",
    "\n",
    "\tdef selfless(arg1, arg2):\n",
    "\t\treturn arg1 + arg2\n",
    "\n",
    "\tdef normal(self, arg1, arg2):\n",
    "\t\treturn self.data + arg1 + arg2\n",
    "\n",
    "X = Selfless(2)\n",
    "print(Selfless.normal(X, 3, 4)) # 9\n",
    "print(Selfless.selfless(3, 4)) # 7\n",
    "print(X.normal(2, 3)) # 7\n",
    "print(X.selfless(2, 3)) # TypeError: selfless() takes 2 positional arguments but 3 were given"
   ]
  },
  {
   "cell_type": "markdown",
   "metadata": {},
   "source": [
    "#### Generic Object Factories"
   ]
  },
  {
   "cell_type": "code",
   "execution_count": 30,
   "metadata": {},
   "outputs": [
    {
     "name": "stdout",
     "output_type": "stream",
     "text": [
      "99\n",
      "Dragos AI Engineer\n",
      "Arthur Chomeur\n"
     ]
    }
   ],
   "source": [
    "def factory(aClass, *pargs, **kargs):\n",
    "\treturn aClass(*pargs, **kargs)\n",
    "\n",
    "class Spam:\n",
    "\tdef doit(self, message):\n",
    "\t\tprint(message)\n",
    "\n",
    "class Person:\n",
    "\tdef __init__(self, name, job='Chomeur'):\n",
    "\t\tself.name = name\n",
    "\t\tself.job = job\n",
    "\n",
    "object1 = factory(Spam)\n",
    "object2 = factory(Person, \"Dragos\", \"AI Engineer\")\n",
    "object3 = factory(Person, name=\"Arthur\")\n",
    "object1.doit(99)\n",
    "print(object2.name, object2.job)\n",
    "print(object3.name, object3.job)"
   ]
  },
  {
   "cell_type": "code",
   "execution_count": null,
   "metadata": {},
   "outputs": [],
   "source": []
  },
  {
   "cell_type": "code",
   "execution_count": null,
   "metadata": {},
   "outputs": [],
   "source": []
  },
  {
   "cell_type": "code",
   "execution_count": null,
   "metadata": {},
   "outputs": [],
   "source": []
  },
  {
   "cell_type": "code",
   "execution_count": null,
   "metadata": {},
   "outputs": [],
   "source": []
  },
  {
   "cell_type": "code",
   "execution_count": null,
   "metadata": {},
   "outputs": [],
   "source": []
  }
 ],
 "metadata": {
  "kernelspec": {
   "display_name": "Python 3",
   "language": "python",
   "name": "python3"
  },
  "language_info": {
   "codemirror_mode": {
    "name": "ipython",
    "version": 3
   },
   "file_extension": ".py",
   "mimetype": "text/x-python",
   "name": "python",
   "nbconvert_exporter": "python",
   "pygments_lexer": "ipython3",
   "version": "3.6.10"
  }
 },
 "nbformat": 4,
 "nbformat_minor": 4
}
