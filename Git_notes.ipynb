{
 "cells": [
  {
   "cell_type": "markdown",
   "metadata": {},
   "source": [
    "# GIT notes\n",
    "\n",
    "Git is a version control system for tracking changes in files"
   ]
  },
  {
   "cell_type": "markdown",
   "metadata": {},
   "source": [
    "### Make a new repository:\n",
    "1. Create the folder with the files inside\n",
    "2. Remove everything git related:\n",
    " - rd .git /S/Q\n",
    "3. Initialize:\n",
    " - git init\n",
    "4. Add everything to be commited:\n",
    " - git add .\n",
    "5. Commit:\n",
    " - git commit -m \"My first commitment\"\n",
    "    - Attention! Single quotes ( ' ) doesn't work if your comment has multiple words\n",
    "6. Connect the folder with the repository:\n",
    " - git remote add origin https://github.com/dragosbratuflorian19/my_notes.git\n",
    "7. Push the files to the repository:\n",
    " - git push -u origin master"
   ]
  },
  {
   "cell_type": "markdown",
   "metadata": {},
   "source": [
    "### Remove a cached file:\n",
    " - git rm - -cached < file >"
   ]
  },
  {
   "cell_type": "markdown",
   "metadata": {},
   "source": [
    "### Check status:\n",
    " - git status"
   ]
  },
  {
   "cell_type": "markdown",
   "metadata": {},
   "source": [
    "### Pull the latest changes from the remote repository:\n",
    " - git pull"
   ]
  },
  {
   "cell_type": "markdown",
   "metadata": {},
   "source": [
    "### Create a new branch:\n",
    " - git branch < o_ramura >"
   ]
  },
  {
   "cell_type": "markdown",
   "metadata": {},
   "source": [
    "### Switch to the other branch:\n",
    " - git checkout < o_ramura >"
   ]
  },
  {
   "cell_type": "markdown",
   "metadata": {},
   "source": [
    "### Merge 2 branches:\n",
    " - git merge < alta_ramura >"
   ]
  },
  {
   "cell_type": "markdown",
   "metadata": {},
   "source": [
    "### Clone a repo:\n",
    " - git clone https://github.com/dragosbratuflorian19/MyAppSample.git"
   ]
  },
  {
   "cell_type": "markdown",
   "metadata": {},
   "source": [
    "### Configure your account:\n",
    " - git config --global user.email 'dragosbratuflorian19@gmail.com'\n",
    " - git config --global user.name 'dragosbratuflorian19'"
   ]
  }
 ],
 "metadata": {
  "kernelspec": {
   "display_name": "Python 3",
   "language": "python",
   "name": "python3"
  },
  "language_info": {
   "codemirror_mode": {
    "name": "ipython",
    "version": 3
   },
   "file_extension": ".py",
   "mimetype": "text/x-python",
   "name": "python",
   "nbconvert_exporter": "python",
   "pygments_lexer": "ipython3",
   "version": "3.6.10"
  }
 },
 "nbformat": 4,
 "nbformat_minor": 4
}
